{
  "nbformat": 4,
  "nbformat_minor": 0,
  "metadata": {
    "colab": {
      "name": "catergory_classification_medium.ipynb",
      "provenance": [],
      "collapsed_sections": [],
      "mount_file_id": "12qJ75lFrQ8XxyfTtrUONQzqUvCVj09YU",
      "authorship_tag": "ABX9TyNXzjwsGDWRQrJcYhDISU6O",
      "include_colab_link": true
    },
    "kernelspec": {
      "name": "python3",
      "display_name": "Python 3"
    },
    "accelerator": "GPU"
  },
  "cells": [
    {
      "cell_type": "markdown",
      "metadata": {
        "id": "view-in-github",
        "colab_type": "text"
      },
      "source": [
        "<a href=\"https://colab.research.google.com/github/amanmathur19/image-classification/blob/master/catergory_classification_medium_inception_v3.ipynb\" target=\"_parent\"><img src=\"https://colab.research.google.com/assets/colab-badge.svg\" alt=\"Open In Colab\"/></a>"
      ]
    },
    {
      "cell_type": "code",
      "metadata": {
        "id": "DqnY1AMwfq1v",
        "colab_type": "code",
        "colab": {}
      },
      "source": [
        "import keras\n",
        "from keras.applications.inception_v3 import InceptionV3\n",
        "from keras.models import Sequential\n",
        "from keras.layers import Dense, Dropout, Flatten\n",
        "from keras.layers import Conv2D, MaxPooling2D\n",
        "from keras.utils import to_categorical\n",
        "from keras.preprocessing import image\n",
        "from keras.optimizers import SGD\n",
        "import numpy as np\n",
        "import pandas as pd\n",
        "import matplotlib.pyplot as plt\n",
        "from sklearn.model_selection import train_test_split\n",
        "from keras.utils import to_categorical\n",
        "from tqdm import tqdm\n"
      ],
      "execution_count": 3,
      "outputs": []
    },
    {
      "cell_type": "code",
      "metadata": {
        "id": "nSXDvYKsgXAG",
        "colab_type": "code",
        "colab": {}
      },
      "source": [
        "train = pd.read_csv('/content/drive/Shared drives/New Markets/Aman/Project Neo/medium.csv')"
      ],
      "execution_count": 4,
      "outputs": []
    },
    {
      "cell_type": "code",
      "metadata": {
        "id": "oDE0-7UR6hEF",
        "colab_type": "code",
        "colab": {
          "base_uri": "https://localhost:8080/",
          "height": 34
        },
        "outputId": "3ce81ab3-3609-43ee-b3be-05b28cf8ccd9"
      },
      "source": [
        "train.columns"
      ],
      "execution_count": 5,
      "outputs": [
        {
          "output_type": "execute_result",
          "data": {
            "text/plain": [
              "Index(['Unnamed: 0', 'upload_date', 'brand', 'cover_image_url', 'category'], dtype='object')"
            ]
          },
          "metadata": {
            "tags": []
          },
          "execution_count": 5
        }
      ]
    },
    {
      "cell_type": "code",
      "metadata": {
        "id": "r9PWEVLj5oXy",
        "colab_type": "code",
        "colab": {}
      },
      "source": [
        "train['image_filename'] = train['cover_image_url'].apply((lambda x: x[-28:]))\n",
        "train = train.drop(train.columns[0:3], axis = 1)\n",
        "train = train.drop(train.columns[0:1], axis =1 )"
      ],
      "execution_count": 6,
      "outputs": []
    },
    {
      "cell_type": "code",
      "metadata": {
        "id": "yCwTprm6Tw7O",
        "colab_type": "code",
        "colab": {
          "base_uri": "https://localhost:8080/",
          "height": 204
        },
        "outputId": "eb063a34-3940-416a-a0be-ff22d4e9b0bc"
      },
      "source": [
        "train.head()"
      ],
      "execution_count": 7,
      "outputs": [
        {
          "output_type": "execute_result",
          "data": {
            "text/html": [
              "<div>\n",
              "<style scoped>\n",
              "    .dataframe tbody tr th:only-of-type {\n",
              "        vertical-align: middle;\n",
              "    }\n",
              "\n",
              "    .dataframe tbody tr th {\n",
              "        vertical-align: top;\n",
              "    }\n",
              "\n",
              "    .dataframe thead th {\n",
              "        text-align: right;\n",
              "    }\n",
              "</style>\n",
              "<table border=\"1\" class=\"dataframe\">\n",
              "  <thead>\n",
              "    <tr style=\"text-align: right;\">\n",
              "      <th></th>\n",
              "      <th>category</th>\n",
              "      <th>image_filename</th>\n",
              "    </tr>\n",
              "  </thead>\n",
              "  <tbody>\n",
              "    <tr>\n",
              "      <th>0</th>\n",
              "      <td>Dresses &amp; Skirts</td>\n",
              "      <td>5e17d1919d3b78474d296d12.jpg</td>\n",
              "    </tr>\n",
              "    <tr>\n",
              "      <th>1</th>\n",
              "      <td>Dresses &amp; Skirts</td>\n",
              "      <td>5e102444138e1891a5c72ecb.jpg</td>\n",
              "    </tr>\n",
              "    <tr>\n",
              "      <th>2</th>\n",
              "      <td>Dresses &amp; Skirts</td>\n",
              "      <td>5e0e754d9e1559244942bd6e.jpg</td>\n",
              "    </tr>\n",
              "    <tr>\n",
              "      <th>3</th>\n",
              "      <td>Dresses &amp; Skirts</td>\n",
              "      <td>5e11196de974fbb7c1039027.jpg</td>\n",
              "    </tr>\n",
              "    <tr>\n",
              "      <th>4</th>\n",
              "      <td>Dresses &amp; Skirts</td>\n",
              "      <td>5e195b3693b46a0f0f3f4354.jpg</td>\n",
              "    </tr>\n",
              "  </tbody>\n",
              "</table>\n",
              "</div>"
            ],
            "text/plain": [
              "           category                image_filename\n",
              "0  Dresses & Skirts  5e17d1919d3b78474d296d12.jpg\n",
              "1  Dresses & Skirts  5e102444138e1891a5c72ecb.jpg\n",
              "2  Dresses & Skirts  5e0e754d9e1559244942bd6e.jpg\n",
              "3  Dresses & Skirts  5e11196de974fbb7c1039027.jpg\n",
              "4  Dresses & Skirts  5e195b3693b46a0f0f3f4354.jpg"
            ]
          },
          "metadata": {
            "tags": []
          },
          "execution_count": 7
        }
      ]
    },
    {
      "cell_type": "code",
      "metadata": {
        "id": "Q1MfaR3sUhEw",
        "colab_type": "code",
        "colab": {
          "base_uri": "https://localhost:8080/",
          "height": 204
        },
        "outputId": "eb48eb41-a53a-4378-bcca-da56a30c3f47"
      },
      "source": [
        "train['category'] = train['category'].apply(lambda x: x.replace(\" \",\"\"))\n",
        "train.head()"
      ],
      "execution_count": 8,
      "outputs": [
        {
          "output_type": "execute_result",
          "data": {
            "text/html": [
              "<div>\n",
              "<style scoped>\n",
              "    .dataframe tbody tr th:only-of-type {\n",
              "        vertical-align: middle;\n",
              "    }\n",
              "\n",
              "    .dataframe tbody tr th {\n",
              "        vertical-align: top;\n",
              "    }\n",
              "\n",
              "    .dataframe thead th {\n",
              "        text-align: right;\n",
              "    }\n",
              "</style>\n",
              "<table border=\"1\" class=\"dataframe\">\n",
              "  <thead>\n",
              "    <tr style=\"text-align: right;\">\n",
              "      <th></th>\n",
              "      <th>category</th>\n",
              "      <th>image_filename</th>\n",
              "    </tr>\n",
              "  </thead>\n",
              "  <tbody>\n",
              "    <tr>\n",
              "      <th>0</th>\n",
              "      <td>Dresses&amp;Skirts</td>\n",
              "      <td>5e17d1919d3b78474d296d12.jpg</td>\n",
              "    </tr>\n",
              "    <tr>\n",
              "      <th>1</th>\n",
              "      <td>Dresses&amp;Skirts</td>\n",
              "      <td>5e102444138e1891a5c72ecb.jpg</td>\n",
              "    </tr>\n",
              "    <tr>\n",
              "      <th>2</th>\n",
              "      <td>Dresses&amp;Skirts</td>\n",
              "      <td>5e0e754d9e1559244942bd6e.jpg</td>\n",
              "    </tr>\n",
              "    <tr>\n",
              "      <th>3</th>\n",
              "      <td>Dresses&amp;Skirts</td>\n",
              "      <td>5e11196de974fbb7c1039027.jpg</td>\n",
              "    </tr>\n",
              "    <tr>\n",
              "      <th>4</th>\n",
              "      <td>Dresses&amp;Skirts</td>\n",
              "      <td>5e195b3693b46a0f0f3f4354.jpg</td>\n",
              "    </tr>\n",
              "  </tbody>\n",
              "</table>\n",
              "</div>"
            ],
            "text/plain": [
              "         category                image_filename\n",
              "0  Dresses&Skirts  5e17d1919d3b78474d296d12.jpg\n",
              "1  Dresses&Skirts  5e102444138e1891a5c72ecb.jpg\n",
              "2  Dresses&Skirts  5e0e754d9e1559244942bd6e.jpg\n",
              "3  Dresses&Skirts  5e11196de974fbb7c1039027.jpg\n",
              "4  Dresses&Skirts  5e195b3693b46a0f0f3f4354.jpg"
            ]
          },
          "metadata": {
            "tags": []
          },
          "execution_count": 8
        }
      ]
    },
    {
      "cell_type": "code",
      "metadata": {
        "id": "AP8tjLlieJie",
        "colab_type": "code",
        "colab": {
          "base_uri": "https://localhost:8080/",
          "height": 102
        },
        "outputId": "6fc211ab-345a-4b1b-e030-6e796e396995"
      },
      "source": [
        "train['category'].value_counts()"
      ],
      "execution_count": 9,
      "outputs": [
        {
          "output_type": "execute_result",
          "data": {
            "text/plain": [
              "Shoes              2500\n",
              "Handbags           2500\n",
              "Jackets&Blazers    2500\n",
              "Dresses&Skirts     2500\n",
              "Name: category, dtype: int64"
            ]
          },
          "metadata": {
            "tags": []
          },
          "execution_count": 9
        }
      ]
    },
    {
      "cell_type": "code",
      "metadata": {
        "id": "W2VfT_qi7YAN",
        "colab_type": "code",
        "colab": {
          "base_uri": "https://localhost:8080/",
          "height": 34
        },
        "outputId": "a5c61e86-3e0e-4dc1-91fa-fa5fa90e9f03"
      },
      "source": [
        "d = dict(zip(train['category'].unique(), range(0,4)))\n",
        "d"
      ],
      "execution_count": 10,
      "outputs": [
        {
          "output_type": "execute_result",
          "data": {
            "text/plain": [
              "{'Dresses&Skirts': 0, 'Handbags': 1, 'Jackets&Blazers': 2, 'Shoes': 3}"
            ]
          },
          "metadata": {
            "tags": []
          },
          "execution_count": 10
        }
      ]
    },
    {
      "cell_type": "code",
      "metadata": {
        "id": "6Fymv6odVqZN",
        "colab_type": "code",
        "colab": {
          "base_uri": "https://localhost:8080/",
          "height": 204
        },
        "outputId": "19f0cfa3-0185-4525-f8a0-9cd3e6262ea5"
      },
      "source": [
        "train['category'] =  train['category'].map(d,na_action = 'ignore')\n",
        "train.drop(train.columns[0], axis=1)\n",
        "train.head()"
      ],
      "execution_count": 11,
      "outputs": [
        {
          "output_type": "execute_result",
          "data": {
            "text/html": [
              "<div>\n",
              "<style scoped>\n",
              "    .dataframe tbody tr th:only-of-type {\n",
              "        vertical-align: middle;\n",
              "    }\n",
              "\n",
              "    .dataframe tbody tr th {\n",
              "        vertical-align: top;\n",
              "    }\n",
              "\n",
              "    .dataframe thead th {\n",
              "        text-align: right;\n",
              "    }\n",
              "</style>\n",
              "<table border=\"1\" class=\"dataframe\">\n",
              "  <thead>\n",
              "    <tr style=\"text-align: right;\">\n",
              "      <th></th>\n",
              "      <th>category</th>\n",
              "      <th>image_filename</th>\n",
              "    </tr>\n",
              "  </thead>\n",
              "  <tbody>\n",
              "    <tr>\n",
              "      <th>0</th>\n",
              "      <td>0</td>\n",
              "      <td>5e17d1919d3b78474d296d12.jpg</td>\n",
              "    </tr>\n",
              "    <tr>\n",
              "      <th>1</th>\n",
              "      <td>0</td>\n",
              "      <td>5e102444138e1891a5c72ecb.jpg</td>\n",
              "    </tr>\n",
              "    <tr>\n",
              "      <th>2</th>\n",
              "      <td>0</td>\n",
              "      <td>5e0e754d9e1559244942bd6e.jpg</td>\n",
              "    </tr>\n",
              "    <tr>\n",
              "      <th>3</th>\n",
              "      <td>0</td>\n",
              "      <td>5e11196de974fbb7c1039027.jpg</td>\n",
              "    </tr>\n",
              "    <tr>\n",
              "      <th>4</th>\n",
              "      <td>0</td>\n",
              "      <td>5e195b3693b46a0f0f3f4354.jpg</td>\n",
              "    </tr>\n",
              "  </tbody>\n",
              "</table>\n",
              "</div>"
            ],
            "text/plain": [
              "   category                image_filename\n",
              "0         0  5e17d1919d3b78474d296d12.jpg\n",
              "1         0  5e102444138e1891a5c72ecb.jpg\n",
              "2         0  5e0e754d9e1559244942bd6e.jpg\n",
              "3         0  5e11196de974fbb7c1039027.jpg\n",
              "4         0  5e195b3693b46a0f0f3f4354.jpg"
            ]
          },
          "metadata": {
            "tags": []
          },
          "execution_count": 11
        }
      ]
    },
    {
      "cell_type": "code",
      "metadata": {
        "id": "1csAVdDppSsH",
        "colab_type": "code",
        "colab": {
          "base_uri": "https://localhost:8080/",
          "height": 34
        },
        "outputId": "87f2d4fa-5d87-4c04-956a-40aef1e742fa"
      },
      "source": [
        "import os\n",
        "img_list = os.listdir(\"/content/image-data-med/\")\n",
        "len(img_list)"
      ],
      "execution_count": 13,
      "outputs": [
        {
          "output_type": "execute_result",
          "data": {
            "text/plain": [
              "8635"
            ]
          },
          "metadata": {
            "tags": []
          },
          "execution_count": 13
        }
      ]
    },
    {
      "cell_type": "code",
      "metadata": {
        "id": "_uiFTO1xpUE-",
        "colab_type": "code",
        "colab": {
          "base_uri": "https://localhost:8080/",
          "height": 34
        },
        "outputId": "cbecc55a-6170-417d-d96a-3cdab5af163e"
      },
      "source": [
        "train['flag'] = train['image_filename'].apply(lambda x: True if x in img_list else False)\n",
        "train_cleaned = train[train['flag'] == True]\n",
        "train_cleaned.shape"
      ],
      "execution_count": 14,
      "outputs": [
        {
          "output_type": "execute_result",
          "data": {
            "text/plain": [
              "(8634, 3)"
            ]
          },
          "metadata": {
            "tags": []
          },
          "execution_count": 14
        }
      ]
    },
    {
      "cell_type": "code",
      "metadata": {
        "id": "xOE9FZzzpU32",
        "colab_type": "code",
        "colab": {}
      },
      "source": [
        ""
      ],
      "execution_count": 14,
      "outputs": []
    },
    {
      "cell_type": "code",
      "metadata": {
        "id": "8Q-Gnbgpq3vu",
        "colab_type": "code",
        "colab": {
          "base_uri": "https://localhost:8080/",
          "height": 979
        },
        "outputId": "7a5a37b9-e9fe-4914-82ab-214d94c8579e"
      },
      "source": [
        "train_cleaned.reset_index(inplace=True)\n",
        "train_cleaned.head(30)"
      ],
      "execution_count": 15,
      "outputs": [
        {
          "output_type": "execute_result",
          "data": {
            "text/html": [
              "<div>\n",
              "<style scoped>\n",
              "    .dataframe tbody tr th:only-of-type {\n",
              "        vertical-align: middle;\n",
              "    }\n",
              "\n",
              "    .dataframe tbody tr th {\n",
              "        vertical-align: top;\n",
              "    }\n",
              "\n",
              "    .dataframe thead th {\n",
              "        text-align: right;\n",
              "    }\n",
              "</style>\n",
              "<table border=\"1\" class=\"dataframe\">\n",
              "  <thead>\n",
              "    <tr style=\"text-align: right;\">\n",
              "      <th></th>\n",
              "      <th>index</th>\n",
              "      <th>category</th>\n",
              "      <th>image_filename</th>\n",
              "      <th>flag</th>\n",
              "    </tr>\n",
              "  </thead>\n",
              "  <tbody>\n",
              "    <tr>\n",
              "      <th>0</th>\n",
              "      <td>0</td>\n",
              "      <td>0</td>\n",
              "      <td>5e17d1919d3b78474d296d12.jpg</td>\n",
              "      <td>True</td>\n",
              "    </tr>\n",
              "    <tr>\n",
              "      <th>1</th>\n",
              "      <td>1</td>\n",
              "      <td>0</td>\n",
              "      <td>5e102444138e1891a5c72ecb.jpg</td>\n",
              "      <td>True</td>\n",
              "    </tr>\n",
              "    <tr>\n",
              "      <th>2</th>\n",
              "      <td>2</td>\n",
              "      <td>0</td>\n",
              "      <td>5e0e754d9e1559244942bd6e.jpg</td>\n",
              "      <td>True</td>\n",
              "    </tr>\n",
              "    <tr>\n",
              "      <th>3</th>\n",
              "      <td>3</td>\n",
              "      <td>0</td>\n",
              "      <td>5e11196de974fbb7c1039027.jpg</td>\n",
              "      <td>True</td>\n",
              "    </tr>\n",
              "    <tr>\n",
              "      <th>4</th>\n",
              "      <td>4</td>\n",
              "      <td>0</td>\n",
              "      <td>5e195b3693b46a0f0f3f4354.jpg</td>\n",
              "      <td>True</td>\n",
              "    </tr>\n",
              "    <tr>\n",
              "      <th>5</th>\n",
              "      <td>5</td>\n",
              "      <td>0</td>\n",
              "      <td>5e1bfa6021cd0a3e6b01cf87.jpg</td>\n",
              "      <td>True</td>\n",
              "    </tr>\n",
              "    <tr>\n",
              "      <th>6</th>\n",
              "      <td>6</td>\n",
              "      <td>0</td>\n",
              "      <td>5e19ec99d1aa252195297706.jpg</td>\n",
              "      <td>True</td>\n",
              "    </tr>\n",
              "    <tr>\n",
              "      <th>7</th>\n",
              "      <td>7</td>\n",
              "      <td>0</td>\n",
              "      <td>5e1287c8b146cce6b9c1bd40.jpg</td>\n",
              "      <td>True</td>\n",
              "    </tr>\n",
              "    <tr>\n",
              "      <th>8</th>\n",
              "      <td>8</td>\n",
              "      <td>0</td>\n",
              "      <td>5e1a06382f48318fd1a787cb.jpg</td>\n",
              "      <td>True</td>\n",
              "    </tr>\n",
              "    <tr>\n",
              "      <th>9</th>\n",
              "      <td>9</td>\n",
              "      <td>0</td>\n",
              "      <td>e119fcdaa7ed32bab6583c3.jpeg</td>\n",
              "      <td>True</td>\n",
              "    </tr>\n",
              "    <tr>\n",
              "      <th>10</th>\n",
              "      <td>10</td>\n",
              "      <td>0</td>\n",
              "      <td>5e160766216968c79f4c4929.jpg</td>\n",
              "      <td>True</td>\n",
              "    </tr>\n",
              "    <tr>\n",
              "      <th>11</th>\n",
              "      <td>11</td>\n",
              "      <td>0</td>\n",
              "      <td>5e19000d8d6f1abcf9680b72.jpg</td>\n",
              "      <td>True</td>\n",
              "    </tr>\n",
              "    <tr>\n",
              "      <th>12</th>\n",
              "      <td>12</td>\n",
              "      <td>0</td>\n",
              "      <td>5e18d108bb22e3b69660ddce.jpg</td>\n",
              "      <td>True</td>\n",
              "    </tr>\n",
              "    <tr>\n",
              "      <th>13</th>\n",
              "      <td>13</td>\n",
              "      <td>0</td>\n",
              "      <td>5e125decd948a187e9880ecd.jpg</td>\n",
              "      <td>True</td>\n",
              "    </tr>\n",
              "    <tr>\n",
              "      <th>14</th>\n",
              "      <td>14</td>\n",
              "      <td>0</td>\n",
              "      <td>5e10502dd1aa256a22a53db5.jpg</td>\n",
              "      <td>True</td>\n",
              "    </tr>\n",
              "    <tr>\n",
              "      <th>15</th>\n",
              "      <td>15</td>\n",
              "      <td>0</td>\n",
              "      <td>e1c0a6c9e15594830ed25dc.jpeg</td>\n",
              "      <td>True</td>\n",
              "    </tr>\n",
              "    <tr>\n",
              "      <th>16</th>\n",
              "      <td>16</td>\n",
              "      <td>0</td>\n",
              "      <td>5e1924ee9e1559db0cdda7cd.jpg</td>\n",
              "      <td>True</td>\n",
              "    </tr>\n",
              "    <tr>\n",
              "      <th>17</th>\n",
              "      <td>17</td>\n",
              "      <td>0</td>\n",
              "      <td>5e1c970d7f617fd14ad2f2b8.jpg</td>\n",
              "      <td>True</td>\n",
              "    </tr>\n",
              "    <tr>\n",
              "      <th>18</th>\n",
              "      <td>18</td>\n",
              "      <td>0</td>\n",
              "      <td>5e1a4af993b46a9cde429d1a.jpg</td>\n",
              "      <td>True</td>\n",
              "    </tr>\n",
              "    <tr>\n",
              "      <th>19</th>\n",
              "      <td>19</td>\n",
              "      <td>0</td>\n",
              "      <td>e0f921bafade8b11c020027.jpeg</td>\n",
              "      <td>True</td>\n",
              "    </tr>\n",
              "    <tr>\n",
              "      <th>20</th>\n",
              "      <td>22</td>\n",
              "      <td>0</td>\n",
              "      <td>5e137c0324148332fa7ca2ca.jpg</td>\n",
              "      <td>True</td>\n",
              "    </tr>\n",
              "    <tr>\n",
              "      <th>21</th>\n",
              "      <td>24</td>\n",
              "      <td>0</td>\n",
              "      <td>5e14ef99aa7ed32bab72e202.jpg</td>\n",
              "      <td>True</td>\n",
              "    </tr>\n",
              "    <tr>\n",
              "      <th>22</th>\n",
              "      <td>25</td>\n",
              "      <td>0</td>\n",
              "      <td>5e1402dd90feb6b31444cc3a.jpg</td>\n",
              "      <td>True</td>\n",
              "    </tr>\n",
              "    <tr>\n",
              "      <th>23</th>\n",
              "      <td>26</td>\n",
              "      <td>0</td>\n",
              "      <td>5e112551afade8440b08beae.jpg</td>\n",
              "      <td>True</td>\n",
              "    </tr>\n",
              "    <tr>\n",
              "      <th>24</th>\n",
              "      <td>27</td>\n",
              "      <td>0</td>\n",
              "      <td>5e1bf368bb22e3dd6e6f22bb.jpg</td>\n",
              "      <td>True</td>\n",
              "    </tr>\n",
              "    <tr>\n",
              "      <th>25</th>\n",
              "      <td>28</td>\n",
              "      <td>0</td>\n",
              "      <td>5e0fec20e974fbc912fe9e38.jpg</td>\n",
              "      <td>True</td>\n",
              "    </tr>\n",
              "    <tr>\n",
              "      <th>26</th>\n",
              "      <td>29</td>\n",
              "      <td>0</td>\n",
              "      <td>5e19d71f5967045fbced59d7.jpg</td>\n",
              "      <td>True</td>\n",
              "    </tr>\n",
              "    <tr>\n",
              "      <th>27</th>\n",
              "      <td>30</td>\n",
              "      <td>0</td>\n",
              "      <td>e18f0e8afade8d8dc7bf7f3.jpeg</td>\n",
              "      <td>True</td>\n",
              "    </tr>\n",
              "    <tr>\n",
              "      <th>28</th>\n",
              "      <td>31</td>\n",
              "      <td>0</td>\n",
              "      <td>5e1655d3318740df05c4a0c0.jpg</td>\n",
              "      <td>True</td>\n",
              "    </tr>\n",
              "    <tr>\n",
              "      <th>29</th>\n",
              "      <td>32</td>\n",
              "      <td>0</td>\n",
              "      <td>5e1a7fe4d4000896aa8ba8d8.jpg</td>\n",
              "      <td>True</td>\n",
              "    </tr>\n",
              "  </tbody>\n",
              "</table>\n",
              "</div>"
            ],
            "text/plain": [
              "    index  category                image_filename  flag\n",
              "0       0         0  5e17d1919d3b78474d296d12.jpg  True\n",
              "1       1         0  5e102444138e1891a5c72ecb.jpg  True\n",
              "2       2         0  5e0e754d9e1559244942bd6e.jpg  True\n",
              "3       3         0  5e11196de974fbb7c1039027.jpg  True\n",
              "4       4         0  5e195b3693b46a0f0f3f4354.jpg  True\n",
              "5       5         0  5e1bfa6021cd0a3e6b01cf87.jpg  True\n",
              "6       6         0  5e19ec99d1aa252195297706.jpg  True\n",
              "7       7         0  5e1287c8b146cce6b9c1bd40.jpg  True\n",
              "8       8         0  5e1a06382f48318fd1a787cb.jpg  True\n",
              "9       9         0  e119fcdaa7ed32bab6583c3.jpeg  True\n",
              "10     10         0  5e160766216968c79f4c4929.jpg  True\n",
              "11     11         0  5e19000d8d6f1abcf9680b72.jpg  True\n",
              "12     12         0  5e18d108bb22e3b69660ddce.jpg  True\n",
              "13     13         0  5e125decd948a187e9880ecd.jpg  True\n",
              "14     14         0  5e10502dd1aa256a22a53db5.jpg  True\n",
              "15     15         0  e1c0a6c9e15594830ed25dc.jpeg  True\n",
              "16     16         0  5e1924ee9e1559db0cdda7cd.jpg  True\n",
              "17     17         0  5e1c970d7f617fd14ad2f2b8.jpg  True\n",
              "18     18         0  5e1a4af993b46a9cde429d1a.jpg  True\n",
              "19     19         0  e0f921bafade8b11c020027.jpeg  True\n",
              "20     22         0  5e137c0324148332fa7ca2ca.jpg  True\n",
              "21     24         0  5e14ef99aa7ed32bab72e202.jpg  True\n",
              "22     25         0  5e1402dd90feb6b31444cc3a.jpg  True\n",
              "23     26         0  5e112551afade8440b08beae.jpg  True\n",
              "24     27         0  5e1bf368bb22e3dd6e6f22bb.jpg  True\n",
              "25     28         0  5e0fec20e974fbc912fe9e38.jpg  True\n",
              "26     29         0  5e19d71f5967045fbced59d7.jpg  True\n",
              "27     30         0  e18f0e8afade8d8dc7bf7f3.jpeg  True\n",
              "28     31         0  5e1655d3318740df05c4a0c0.jpg  True\n",
              "29     32         0  5e1a7fe4d4000896aa8ba8d8.jpg  True"
            ]
          },
          "metadata": {
            "tags": []
          },
          "execution_count": 15
        }
      ]
    },
    {
      "cell_type": "code",
      "metadata": {
        "id": "fN_ZPhGNTksO",
        "colab_type": "code",
        "colab": {
          "base_uri": "https://localhost:8080/",
          "height": 463
        },
        "outputId": "406629ef-9fde-4c6a-9845-82d050d8a762"
      },
      "source": [
        "# from google.colab import drive\n",
        "# import sys\n",
        "# from pathlib import Path\n",
        "# drive.mount(\"/content/drive\", force_remount=True)\n",
        "# base = Path('content/drive/Shared drives/New Markets/Aman/Project Neo/')\n",
        "# sys.path.append(str(base))"
      ],
      "execution_count": null,
      "outputs": [
        {
          "output_type": "stream",
          "text": [
            "Go to this URL in a browser: https://accounts.google.com/o/oauth2/auth?client_id=947318989803-6bn6qk8qdgf4n4g3pfee6491hc0brc4i.apps.googleusercontent.com&redirect_uri=urn%3aietf%3awg%3aoauth%3a2.0%3aoob&scope=email%20https%3a%2f%2fwww.googleapis.com%2fauth%2fdocs.test%20https%3a%2f%2fwww.googleapis.com%2fauth%2fdrive%20https%3a%2f%2fwww.googleapis.com%2fauth%2fdrive.photos.readonly%20https%3a%2f%2fwww.googleapis.com%2fauth%2fpeopleapi.readonly&response_type=code\n",
            "\n",
            "Enter your authorization code:\n",
            "··········\n"
          ],
          "name": "stdout"
        },
        {
          "output_type": "error",
          "ename": "KeyboardInterrupt",
          "evalue": "ignored",
          "traceback": [
            "\u001b[0;31m---------------------------------------------------------------------------\u001b[0m",
            "\u001b[0;31mKeyboardInterrupt\u001b[0m                         Traceback (most recent call last)",
            "\u001b[0;32m<ipython-input-11-83ef339b2c5d>\u001b[0m in \u001b[0;36m<module>\u001b[0;34m()\u001b[0m\n\u001b[1;32m      2\u001b[0m \u001b[0;32mimport\u001b[0m \u001b[0msys\u001b[0m\u001b[0;34m\u001b[0m\u001b[0;34m\u001b[0m\u001b[0m\n\u001b[1;32m      3\u001b[0m \u001b[0;32mfrom\u001b[0m \u001b[0mpathlib\u001b[0m \u001b[0;32mimport\u001b[0m \u001b[0mPath\u001b[0m\u001b[0;34m\u001b[0m\u001b[0;34m\u001b[0m\u001b[0m\n\u001b[0;32m----> 4\u001b[0;31m \u001b[0mdrive\u001b[0m\u001b[0;34m.\u001b[0m\u001b[0mmount\u001b[0m\u001b[0;34m(\u001b[0m\u001b[0;34m\"/content/drive\"\u001b[0m\u001b[0;34m,\u001b[0m \u001b[0mforce_remount\u001b[0m\u001b[0;34m=\u001b[0m\u001b[0;32mTrue\u001b[0m\u001b[0;34m)\u001b[0m\u001b[0;34m\u001b[0m\u001b[0;34m\u001b[0m\u001b[0m\n\u001b[0m\u001b[1;32m      5\u001b[0m \u001b[0mbase\u001b[0m \u001b[0;34m=\u001b[0m \u001b[0mPath\u001b[0m\u001b[0;34m(\u001b[0m\u001b[0;34m'content/drive/Shared drives/New Markets/Aman/Project Neo/'\u001b[0m\u001b[0;34m)\u001b[0m\u001b[0;34m\u001b[0m\u001b[0;34m\u001b[0m\u001b[0m\n\u001b[1;32m      6\u001b[0m \u001b[0msys\u001b[0m\u001b[0;34m.\u001b[0m\u001b[0mpath\u001b[0m\u001b[0;34m.\u001b[0m\u001b[0mappend\u001b[0m\u001b[0;34m(\u001b[0m\u001b[0mstr\u001b[0m\u001b[0;34m(\u001b[0m\u001b[0mbase\u001b[0m\u001b[0;34m)\u001b[0m\u001b[0;34m)\u001b[0m\u001b[0;34m\u001b[0m\u001b[0;34m\u001b[0m\u001b[0m\n",
            "\u001b[0;32m/usr/local/lib/python3.6/dist-packages/google/colab/drive.py\u001b[0m in \u001b[0;36mmount\u001b[0;34m(mountpoint, force_remount, timeout_ms, use_metadata_server)\u001b[0m\n\u001b[1;32m    222\u001b[0m         \u001b[0moauth_prompt\u001b[0m\u001b[0;34m,\u001b[0m\u001b[0;34m\u001b[0m\u001b[0;34m\u001b[0m\u001b[0m\n\u001b[1;32m    223\u001b[0m         \u001b[0mproblem_and_stopped\u001b[0m\u001b[0;34m,\u001b[0m\u001b[0;34m\u001b[0m\u001b[0;34m\u001b[0m\u001b[0m\n\u001b[0;32m--> 224\u001b[0;31m         \u001b[0mdrive_exited\u001b[0m\u001b[0;34m,\u001b[0m\u001b[0;34m\u001b[0m\u001b[0;34m\u001b[0m\u001b[0m\n\u001b[0m\u001b[1;32m    225\u001b[0m     ])\n\u001b[1;32m    226\u001b[0m     \u001b[0;32mif\u001b[0m \u001b[0mcase\u001b[0m \u001b[0;34m==\u001b[0m \u001b[0;36m0\u001b[0m\u001b[0;34m:\u001b[0m\u001b[0;34m\u001b[0m\u001b[0;34m\u001b[0m\u001b[0m\n",
            "\u001b[0;32m/usr/local/lib/python3.6/dist-packages/pexpect/spawnbase.py\u001b[0m in \u001b[0;36mexpect\u001b[0;34m(self, pattern, timeout, searchwindowsize, async_, **kw)\u001b[0m\n\u001b[1;32m    342\u001b[0m         \u001b[0mcompiled_pattern_list\u001b[0m \u001b[0;34m=\u001b[0m \u001b[0mself\u001b[0m\u001b[0;34m.\u001b[0m\u001b[0mcompile_pattern_list\u001b[0m\u001b[0;34m(\u001b[0m\u001b[0mpattern\u001b[0m\u001b[0;34m)\u001b[0m\u001b[0;34m\u001b[0m\u001b[0;34m\u001b[0m\u001b[0m\n\u001b[1;32m    343\u001b[0m         return self.expect_list(compiled_pattern_list,\n\u001b[0;32m--> 344\u001b[0;31m                 timeout, searchwindowsize, async_)\n\u001b[0m\u001b[1;32m    345\u001b[0m \u001b[0;34m\u001b[0m\u001b[0m\n\u001b[1;32m    346\u001b[0m     def expect_list(self, pattern_list, timeout=-1, searchwindowsize=-1,\n",
            "\u001b[0;32m/usr/local/lib/python3.6/dist-packages/pexpect/spawnbase.py\u001b[0m in \u001b[0;36mexpect_list\u001b[0;34m(self, pattern_list, timeout, searchwindowsize, async_, **kw)\u001b[0m\n\u001b[1;32m    370\u001b[0m             \u001b[0;32mreturn\u001b[0m \u001b[0mexpect_async\u001b[0m\u001b[0;34m(\u001b[0m\u001b[0mexp\u001b[0m\u001b[0;34m,\u001b[0m \u001b[0mtimeout\u001b[0m\u001b[0;34m)\u001b[0m\u001b[0;34m\u001b[0m\u001b[0;34m\u001b[0m\u001b[0m\n\u001b[1;32m    371\u001b[0m         \u001b[0;32melse\u001b[0m\u001b[0;34m:\u001b[0m\u001b[0;34m\u001b[0m\u001b[0;34m\u001b[0m\u001b[0m\n\u001b[0;32m--> 372\u001b[0;31m             \u001b[0;32mreturn\u001b[0m \u001b[0mexp\u001b[0m\u001b[0;34m.\u001b[0m\u001b[0mexpect_loop\u001b[0m\u001b[0;34m(\u001b[0m\u001b[0mtimeout\u001b[0m\u001b[0;34m)\u001b[0m\u001b[0;34m\u001b[0m\u001b[0;34m\u001b[0m\u001b[0m\n\u001b[0m\u001b[1;32m    373\u001b[0m \u001b[0;34m\u001b[0m\u001b[0m\n\u001b[1;32m    374\u001b[0m     def expect_exact(self, pattern_list, timeout=-1, searchwindowsize=-1,\n",
            "\u001b[0;32m/usr/local/lib/python3.6/dist-packages/pexpect/expect.py\u001b[0m in \u001b[0;36mexpect_loop\u001b[0;34m(self, timeout)\u001b[0m\n\u001b[1;32m    169\u001b[0m                 \u001b[0mincoming\u001b[0m \u001b[0;34m=\u001b[0m \u001b[0mspawn\u001b[0m\u001b[0;34m.\u001b[0m\u001b[0mread_nonblocking\u001b[0m\u001b[0;34m(\u001b[0m\u001b[0mspawn\u001b[0m\u001b[0;34m.\u001b[0m\u001b[0mmaxread\u001b[0m\u001b[0;34m,\u001b[0m \u001b[0mtimeout\u001b[0m\u001b[0;34m)\u001b[0m\u001b[0;34m\u001b[0m\u001b[0;34m\u001b[0m\u001b[0m\n\u001b[1;32m    170\u001b[0m                 \u001b[0;32mif\u001b[0m \u001b[0mself\u001b[0m\u001b[0;34m.\u001b[0m\u001b[0mspawn\u001b[0m\u001b[0;34m.\u001b[0m\u001b[0mdelayafterread\u001b[0m \u001b[0;32mis\u001b[0m \u001b[0;32mnot\u001b[0m \u001b[0;32mNone\u001b[0m\u001b[0;34m:\u001b[0m\u001b[0;34m\u001b[0m\u001b[0;34m\u001b[0m\u001b[0m\n\u001b[0;32m--> 171\u001b[0;31m                     \u001b[0mtime\u001b[0m\u001b[0;34m.\u001b[0m\u001b[0msleep\u001b[0m\u001b[0;34m(\u001b[0m\u001b[0mself\u001b[0m\u001b[0;34m.\u001b[0m\u001b[0mspawn\u001b[0m\u001b[0;34m.\u001b[0m\u001b[0mdelayafterread\u001b[0m\u001b[0;34m)\u001b[0m\u001b[0;34m\u001b[0m\u001b[0;34m\u001b[0m\u001b[0m\n\u001b[0m\u001b[1;32m    172\u001b[0m                 \u001b[0midx\u001b[0m \u001b[0;34m=\u001b[0m \u001b[0mself\u001b[0m\u001b[0;34m.\u001b[0m\u001b[0mnew_data\u001b[0m\u001b[0;34m(\u001b[0m\u001b[0mincoming\u001b[0m\u001b[0;34m)\u001b[0m\u001b[0;34m\u001b[0m\u001b[0;34m\u001b[0m\u001b[0m\n\u001b[1;32m    173\u001b[0m                 \u001b[0;31m# Keep reading until exception or return.\u001b[0m\u001b[0;34m\u001b[0m\u001b[0;34m\u001b[0m\u001b[0;34m\u001b[0m\u001b[0m\n",
            "\u001b[0;31mKeyboardInterrupt\u001b[0m: "
          ]
        }
      ]
    },
    {
      "cell_type": "code",
      "metadata": {
        "id": "cXtqxOhYT-_s",
        "colab_type": "code",
        "colab": {}
      },
      "source": [
        "# zip_path = '/content/drive/Shared drives/New Markets/Aman/Project Neo/image-data-med.zip'\n",
        "# !cp \"{zip_path}\" .\n",
        "# !unzip -q image-data-med.zip\n",
        "# !rm image-data-med.zip"
      ],
      "execution_count": 1,
      "outputs": []
    },
    {
      "cell_type": "code",
      "metadata": {
        "id": "MGxK0vMmOyrH",
        "colab_type": "code",
        "colab": {
          "base_uri": "https://localhost:8080/",
          "height": 34
        },
        "outputId": "474eca8b-f9ff-4e48-f0eb-f4d652c09871"
      },
      "source": [
        "# We have grayscale images, so while loading the images we will keep grayscale=True, if you have RGB images, you should set grayscale as False\n",
        "train_image = []\n",
        "\n",
        "for i in tqdm(range(train_cleaned.shape[0])):\n",
        "    try:\n",
        "      img = image.load_img('/content/image-data-med/'+train_cleaned['image_filename'][i], target_size=(150,150,3), grayscale=False)\n",
        "    except Exception as e:\n",
        "      print(e)\n",
        "      continue\n",
        "      # print(train_cleaned['image_filename'][i])\n",
        "      # train.drop(train[train['image_filename'] == train['image_filename'][i]].index,axis = 0)\n",
        "\n",
        "    img = image.img_to_array(img)\n",
        "    img = img/255\n",
        "    train_image.append(img)\n",
        "\n",
        "X = np.array(train_image)\n",
        "\n"
      ],
      "execution_count": 16,
      "outputs": [
        {
          "output_type": "stream",
          "text": [
            "100%|██████████| 8634/8634 [00:51<00:00, 166.19it/s]\n"
          ],
          "name": "stderr"
        }
      ]
    },
    {
      "cell_type": "code",
      "metadata": {
        "id": "v_ntXuIeoHuS",
        "colab_type": "code",
        "colab": {
          "base_uri": "https://localhost:8080/",
          "height": 34
        },
        "outputId": "dd3bb128-b5dd-4623-a891-1bf8692cbc99"
      },
      "source": [
        "len(train_image)"
      ],
      "execution_count": 17,
      "outputs": [
        {
          "output_type": "execute_result",
          "data": {
            "text/plain": [
              "8634"
            ]
          },
          "metadata": {
            "tags": []
          },
          "execution_count": 17
        }
      ]
    },
    {
      "cell_type": "markdown",
      "metadata": {
        "id": "GwIjjmor_VcH",
        "colab_type": "text"
      },
      "source": [
        "# New Section"
      ]
    },
    {
      "cell_type": "code",
      "metadata": {
        "id": "tYfceNIyO3mB",
        "colab_type": "code",
        "colab": {}
      },
      "source": [
        "y=train_cleaned['category'].values\n",
        "y = to_categorical(y)"
      ],
      "execution_count": 18,
      "outputs": []
    },
    {
      "cell_type": "code",
      "metadata": {
        "id": "CbAZY_SdXpcM",
        "colab_type": "code",
        "colab": {}
      },
      "source": [
        "X_train, X_test, y_train, y_test = train_test_split(X, y, random_state=42, test_size=0.2)\n"
      ],
      "execution_count": 19,
      "outputs": []
    },
    {
      "cell_type": "code",
      "metadata": {
        "id": "QU82fWnemkDu",
        "colab_type": "code",
        "colab": {
          "base_uri": "https://localhost:8080/",
          "height": 71
        },
        "outputId": "7f78ab4a-1567-455b-d068-02e518d78088"
      },
      "source": [
        "model_inception_v3 = InceptionV3(input_shape=(150,150,3), include_top = False, weights= 'imagenet')"
      ],
      "execution_count": 20,
      "outputs": [
        {
          "output_type": "stream",
          "text": [
            "Downloading data from https://storage.googleapis.com/tensorflow/keras-applications/inception_v3/inception_v3_weights_tf_dim_ordering_tf_kernels_notop.h5\n",
            "87916544/87910968 [==============================] - 1s 0us/step\n"
          ],
          "name": "stdout"
        }
      ]
    },
    {
      "cell_type": "code",
      "metadata": {
        "id": "-EH7AjWfmjuc",
        "colab_type": "code",
        "colab": {}
      },
      "source": [
        "for layer in model_inception_v3.layers:\n",
        "  layer.trainable = False"
      ],
      "execution_count": 21,
      "outputs": []
    },
    {
      "cell_type": "code",
      "metadata": {
        "id": "SCW524eRmjaC",
        "colab_type": "code",
        "colab": {}
      },
      "source": [
        "from keras.optimizers import RMSprop\n",
        "from keras import layers\n",
        "from keras import Model\n"
      ],
      "execution_count": 22,
      "outputs": []
    },
    {
      "cell_type": "code",
      "metadata": {
        "id": "pNwxQVnrmik9",
        "colab_type": "code",
        "colab": {}
      },
      "source": [
        "x = layers.Flatten()(model_inception_v3.output)\n",
        "# Add a fully connected layer with 1,024 hidden units and ReLU activation\n",
        "x = layers.Dense(1024, activation='relu')(x)\n",
        "# Add a dropout rate of 0.2\n",
        "x = layers.Dropout(0.2)(x)                  \n",
        "# Add a final sigmoid layer for classification\n",
        "x = layers.Dense  (4, activation='softmax')(x)           \n",
        "\n",
        "model_v3 = Model(model_inception_v3.input, x) \n",
        "\n",
        "model_v3.compile(optimizer = 'Adam', \n",
        "              loss = 'categorical_crossentropy', \n",
        "              metrics = ['acc'])"
      ],
      "execution_count": 32,
      "outputs": []
    },
    {
      "cell_type": "code",
      "metadata": {
        "id": "Dp2sGUrJmgqI",
        "colab_type": "code",
        "colab": {}
      },
      "source": [
        ""
      ],
      "execution_count": 25,
      "outputs": []
    },
    {
      "cell_type": "code",
      "metadata": {
        "id": "WKVOhqoaXx4U",
        "colab_type": "code",
        "colab": {}
      },
      "source": [
        "model = Sequential()\n",
        "model.add(Conv2D(32, kernel_size=(3, 3),activation='relu',input_shape=(56,56,3)))\n",
        "model.add(Conv2D(64, (3, 3), activation='relu'))\n",
        "model.add(MaxPooling2D(pool_size=(2, 2)))\n",
        "model.add(Dropout(0.25))\n",
        "model.add(Flatten())\n",
        "model.add(Dense(128, activation='relu'))\n",
        "model.add(Dropout(0.5))\n",
        "model.add(Dense(4, activation='softmax'))\n",
        "model.compile(loss='categorical_crossentropy',optimizer='Adam',metrics=['accuracy'])\n"
      ],
      "execution_count": null,
      "outputs": []
    },
    {
      "cell_type": "code",
      "metadata": {
        "id": "9J8WhXUC2I1h",
        "colab_type": "code",
        "colab": {}
      },
      "source": [
        "nets = 3\n",
        "model = [0] *nets\n",
        "\n",
        "for j in range(3):\n",
        "    model[j] = Sequential()\n",
        "    model[j].add(Conv2D(24,kernel_size=5,padding='same',activation='relu',\n",
        "            input_shape=(150,150,3)))\n",
        "    model[j].add(MaxPooling2D())\n",
        "    if j>0:\n",
        "        model[j].add(Conv2D(48,kernel_size=5,padding='same',activation='relu'))\n",
        "        model[j].add(MaxPooling2D())\n",
        "    if j>1:\n",
        "        model[j].add(Conv2D(64,kernel_size=5,padding='same',activation='relu'))\n",
        "        model[j].add(MaxPooling2D(padding='same'))\n",
        "    model[j].add(Flatten())\n",
        "    model[j].add(Dense(256, activation='relu'))\n",
        "    model[j].add(Dense(4, activation='softmax'))\n",
        "    model[j].compile(optimizer=\"adam\", loss=\"categorical_crossentropy\", metrics=[\"accuracy\"])\n",
        "    # opt = SGD(lr=0.001, momentum=0.9)\n",
        "    # model[j].compile(optimizer=opt, loss='categorical_crossentropy', metrics=['accuracy'])"
      ],
      "execution_count": null,
      "outputs": []
    },
    {
      "cell_type": "code",
      "metadata": {
        "id": "IeKMGVwN6ZTO",
        "colab_type": "code",
        "colab": {}
      },
      "source": [
        "nets = 6\n",
        "model = [0] *nets\n",
        "for j in range(6):\n",
        "    model[j] = Sequential()\n",
        "    model[j].add(Conv2D(j*8+8,kernel_size=5,activation='relu',input_shape=(150,150,3)))\n",
        "    model[j].add(MaxPooling2D())\n",
        "    model[j].add(Conv2D(j*16+16,kernel_size=5,activation='relu'))\n",
        "    model[j].add(MaxPooling2D())\n",
        "    model[j].add(Flatten())\n",
        "    model[j].add(Dense(256, activation='relu'))\n",
        "    model[j].add(Dense(4, activation='softmax'))\n",
        "    model[j].compile(optimizer=\"adam\", loss=\"categorical_crossentropy\", metrics=[\"accuracy\"])"
      ],
      "execution_count": null,
      "outputs": []
    },
    {
      "cell_type": "code",
      "metadata": {
        "id": "NW8amy9iX1iF",
        "colab_type": "code",
        "colab": {}
      },
      "source": [
        ""
      ],
      "execution_count": null,
      "outputs": []
    },
    {
      "cell_type": "code",
      "metadata": {
        "id": "682-F1h2dian",
        "colab_type": "code",
        "colab": {}
      },
      "source": [
        ""
      ],
      "execution_count": null,
      "outputs": []
    },
    {
      "cell_type": "code",
      "metadata": {
        "id": "BZIEL8YIditq",
        "colab_type": "code",
        "colab": {}
      },
      "source": [
        ""
      ],
      "execution_count": null,
      "outputs": []
    },
    {
      "cell_type": "code",
      "metadata": {
        "id": "DhkPdHHFYLeD",
        "colab_type": "code",
        "colab": {
          "base_uri": "https://localhost:8080/",
          "height": 85
        },
        "outputId": "78f94e8a-d796-43c3-9ac0-cf2d6eb75ae7"
      },
      "source": [
        "print(X_train.shape)\n",
        "print(y_train.shape)\n",
        "print(X_test.shape)\n",
        "print(y_test.shape)"
      ],
      "execution_count": 33,
      "outputs": [
        {
          "output_type": "stream",
          "text": [
            "(6907, 150, 150, 3)\n",
            "(6907, 4)\n",
            "(1727, 150, 150, 3)\n",
            "(1727, 4)\n"
          ],
          "name": "stdout"
        }
      ]
    },
    {
      "cell_type": "code",
      "metadata": {
        "id": "jZ1TWPzWdjBt",
        "colab_type": "code",
        "colab": {}
      },
      "source": [
        ""
      ],
      "execution_count": null,
      "outputs": []
    },
    {
      "cell_type": "code",
      "metadata": {
        "id": "AtjBGUJb9QPO",
        "colab_type": "code",
        "colab": {}
      },
      "source": [
        "def summarize_diagnostics(history):\n",
        "\t# plot loss\n",
        "\tplt.subplot(211)\n",
        "\tplt.title('Cross Entropy Loss')\n",
        "\tplt.plot(history.history['loss'], color='blue', label='train')\n",
        "\tplt.plot(history.history['val_loss'], color='orange', label='test')\n",
        "\t# plot accuracy\n",
        "\tplt.subplot(212)\n",
        "\tplt.title('Classification Accuracy')\n",
        "\tplt.plot(history.history['accuracy'], color='blue', label='train')\n",
        "\tplt.plot(history.history['val_accuracy'], color='orange', label='test')"
      ],
      "execution_count": 34,
      "outputs": []
    },
    {
      "cell_type": "code",
      "metadata": {
        "id": "TLoWWJiPX_oN",
        "colab_type": "code",
        "colab": {
          "base_uri": "https://localhost:8080/",
          "height": 1000
        },
        "outputId": "3f11ab74-1546-4d24-f70c-56805e8146b8"
      },
      "source": [
        "# model_diag = model[1].fit(X_train, y_train, epochs=100, validation_data=(X_test, y_test))\n",
        "model_diag = model_v3.fit(X_train, y_train, epochs=100, validation_data=(X_test, y_test))\n",
        "summarize_diagnostics(model_diag)\n"
      ],
      "execution_count": 35,
      "outputs": [
        {
          "output_type": "stream",
          "text": [
            "Epoch 1/100\n",
            "216/216 [==============================] - 10s 49ms/step - loss: 3.8342 - acc: 0.8186 - val_loss: 0.3509 - val_acc: 0.8732\n",
            "Epoch 2/100\n",
            "216/216 [==============================] - 10s 44ms/step - loss: 0.2986 - acc: 0.8916 - val_loss: 0.3298 - val_acc: 0.8836\n",
            "Epoch 3/100\n",
            "216/216 [==============================] - 10s 44ms/step - loss: 0.2478 - acc: 0.9130 - val_loss: 0.3002 - val_acc: 0.8952\n",
            "Epoch 4/100\n",
            "216/216 [==============================] - 10s 45ms/step - loss: 0.2071 - acc: 0.9275 - val_loss: 0.3173 - val_acc: 0.8998\n",
            "Epoch 5/100\n",
            "216/216 [==============================] - 10s 45ms/step - loss: 0.1626 - acc: 0.9402 - val_loss: 0.3143 - val_acc: 0.9021\n",
            "Epoch 6/100\n",
            "216/216 [==============================] - 10s 45ms/step - loss: 0.1351 - acc: 0.9512 - val_loss: 0.3658 - val_acc: 0.8854\n",
            "Epoch 7/100\n",
            "216/216 [==============================] - 10s 44ms/step - loss: 0.1233 - acc: 0.9537 - val_loss: 0.5175 - val_acc: 0.8836\n",
            "Epoch 8/100\n",
            "216/216 [==============================] - 10s 44ms/step - loss: 0.1216 - acc: 0.9553 - val_loss: 0.4050 - val_acc: 0.8952\n",
            "Epoch 9/100\n",
            "216/216 [==============================] - 10s 44ms/step - loss: 0.0903 - acc: 0.9663 - val_loss: 0.3924 - val_acc: 0.8917\n",
            "Epoch 10/100\n",
            "216/216 [==============================] - 10s 44ms/step - loss: 0.1026 - acc: 0.9635 - val_loss: 0.4092 - val_acc: 0.8871\n",
            "Epoch 11/100\n",
            "216/216 [==============================] - 10s 44ms/step - loss: 0.1221 - acc: 0.9556 - val_loss: 0.4896 - val_acc: 0.8813\n",
            "Epoch 12/100\n",
            "216/216 [==============================] - 10s 44ms/step - loss: 0.1179 - acc: 0.9580 - val_loss: 0.4156 - val_acc: 0.8952\n",
            "Epoch 13/100\n",
            "216/216 [==============================] - 10s 44ms/step - loss: 0.0985 - acc: 0.9657 - val_loss: 0.4159 - val_acc: 0.8929\n",
            "Epoch 14/100\n",
            "216/216 [==============================] - 10s 45ms/step - loss: 0.0722 - acc: 0.9731 - val_loss: 0.4076 - val_acc: 0.8894\n",
            "Epoch 15/100\n",
            "216/216 [==============================] - 10s 44ms/step - loss: 0.0689 - acc: 0.9734 - val_loss: 0.6283 - val_acc: 0.8784\n",
            "Epoch 16/100\n",
            "216/216 [==============================] - 10s 44ms/step - loss: 0.0803 - acc: 0.9713 - val_loss: 0.5666 - val_acc: 0.8842\n",
            "Epoch 17/100\n",
            "216/216 [==============================] - 10s 44ms/step - loss: 0.0944 - acc: 0.9651 - val_loss: 0.4505 - val_acc: 0.8911\n",
            "Epoch 18/100\n",
            "216/216 [==============================] - 9s 44ms/step - loss: 0.0862 - acc: 0.9695 - val_loss: 0.6691 - val_acc: 0.8749\n",
            "Epoch 19/100\n",
            "216/216 [==============================] - 10s 44ms/step - loss: 0.0776 - acc: 0.9696 - val_loss: 0.5193 - val_acc: 0.8929\n",
            "Epoch 20/100\n",
            "216/216 [==============================] - 9s 44ms/step - loss: 0.0721 - acc: 0.9728 - val_loss: 0.6150 - val_acc: 0.8923\n",
            "Epoch 21/100\n",
            "216/216 [==============================] - 10s 44ms/step - loss: 0.0617 - acc: 0.9767 - val_loss: 0.5556 - val_acc: 0.8987\n",
            "Epoch 22/100\n",
            "216/216 [==============================] - 10s 44ms/step - loss: 0.0540 - acc: 0.9803 - val_loss: 0.5190 - val_acc: 0.8969\n",
            "Epoch 23/100\n",
            "216/216 [==============================] - 10s 44ms/step - loss: 0.0611 - acc: 0.9800 - val_loss: 0.6010 - val_acc: 0.8992\n",
            "Epoch 24/100\n",
            "216/216 [==============================] - 10s 44ms/step - loss: 0.0611 - acc: 0.9776 - val_loss: 0.5760 - val_acc: 0.9039\n",
            "Epoch 25/100\n",
            "216/216 [==============================] - 10s 44ms/step - loss: 0.0612 - acc: 0.9778 - val_loss: 0.6619 - val_acc: 0.8923\n",
            "Epoch 26/100\n",
            "216/216 [==============================] - 10s 44ms/step - loss: 0.0590 - acc: 0.9800 - val_loss: 0.8363 - val_acc: 0.8958\n",
            "Epoch 27/100\n",
            "216/216 [==============================] - 10s 44ms/step - loss: 0.0847 - acc: 0.9712 - val_loss: 0.6985 - val_acc: 0.8801\n",
            "Epoch 28/100\n",
            "216/216 [==============================] - 10s 44ms/step - loss: 0.0694 - acc: 0.9747 - val_loss: 0.6168 - val_acc: 0.8929\n",
            "Epoch 29/100\n",
            "216/216 [==============================] - 10s 44ms/step - loss: 0.0486 - acc: 0.9836 - val_loss: 0.7136 - val_acc: 0.8894\n",
            "Epoch 30/100\n",
            "216/216 [==============================] - 10s 44ms/step - loss: 0.0468 - acc: 0.9834 - val_loss: 0.7814 - val_acc: 0.8946\n",
            "Epoch 31/100\n",
            "216/216 [==============================] - 10s 44ms/step - loss: 0.0529 - acc: 0.9815 - val_loss: 0.7147 - val_acc: 0.8946\n",
            "Epoch 32/100\n",
            "216/216 [==============================] - 10s 44ms/step - loss: 0.0632 - acc: 0.9786 - val_loss: 0.5695 - val_acc: 0.8992\n",
            "Epoch 33/100\n",
            "216/216 [==============================] - 10s 44ms/step - loss: 0.0542 - acc: 0.9819 - val_loss: 0.9463 - val_acc: 0.8964\n",
            "Epoch 34/100\n",
            "216/216 [==============================] - 10s 44ms/step - loss: 0.0626 - acc: 0.9773 - val_loss: 0.7049 - val_acc: 0.8992\n",
            "Epoch 35/100\n",
            "216/216 [==============================] - 10s 44ms/step - loss: 0.0511 - acc: 0.9834 - val_loss: 0.6645 - val_acc: 0.8900\n",
            "Epoch 36/100\n",
            "216/216 [==============================] - 10s 44ms/step - loss: 0.0383 - acc: 0.9838 - val_loss: 0.7675 - val_acc: 0.8935\n",
            "Epoch 37/100\n",
            "216/216 [==============================] - 10s 44ms/step - loss: 0.0514 - acc: 0.9829 - val_loss: 0.7674 - val_acc: 0.8958\n",
            "Epoch 38/100\n",
            "216/216 [==============================] - 10s 44ms/step - loss: 0.0285 - acc: 0.9906 - val_loss: 0.8354 - val_acc: 0.9027\n",
            "Epoch 39/100\n",
            "216/216 [==============================] - 10s 44ms/step - loss: 0.0356 - acc: 0.9854 - val_loss: 0.8896 - val_acc: 0.9004\n",
            "Epoch 40/100\n",
            "216/216 [==============================] - 10s 44ms/step - loss: 0.0546 - acc: 0.9818 - val_loss: 0.7782 - val_acc: 0.9010\n",
            "Epoch 41/100\n",
            "216/216 [==============================] - 10s 44ms/step - loss: 0.0426 - acc: 0.9855 - val_loss: 0.7180 - val_acc: 0.8882\n",
            "Epoch 42/100\n",
            "216/216 [==============================] - 10s 44ms/step - loss: 0.0367 - acc: 0.9860 - val_loss: 0.6493 - val_acc: 0.8975\n",
            "Epoch 43/100\n",
            "216/216 [==============================] - 10s 44ms/step - loss: 0.0654 - acc: 0.9783 - val_loss: 0.6954 - val_acc: 0.8958\n",
            "Epoch 44/100\n",
            "216/216 [==============================] - 10s 44ms/step - loss: 0.0661 - acc: 0.9773 - val_loss: 0.9005 - val_acc: 0.8923\n",
            "Epoch 45/100\n",
            "216/216 [==============================] - 10s 44ms/step - loss: 0.0467 - acc: 0.9852 - val_loss: 0.8120 - val_acc: 0.9010\n",
            "Epoch 46/100\n",
            "216/216 [==============================] - 10s 44ms/step - loss: 0.0289 - acc: 0.9896 - val_loss: 0.9436 - val_acc: 0.8981\n",
            "Epoch 47/100\n",
            "216/216 [==============================] - 10s 44ms/step - loss: 0.0329 - acc: 0.9862 - val_loss: 0.7850 - val_acc: 0.8917\n",
            "Epoch 48/100\n",
            "216/216 [==============================] - 10s 44ms/step - loss: 0.0344 - acc: 0.9857 - val_loss: 0.8293 - val_acc: 0.8813\n",
            "Epoch 49/100\n",
            "216/216 [==============================] - 10s 44ms/step - loss: 0.0383 - acc: 0.9855 - val_loss: 0.9870 - val_acc: 0.8946\n",
            "Epoch 50/100\n",
            "216/216 [==============================] - 10s 44ms/step - loss: 0.0285 - acc: 0.9893 - val_loss: 0.9777 - val_acc: 0.9033\n",
            "Epoch 51/100\n",
            "216/216 [==============================] - 10s 44ms/step - loss: 0.0372 - acc: 0.9857 - val_loss: 0.8334 - val_acc: 0.8923\n",
            "Epoch 52/100\n",
            "216/216 [==============================] - 10s 44ms/step - loss: 0.0418 - acc: 0.9873 - val_loss: 0.8104 - val_acc: 0.8923\n",
            "Epoch 53/100\n",
            "216/216 [==============================] - 10s 44ms/step - loss: 0.0430 - acc: 0.9857 - val_loss: 0.9969 - val_acc: 0.8940\n",
            "Epoch 54/100\n",
            "216/216 [==============================] - 10s 44ms/step - loss: 0.0286 - acc: 0.9884 - val_loss: 0.7528 - val_acc: 0.9010\n",
            "Epoch 55/100\n",
            "216/216 [==============================] - 10s 44ms/step - loss: 0.0424 - acc: 0.9862 - val_loss: 0.7342 - val_acc: 0.8964\n",
            "Epoch 56/100\n",
            "216/216 [==============================] - 10s 44ms/step - loss: 0.0448 - acc: 0.9832 - val_loss: 0.9361 - val_acc: 0.8946\n",
            "Epoch 57/100\n",
            "216/216 [==============================] - 10s 44ms/step - loss: 0.0419 - acc: 0.9842 - val_loss: 0.9751 - val_acc: 0.8935\n",
            "Epoch 58/100\n",
            "216/216 [==============================] - 10s 44ms/step - loss: 0.0306 - acc: 0.9891 - val_loss: 0.9674 - val_acc: 0.8975\n",
            "Epoch 59/100\n",
            "216/216 [==============================] - 10s 44ms/step - loss: 0.0264 - acc: 0.9906 - val_loss: 1.0450 - val_acc: 0.8958\n",
            "Epoch 60/100\n",
            "216/216 [==============================] - 10s 44ms/step - loss: 0.0479 - acc: 0.9844 - val_loss: 0.8471 - val_acc: 0.8877\n",
            "Epoch 61/100\n",
            "216/216 [==============================] - 10s 44ms/step - loss: 0.0486 - acc: 0.9854 - val_loss: 1.1403 - val_acc: 0.8900\n",
            "Epoch 62/100\n",
            "216/216 [==============================] - 10s 44ms/step - loss: 0.0558 - acc: 0.9805 - val_loss: 0.8021 - val_acc: 0.9016\n",
            "Epoch 63/100\n",
            "216/216 [==============================] - 10s 44ms/step - loss: 0.0346 - acc: 0.9867 - val_loss: 0.7309 - val_acc: 0.8946\n",
            "Epoch 64/100\n",
            "216/216 [==============================] - 10s 44ms/step - loss: 0.0294 - acc: 0.9903 - val_loss: 1.0404 - val_acc: 0.8935\n",
            "Epoch 65/100\n",
            "216/216 [==============================] - 10s 44ms/step - loss: 0.0303 - acc: 0.9890 - val_loss: 1.2532 - val_acc: 0.9010\n",
            "Epoch 66/100\n",
            "216/216 [==============================] - 10s 44ms/step - loss: 0.0273 - acc: 0.9910 - val_loss: 0.9955 - val_acc: 0.9045\n",
            "Epoch 67/100\n",
            "216/216 [==============================] - 10s 44ms/step - loss: 0.0384 - acc: 0.9873 - val_loss: 0.9495 - val_acc: 0.8969\n",
            "Epoch 68/100\n",
            "216/216 [==============================] - 9s 44ms/step - loss: 0.0473 - acc: 0.9864 - val_loss: 0.8434 - val_acc: 0.8975\n",
            "Epoch 69/100\n",
            "216/216 [==============================] - 10s 44ms/step - loss: 0.0423 - acc: 0.9862 - val_loss: 0.9529 - val_acc: 0.9004\n",
            "Epoch 70/100\n",
            "216/216 [==============================] - 10s 45ms/step - loss: 0.0256 - acc: 0.9893 - val_loss: 0.9757 - val_acc: 0.8987\n",
            "Epoch 71/100\n",
            "216/216 [==============================] - 10s 44ms/step - loss: 0.0324 - acc: 0.9886 - val_loss: 0.9308 - val_acc: 0.8981\n",
            "Epoch 72/100\n",
            "216/216 [==============================] - 10s 44ms/step - loss: 0.0311 - acc: 0.9897 - val_loss: 0.8982 - val_acc: 0.8929\n",
            "Epoch 73/100\n",
            "216/216 [==============================] - 10s 44ms/step - loss: 0.0329 - acc: 0.9887 - val_loss: 1.1412 - val_acc: 0.9039\n",
            "Epoch 74/100\n",
            "216/216 [==============================] - 10s 44ms/step - loss: 0.0349 - acc: 0.9884 - val_loss: 0.8724 - val_acc: 0.8935\n",
            "Epoch 75/100\n",
            "216/216 [==============================] - 10s 44ms/step - loss: 0.0253 - acc: 0.9906 - val_loss: 1.0122 - val_acc: 0.8969\n",
            "Epoch 76/100\n",
            "216/216 [==============================] - 10s 44ms/step - loss: 0.0408 - acc: 0.9855 - val_loss: 1.0580 - val_acc: 0.8935\n",
            "Epoch 77/100\n",
            "216/216 [==============================] - 10s 45ms/step - loss: 0.0256 - acc: 0.9910 - val_loss: 0.9172 - val_acc: 0.8940\n",
            "Epoch 78/100\n",
            "216/216 [==============================] - 10s 44ms/step - loss: 0.0214 - acc: 0.9936 - val_loss: 1.2542 - val_acc: 0.8975\n",
            "Epoch 79/100\n",
            "216/216 [==============================] - 10s 44ms/step - loss: 0.0471 - acc: 0.9860 - val_loss: 0.9756 - val_acc: 0.8859\n",
            "Epoch 80/100\n",
            "216/216 [==============================] - 10s 44ms/step - loss: 0.0423 - acc: 0.9868 - val_loss: 1.0951 - val_acc: 0.8836\n",
            "Epoch 81/100\n",
            "216/216 [==============================] - 10s 44ms/step - loss: 0.0280 - acc: 0.9904 - val_loss: 1.1234 - val_acc: 0.8854\n",
            "Epoch 82/100\n",
            "216/216 [==============================] - 9s 44ms/step - loss: 0.0272 - acc: 0.9904 - val_loss: 1.1595 - val_acc: 0.8900\n",
            "Epoch 83/100\n",
            "216/216 [==============================] - 10s 44ms/step - loss: 0.0303 - acc: 0.9886 - val_loss: 1.1490 - val_acc: 0.8958\n",
            "Epoch 84/100\n",
            "216/216 [==============================] - 10s 44ms/step - loss: 0.0371 - acc: 0.9878 - val_loss: 1.1886 - val_acc: 0.8969\n",
            "Epoch 85/100\n",
            "216/216 [==============================] - 10s 44ms/step - loss: 0.0411 - acc: 0.9847 - val_loss: 0.9575 - val_acc: 0.8917\n",
            "Epoch 86/100\n",
            "216/216 [==============================] - 10s 44ms/step - loss: 0.0299 - acc: 0.9896 - val_loss: 1.0848 - val_acc: 0.8929\n",
            "Epoch 87/100\n",
            "216/216 [==============================] - 10s 44ms/step - loss: 0.0344 - acc: 0.9894 - val_loss: 1.1037 - val_acc: 0.8958\n",
            "Epoch 88/100\n",
            "216/216 [==============================] - 10s 44ms/step - loss: 0.0286 - acc: 0.9897 - val_loss: 1.0563 - val_acc: 0.9027\n",
            "Epoch 89/100\n",
            "216/216 [==============================] - 10s 44ms/step - loss: 0.0203 - acc: 0.9923 - val_loss: 1.2196 - val_acc: 0.8952\n",
            "Epoch 90/100\n",
            "216/216 [==============================] - 9s 44ms/step - loss: 0.0315 - acc: 0.9896 - val_loss: 1.1232 - val_acc: 0.8952\n",
            "Epoch 91/100\n",
            "216/216 [==============================] - 10s 44ms/step - loss: 0.0246 - acc: 0.9917 - val_loss: 1.1952 - val_acc: 0.8946\n",
            "Epoch 92/100\n",
            "216/216 [==============================] - 10s 44ms/step - loss: 0.0266 - acc: 0.9904 - val_loss: 1.2088 - val_acc: 0.8981\n",
            "Epoch 93/100\n",
            "216/216 [==============================] - 10s 44ms/step - loss: 0.0305 - acc: 0.9902 - val_loss: 1.1917 - val_acc: 0.8964\n",
            "Epoch 94/100\n",
            "216/216 [==============================] - 10s 44ms/step - loss: 0.0264 - acc: 0.9904 - val_loss: 1.2622 - val_acc: 0.8969\n",
            "Epoch 95/100\n",
            "216/216 [==============================] - 10s 44ms/step - loss: 0.0209 - acc: 0.9922 - val_loss: 1.1542 - val_acc: 0.8958\n",
            "Epoch 96/100\n",
            "216/216 [==============================] - 10s 44ms/step - loss: 0.0245 - acc: 0.9923 - val_loss: 1.1680 - val_acc: 0.8958\n",
            "Epoch 97/100\n",
            "216/216 [==============================] - 10s 44ms/step - loss: 0.0295 - acc: 0.9913 - val_loss: 1.5080 - val_acc: 0.8906\n",
            "Epoch 98/100\n",
            "216/216 [==============================] - 10s 44ms/step - loss: 0.0516 - acc: 0.9831 - val_loss: 1.0383 - val_acc: 0.8929\n",
            "Epoch 99/100\n",
            "216/216 [==============================] - 10s 44ms/step - loss: 0.0359 - acc: 0.9874 - val_loss: 0.9965 - val_acc: 0.8888\n",
            "Epoch 100/100\n",
            "216/216 [==============================] - 10s 44ms/step - loss: 0.0310 - acc: 0.9887 - val_loss: 1.0171 - val_acc: 0.8975\n"
          ],
          "name": "stdout"
        },
        {
          "output_type": "error",
          "ename": "KeyError",
          "evalue": "ignored",
          "traceback": [
            "\u001b[0;31m---------------------------------------------------------------------------\u001b[0m",
            "\u001b[0;31mKeyError\u001b[0m                                  Traceback (most recent call last)",
            "\u001b[0;32m<ipython-input-35-98297fd90628>\u001b[0m in \u001b[0;36m<module>\u001b[0;34m()\u001b[0m\n\u001b[1;32m      1\u001b[0m \u001b[0;31m# model_diag = model[1].fit(X_train, y_train, epochs=100, validation_data=(X_test, y_test))\u001b[0m\u001b[0;34m\u001b[0m\u001b[0;34m\u001b[0m\u001b[0;34m\u001b[0m\u001b[0m\n\u001b[1;32m      2\u001b[0m \u001b[0mmodel_diag\u001b[0m \u001b[0;34m=\u001b[0m \u001b[0mmodel_v3\u001b[0m\u001b[0;34m.\u001b[0m\u001b[0mfit\u001b[0m\u001b[0;34m(\u001b[0m\u001b[0mX_train\u001b[0m\u001b[0;34m,\u001b[0m \u001b[0my_train\u001b[0m\u001b[0;34m,\u001b[0m \u001b[0mepochs\u001b[0m\u001b[0;34m=\u001b[0m\u001b[0;36m100\u001b[0m\u001b[0;34m,\u001b[0m \u001b[0mvalidation_data\u001b[0m\u001b[0;34m=\u001b[0m\u001b[0;34m(\u001b[0m\u001b[0mX_test\u001b[0m\u001b[0;34m,\u001b[0m \u001b[0my_test\u001b[0m\u001b[0;34m)\u001b[0m\u001b[0;34m)\u001b[0m\u001b[0;34m\u001b[0m\u001b[0;34m\u001b[0m\u001b[0m\n\u001b[0;32m----> 3\u001b[0;31m \u001b[0msummarize_diagnostics\u001b[0m\u001b[0;34m(\u001b[0m\u001b[0mmodel_diag\u001b[0m\u001b[0;34m)\u001b[0m\u001b[0;34m\u001b[0m\u001b[0;34m\u001b[0m\u001b[0m\n\u001b[0m",
            "\u001b[0;32m<ipython-input-34-ecff86157b49>\u001b[0m in \u001b[0;36msummarize_diagnostics\u001b[0;34m(history)\u001b[0m\n\u001b[1;32m      8\u001b[0m         \u001b[0mplt\u001b[0m\u001b[0;34m.\u001b[0m\u001b[0msubplot\u001b[0m\u001b[0;34m(\u001b[0m\u001b[0;36m212\u001b[0m\u001b[0;34m)\u001b[0m\u001b[0;34m\u001b[0m\u001b[0;34m\u001b[0m\u001b[0m\n\u001b[1;32m      9\u001b[0m         \u001b[0mplt\u001b[0m\u001b[0;34m.\u001b[0m\u001b[0mtitle\u001b[0m\u001b[0;34m(\u001b[0m\u001b[0;34m'Classification Accuracy'\u001b[0m\u001b[0;34m)\u001b[0m\u001b[0;34m\u001b[0m\u001b[0;34m\u001b[0m\u001b[0m\n\u001b[0;32m---> 10\u001b[0;31m         \u001b[0mplt\u001b[0m\u001b[0;34m.\u001b[0m\u001b[0mplot\u001b[0m\u001b[0;34m(\u001b[0m\u001b[0mhistory\u001b[0m\u001b[0;34m.\u001b[0m\u001b[0mhistory\u001b[0m\u001b[0;34m[\u001b[0m\u001b[0;34m'accuracy'\u001b[0m\u001b[0;34m]\u001b[0m\u001b[0;34m,\u001b[0m \u001b[0mcolor\u001b[0m\u001b[0;34m=\u001b[0m\u001b[0;34m'blue'\u001b[0m\u001b[0;34m,\u001b[0m \u001b[0mlabel\u001b[0m\u001b[0;34m=\u001b[0m\u001b[0;34m'train'\u001b[0m\u001b[0;34m)\u001b[0m\u001b[0;34m\u001b[0m\u001b[0;34m\u001b[0m\u001b[0m\n\u001b[0m\u001b[1;32m     11\u001b[0m         \u001b[0mplt\u001b[0m\u001b[0;34m.\u001b[0m\u001b[0mplot\u001b[0m\u001b[0;34m(\u001b[0m\u001b[0mhistory\u001b[0m\u001b[0;34m.\u001b[0m\u001b[0mhistory\u001b[0m\u001b[0;34m[\u001b[0m\u001b[0;34m'val_accuracy'\u001b[0m\u001b[0;34m]\u001b[0m\u001b[0;34m,\u001b[0m \u001b[0mcolor\u001b[0m\u001b[0;34m=\u001b[0m\u001b[0;34m'orange'\u001b[0m\u001b[0;34m,\u001b[0m \u001b[0mlabel\u001b[0m\u001b[0;34m=\u001b[0m\u001b[0;34m'test'\u001b[0m\u001b[0;34m)\u001b[0m\u001b[0;34m\u001b[0m\u001b[0;34m\u001b[0m\u001b[0m\n",
            "\u001b[0;31mKeyError\u001b[0m: 'accuracy'"
          ]
        },
        {
          "output_type": "display_data",
          "data": {
            "image/png": "[encoded data removed]",
            "text/plain": [
              "<Figure size 432x288 with 2 Axes>"
            ]
          },
          "metadata": {
            "tags": [],
            "needs_background": "light"
          }
        }
      ]
    },
    {
      "cell_type": "code",
      "metadata": {
        "id": "WlBI8Ob4iJjX",
        "colab_type": "code",
        "colab": {}
      },
      "source": [
        "def summarize_diagnostics(history):\n",
        "\t# plot loss\n",
        "\tplt.subplot(211)\n",
        "\tplt.title('Cross Entropy Loss')\n",
        "\tplt.plot(history.history['loss'], color='blue', label='train')\n",
        "\tplt.plot(history.history['val_loss'], color='orange', label='test')\n",
        "\t# plot accuracy\n",
        "\tplt.subplot(212)\n",
        "\tplt.title('Classification Accuracy')\n",
        "\tplt.plot(history.history['acc'], color='blue', label='train')\n",
        "\tplt.plot(history.history['val_acc'], color='orange', label='test')"
      ],
      "execution_count": 36,
      "outputs": []
    },
    {
      "cell_type": "code",
      "metadata": {
        "id": "9Y6_HQsxiOR9",
        "colab_type": "code",
        "colab": {
          "base_uri": "https://localhost:8080/",
          "height": 281
        },
        "outputId": "58057aa1-dd39-4745-f5a5-e442aa1b691d"
      },
      "source": [
        "summarize_diagnostics(model_diag)\n"
      ],
      "execution_count": 37,
      "outputs": [
        {
          "output_type": "display_data",
          "data": {
            "image/png": "[encoded data removed]",
            "text/plain": [
              "<Figure size 432x288 with 2 Axes>"
            ]
          },
          "metadata": {
            "tags": [],
            "needs_background": "light"
          }
        }
      ]
    },
    {
      "cell_type": "code",
      "metadata": {
        "id": "udZ4aiTMbJ7K",
        "colab_type": "code",
        "colab": {}
      },
      "source": [
        "test_image = []\n",
        "img = image.load_img('/content/drive/Shared drives/New Markets/Aman/Project Neo/temp_2.jpg',target_size=(150,150,3), grayscale=False)\n",
        "img = image.img_to_array(img)\n",
        "img = img/255\n",
        "test_image.append(img)\n",
        "test = np.array(test_image)\n",
        "\n"
      ],
      "execution_count": 40,
      "outputs": []
    },
    {
      "cell_type": "code",
      "metadata": {
        "id": "dZRm8OnI3ooh",
        "colab_type": "code",
        "colab": {
          "base_uri": "https://localhost:8080/",
          "height": 286
        },
        "outputId": "00da315b-7e47-4bc7-cbb9-d6508675d02e"
      },
      "source": [
        "plt.imshow(img)"
      ],
      "execution_count": 41,
      "outputs": [
        {
          "output_type": "execute_result",
          "data": {
            "text/plain": [
              "<matplotlib.image.AxesImage at 0x7f92fce0c1d0>"
            ]
          },
          "metadata": {
            "tags": []
          },
          "execution_count": 41
        },
        {
          "output_type": "display_data",
          "data": {
            "image/png": "[encoded data removed]",
            "text/plain": [
              "<Figure size 432x288 with 1 Axes>"
            ]
          },
          "metadata": {
            "tags": [],
            "needs_background": "light"
          }
        }
      ]
    },
    {
      "cell_type": "code",
      "metadata": {
        "id": "sLY5kL-gbPw-",
        "colab_type": "code",
        "colab": {}
      },
      "source": [
        "\n",
        "prediction = model_v3.predict(test)"
      ],
      "execution_count": 43,
      "outputs": []
    },
    {
      "cell_type": "code",
      "metadata": {
        "id": "XGtmmWUBdMSU",
        "colab_type": "code",
        "colab": {
          "base_uri": "https://localhost:8080/",
          "height": 51
        },
        "outputId": "cdc8a2b4-c442-4240-d36d-4dac9702ddce"
      },
      "source": [
        "prediction*100"
      ],
      "execution_count": 47,
      "outputs": [
        {
          "output_type": "execute_result",
          "data": {
            "text/plain": [
              "array([[9.3553482e+01, 7.0188262e-02, 6.3739328e+00, 2.3852345e-03]],\n",
              "      dtype=float32)"
            ]
          },
          "metadata": {
            "tags": []
          },
          "execution_count": 47
        }
      ]
    },
    {
      "cell_type": "code",
      "metadata": {
        "id": "p7TSauSCdhSD",
        "colab_type": "code",
        "colab": {
          "base_uri": "https://localhost:8080/",
          "height": 34
        },
        "outputId": "a192074e-a825-4913-d21f-eff4590b539d"
      },
      "source": [
        "d"
      ],
      "execution_count": null,
      "outputs": [
        {
          "output_type": "execute_result",
          "data": {
            "text/plain": [
              "{'Dresses&Skirts': 0, 'Handbags': 1, 'Jackets&Blazers': 2, 'Shoes': 3}"
            ]
          },
          "metadata": {
            "tags": []
          },
          "execution_count": 112
        }
      ]
    },
    {
      "cell_type": "code",
      "metadata": {
        "id": "UPBi4fC3djQz",
        "colab_type": "code",
        "colab": {}
      },
      "source": [
        ""
      ],
      "execution_count": null,
      "outputs": []
    },
    {
      "cell_type": "markdown",
      "metadata": {
        "id": "uc6JA4VAjttU",
        "colab_type": "text"
      },
      "source": [
        "## Checking Balance of dataset"
      ]
    },
    {
      "cell_type": "code",
      "metadata": {
        "id": "ZOyzd2Cd85Hz",
        "colab_type": "code",
        "colab": {
          "base_uri": "https://localhost:8080/",
          "height": 54
        },
        "outputId": "9d841e98-e860-4659-960d-06cefa7596f3"
      },
      "source": [
        " try:\n",
        "      img_temp = image.load_img('/content/drive/Shared drives/New Markets/Aman/Project Neo/image-data-med/5e137b40b3e9171fb0ece02e.jpg', target_size=(56,56,3), grayscale=False)\n",
        "except Exception as e:\n",
        "      print(e)"
      ],
      "execution_count": null,
      "outputs": [
        {
          "output_type": "stream",
          "text": [
            "[Errno 2] No such file or directory: '/content/drive/Shared drives/New Markets/Aman/Project Neo/image-data-med/5e137b40b3e9171fb0ece02e.jpg'\n"
          ],
          "name": "stdout"
        }
      ]
    },
    {
      "cell_type": "code",
      "metadata": {
        "id": "G0IL3BACkNmy",
        "colab_type": "code",
        "colab": {
          "base_uri": "https://localhost:8080/",
          "height": 204
        },
        "outputId": "68b5b985-02ac-4a95-d901-155913cd7d15"
      },
      "source": [
        "train.head()"
      ],
      "execution_count": null,
      "outputs": [
        {
          "output_type": "execute_result",
          "data": {
            "text/html": [
              "<div>\n",
              "<style scoped>\n",
              "    .dataframe tbody tr th:only-of-type {\n",
              "        vertical-align: middle;\n",
              "    }\n",
              "\n",
              "    .dataframe tbody tr th {\n",
              "        vertical-align: top;\n",
              "    }\n",
              "\n",
              "    .dataframe thead th {\n",
              "        text-align: right;\n",
              "    }\n",
              "</style>\n",
              "<table border=\"1\" class=\"dataframe\">\n",
              "  <thead>\n",
              "    <tr style=\"text-align: right;\">\n",
              "      <th></th>\n",
              "      <th>category</th>\n",
              "      <th>image_filename</th>\n",
              "    </tr>\n",
              "  </thead>\n",
              "  <tbody>\n",
              "    <tr>\n",
              "      <th>0</th>\n",
              "      <td>0</td>\n",
              "      <td>5e17d1919d3b78474d296d12.jpg</td>\n",
              "    </tr>\n",
              "    <tr>\n",
              "      <th>1</th>\n",
              "      <td>0</td>\n",
              "      <td>5e102444138e1891a5c72ecb.jpg</td>\n",
              "    </tr>\n",
              "    <tr>\n",
              "      <th>2</th>\n",
              "      <td>0</td>\n",
              "      <td>5e0e754d9e1559244942bd6e.jpg</td>\n",
              "    </tr>\n",
              "    <tr>\n",
              "      <th>3</th>\n",
              "      <td>0</td>\n",
              "      <td>5e11196de974fbb7c1039027.jpg</td>\n",
              "    </tr>\n",
              "    <tr>\n",
              "      <th>4</th>\n",
              "      <td>0</td>\n",
              "      <td>5e195b3693b46a0f0f3f4354.jpg</td>\n",
              "    </tr>\n",
              "  </tbody>\n",
              "</table>\n",
              "</div>"
            ],
            "text/plain": [
              "   category                image_filename\n",
              "0         0  5e17d1919d3b78474d296d12.jpg\n",
              "1         0  5e102444138e1891a5c72ecb.jpg\n",
              "2         0  5e0e754d9e1559244942bd6e.jpg\n",
              "3         0  5e11196de974fbb7c1039027.jpg\n",
              "4         0  5e195b3693b46a0f0f3f4354.jpg"
            ]
          },
          "metadata": {
            "tags": []
          },
          "execution_count": 59
        }
      ]
    },
    {
      "cell_type": "code",
      "metadata": {
        "id": "zOAaH5RIkV-h",
        "colab_type": "code",
        "colab": {
          "base_uri": "https://localhost:8080/",
          "height": 419
        },
        "outputId": "84f2c270-d092-4aaa-fcf3-c7872ec4f5a0"
      },
      "source": [
        "train.drop(train[train['image_filename'] == '5e137b40b3e9171fb0ece02e.jpg'].index,axis = 0)\n"
      ],
      "execution_count": null,
      "outputs": [
        {
          "output_type": "execute_result",
          "data": {
            "text/html": [
              "<div>\n",
              "<style scoped>\n",
              "    .dataframe tbody tr th:only-of-type {\n",
              "        vertical-align: middle;\n",
              "    }\n",
              "\n",
              "    .dataframe tbody tr th {\n",
              "        vertical-align: top;\n",
              "    }\n",
              "\n",
              "    .dataframe thead th {\n",
              "        text-align: right;\n",
              "    }\n",
              "</style>\n",
              "<table border=\"1\" class=\"dataframe\">\n",
              "  <thead>\n",
              "    <tr style=\"text-align: right;\">\n",
              "      <th></th>\n",
              "      <th>category</th>\n",
              "      <th>image_filename</th>\n",
              "    </tr>\n",
              "  </thead>\n",
              "  <tbody>\n",
              "    <tr>\n",
              "      <th>0</th>\n",
              "      <td>0</td>\n",
              "      <td>5e17d1919d3b78474d296d12.jpg</td>\n",
              "    </tr>\n",
              "    <tr>\n",
              "      <th>1</th>\n",
              "      <td>0</td>\n",
              "      <td>5e102444138e1891a5c72ecb.jpg</td>\n",
              "    </tr>\n",
              "    <tr>\n",
              "      <th>2</th>\n",
              "      <td>0</td>\n",
              "      <td>5e0e754d9e1559244942bd6e.jpg</td>\n",
              "    </tr>\n",
              "    <tr>\n",
              "      <th>3</th>\n",
              "      <td>0</td>\n",
              "      <td>5e11196de974fbb7c1039027.jpg</td>\n",
              "    </tr>\n",
              "    <tr>\n",
              "      <th>4</th>\n",
              "      <td>0</td>\n",
              "      <td>5e195b3693b46a0f0f3f4354.jpg</td>\n",
              "    </tr>\n",
              "    <tr>\n",
              "      <th>...</th>\n",
              "      <td>...</td>\n",
              "      <td>...</td>\n",
              "    </tr>\n",
              "    <tr>\n",
              "      <th>9995</th>\n",
              "      <td>3</td>\n",
              "      <td>5e1272e72cc51543596b6a61.jpg</td>\n",
              "    </tr>\n",
              "    <tr>\n",
              "      <th>9996</th>\n",
              "      <td>3</td>\n",
              "      <td>5e17dd7619c1572b80f1d8a8.jpg</td>\n",
              "    </tr>\n",
              "    <tr>\n",
              "      <th>9997</th>\n",
              "      <td>3</td>\n",
              "      <td>5e190bf821cd0a6ca2f3e09a.jpg</td>\n",
              "    </tr>\n",
              "    <tr>\n",
              "      <th>9998</th>\n",
              "      <td>3</td>\n",
              "      <td>5e1515fb318740ead388740a.jpg</td>\n",
              "    </tr>\n",
              "    <tr>\n",
              "      <th>9999</th>\n",
              "      <td>3</td>\n",
              "      <td>5e18c1f56a7fba3c61e58ed1.jpg</td>\n",
              "    </tr>\n",
              "  </tbody>\n",
              "</table>\n",
              "<p>9999 rows × 2 columns</p>\n",
              "</div>"
            ],
            "text/plain": [
              "      category                image_filename\n",
              "0            0  5e17d1919d3b78474d296d12.jpg\n",
              "1            0  5e102444138e1891a5c72ecb.jpg\n",
              "2            0  5e0e754d9e1559244942bd6e.jpg\n",
              "3            0  5e11196de974fbb7c1039027.jpg\n",
              "4            0  5e195b3693b46a0f0f3f4354.jpg\n",
              "...        ...                           ...\n",
              "9995         3  5e1272e72cc51543596b6a61.jpg\n",
              "9996         3  5e17dd7619c1572b80f1d8a8.jpg\n",
              "9997         3  5e190bf821cd0a6ca2f3e09a.jpg\n",
              "9998         3  5e1515fb318740ead388740a.jpg\n",
              "9999         3  5e18c1f56a7fba3c61e58ed1.jpg\n",
              "\n",
              "[9999 rows x 2 columns]"
            ]
          },
          "metadata": {
            "tags": []
          },
          "execution_count": 63
        }
      ]
    },
    {
      "cell_type": "code",
      "metadata": {
        "id": "Z5xO92eJkc3C",
        "colab_type": "code",
        "colab": {
          "base_uri": "https://localhost:8080/",
          "height": 34
        },
        "outputId": "4087e570-f7fe-43c1-f52c-6e89f19cbbe4"
      },
      "source": [
        "import os\n",
        "img_list = os.listdir(\"/content/drive/Shared drives/New Markets/Aman/Project Neo/image-data-med/\")\n",
        "len(img_list)"
      ],
      "execution_count": 14,
      "outputs": [
        {
          "output_type": "execute_result",
          "data": {
            "text/plain": [
              "8643"
            ]
          },
          "metadata": {
            "tags": []
          },
          "execution_count": 14
        }
      ]
    },
    {
      "cell_type": "code",
      "metadata": {
        "id": "HGgCpgqglj9v",
        "colab_type": "code",
        "colab": {}
      },
      "source": [
        "train['flag'] = train['image_filename'].apply(lambda x: True if x in img_list else False)"
      ],
      "execution_count": 15,
      "outputs": []
    },
    {
      "cell_type": "code",
      "metadata": {
        "id": "ICSv85-CmYhy",
        "colab_type": "code",
        "colab": {
          "base_uri": "https://localhost:8080/",
          "height": 204
        },
        "outputId": "0113a1b0-c836-44cf-99e2-21d1b8cea7da"
      },
      "source": [
        "train['flag'] = train['image_filename'].apply(lambda x: True if x in img_list else False)\n",
        "train_cleaned = train[train['flag'] == True]\n",
        "train_cleaned.head()"
      ],
      "execution_count": 16,
      "outputs": [
        {
          "output_type": "execute_result",
          "data": {
            "text/html": [
              "<div>\n",
              "<style scoped>\n",
              "    .dataframe tbody tr th:only-of-type {\n",
              "        vertical-align: middle;\n",
              "    }\n",
              "\n",
              "    .dataframe tbody tr th {\n",
              "        vertical-align: top;\n",
              "    }\n",
              "\n",
              "    .dataframe thead th {\n",
              "        text-align: right;\n",
              "    }\n",
              "</style>\n",
              "<table border=\"1\" class=\"dataframe\">\n",
              "  <thead>\n",
              "    <tr style=\"text-align: right;\">\n",
              "      <th></th>\n",
              "      <th>category</th>\n",
              "      <th>image_filename</th>\n",
              "      <th>flag</th>\n",
              "    </tr>\n",
              "  </thead>\n",
              "  <tbody>\n",
              "    <tr>\n",
              "      <th>0</th>\n",
              "      <td>0</td>\n",
              "      <td>5e17d1919d3b78474d296d12.jpg</td>\n",
              "      <td>True</td>\n",
              "    </tr>\n",
              "    <tr>\n",
              "      <th>1</th>\n",
              "      <td>0</td>\n",
              "      <td>5e102444138e1891a5c72ecb.jpg</td>\n",
              "      <td>True</td>\n",
              "    </tr>\n",
              "    <tr>\n",
              "      <th>2</th>\n",
              "      <td>0</td>\n",
              "      <td>5e0e754d9e1559244942bd6e.jpg</td>\n",
              "      <td>True</td>\n",
              "    </tr>\n",
              "    <tr>\n",
              "      <th>3</th>\n",
              "      <td>0</td>\n",
              "      <td>5e11196de974fbb7c1039027.jpg</td>\n",
              "      <td>True</td>\n",
              "    </tr>\n",
              "    <tr>\n",
              "      <th>4</th>\n",
              "      <td>0</td>\n",
              "      <td>5e195b3693b46a0f0f3f4354.jpg</td>\n",
              "      <td>True</td>\n",
              "    </tr>\n",
              "  </tbody>\n",
              "</table>\n",
              "</div>"
            ],
            "text/plain": [
              "   category                image_filename  flag\n",
              "0         0  5e17d1919d3b78474d296d12.jpg  True\n",
              "1         0  5e102444138e1891a5c72ecb.jpg  True\n",
              "2         0  5e0e754d9e1559244942bd6e.jpg  True\n",
              "3         0  5e11196de974fbb7c1039027.jpg  True\n",
              "4         0  5e195b3693b46a0f0f3f4354.jpg  True"
            ]
          },
          "metadata": {
            "tags": []
          },
          "execution_count": 16
        }
      ]
    },
    {
      "cell_type": "code",
      "metadata": {
        "id": "Aw2fP0trmapB",
        "colab_type": "code",
        "colab": {
          "base_uri": "https://localhost:8080/",
          "height": 34
        },
        "outputId": "3730a5a2-21ef-4c15-db81-4761557ec746"
      },
      "source": [
        "train_cleaned.shape"
      ],
      "execution_count": 17,
      "outputs": [
        {
          "output_type": "execute_result",
          "data": {
            "text/plain": [
              "(8634, 3)"
            ]
          },
          "metadata": {
            "tags": []
          },
          "execution_count": 17
        }
      ]
    },
    {
      "cell_type": "code",
      "metadata": {
        "id": "DtEz285TmuCz",
        "colab_type": "code",
        "colab": {
          "base_uri": "https://localhost:8080/",
          "height": 102
        },
        "outputId": "f89c6a9c-0d93-474d-8f3f-3ec250e07fe5"
      },
      "source": [
        "train_cleaned['category'].value_counts()"
      ],
      "execution_count": null,
      "outputs": [
        {
          "output_type": "execute_result",
          "data": {
            "text/plain": [
              "0    2217\n",
              "2    2179\n",
              "3    2159\n",
              "1    2079\n",
              "Name: category, dtype: int64"
            ]
          },
          "metadata": {
            "tags": []
          },
          "execution_count": 76
        }
      ]
    },
    {
      "cell_type": "code",
      "metadata": {
        "id": "WLNPlmMymxcd",
        "colab_type": "code",
        "colab": {
          "base_uri": "https://localhost:8080/",
          "height": 34
        },
        "outputId": "499f5038-5785-448c-c419-ba70e3f4620c"
      },
      "source": [
        "len(train_image)"
      ],
      "execution_count": 24,
      "outputs": [
        {
          "output_type": "execute_result",
          "data": {
            "text/plain": [
              "8634"
            ]
          },
          "metadata": {
            "tags": []
          },
          "execution_count": 24
        }
      ]
    },
    {
      "cell_type": "code",
      "metadata": {
        "id": "5x3y9-SPnEsM",
        "colab_type": "code",
        "colab": {
          "base_uri": "https://localhost:8080/",
          "height": 850
        },
        "outputId": "1277008f-4f99-4f82-ccc9-251cf93fcdaf"
      },
      "source": [
        "X[1]"
      ],
      "execution_count": 20,
      "outputs": [
        {
          "output_type": "execute_result",
          "data": {
            "text/plain": [
              "array([[[0.5137255 , 0.44313726, 0.35686275],\n",
              "        [0.7058824 , 0.62352943, 0.5411765 ],\n",
              "        [0.9098039 , 0.83137256, 0.7254902 ],\n",
              "        ...,\n",
              "        [0.827451  , 0.7647059 , 0.6666667 ],\n",
              "        [0.827451  , 0.7647059 , 0.6666667 ],\n",
              "        [0.9137255 , 0.85490197, 0.7647059 ]],\n",
              "\n",
              "       [[0.50980395, 0.4392157 , 0.3529412 ],\n",
              "        [0.5921569 , 0.50980395, 0.42745098],\n",
              "        [0.9098039 , 0.83137256, 0.7254902 ],\n",
              "        ...,\n",
              "        [0.81960785, 0.7490196 , 0.654902  ],\n",
              "        [0.8156863 , 0.7607843 , 0.65882355],\n",
              "        [0.9254902 , 0.8627451 , 0.7647059 ]],\n",
              "\n",
              "       [[0.5176471 , 0.4509804 , 0.3882353 ],\n",
              "        [0.54509807, 0.4745098 , 0.38039216],\n",
              "        [0.9098039 , 0.83137256, 0.7254902 ],\n",
              "        ...,\n",
              "        [0.81960785, 0.75686276, 0.65882355],\n",
              "        [0.81960785, 0.75686276, 0.65882355],\n",
              "        [0.9098039 , 0.84705883, 0.7490196 ]],\n",
              "\n",
              "       ...,\n",
              "\n",
              "       [[0.17254902, 0.16862746, 0.16078432],\n",
              "        [0.09411765, 0.09411765, 0.08627451],\n",
              "        [0.03921569, 0.03921569, 0.04705882],\n",
              "        ...,\n",
              "        [0.69411767, 0.627451  , 0.5568628 ],\n",
              "        [0.69803923, 0.6313726 , 0.5529412 ],\n",
              "        [0.69803923, 0.6313726 , 0.5529412 ]],\n",
              "\n",
              "       [[0.05098039, 0.05098039, 0.05098039],\n",
              "        [0.20392157, 0.2       , 0.19215687],\n",
              "        [0.06666667, 0.06666667, 0.07450981],\n",
              "        ...,\n",
              "        [0.6862745 , 0.61960787, 0.54901963],\n",
              "        [0.69803923, 0.6313726 , 0.5529412 ],\n",
              "        [0.69803923, 0.6313726 , 0.5529412 ]],\n",
              "\n",
              "       [[0.05490196, 0.05490196, 0.05490196],\n",
              "        [0.21176471, 0.20392157, 0.20784314],\n",
              "        [0.07058824, 0.07450981, 0.08235294],\n",
              "        ...,\n",
              "        [0.6784314 , 0.6039216 , 0.5372549 ],\n",
              "        [0.69411767, 0.627451  , 0.5568628 ],\n",
              "        [0.69803923, 0.6313726 , 0.56078434]]], dtype=float32)"
            ]
          },
          "metadata": {
            "tags": []
          },
          "execution_count": 20
        }
      ]
    },
    {
      "cell_type": "code",
      "metadata": {
        "id": "s8RaxsGymFIx",
        "colab_type": "code",
        "colab": {
          "base_uri": "https://localhost:8080/",
          "height": 34
        },
        "outputId": "d1d144dd-e98c-41f8-affa-1bb9e5300bde"
      },
      "source": [
        "y[1]"
      ],
      "execution_count": 21,
      "outputs": [
        {
          "output_type": "execute_result",
          "data": {
            "text/plain": [
              "array([1., 0., 0., 0.], dtype=float32)"
            ]
          },
          "metadata": {
            "tags": []
          },
          "execution_count": 21
        }
      ]
    },
    {
      "cell_type": "code",
      "metadata": {
        "id": "qsw8ymcYmJ43",
        "colab_type": "code",
        "colab": {
          "base_uri": "https://localhost:8080/",
          "height": 34
        },
        "outputId": "50b97c6e-f7a0-4a48-ab1d-85848dfcc40b"
      },
      "source": [
        "d"
      ],
      "execution_count": 22,
      "outputs": [
        {
          "output_type": "execute_result",
          "data": {
            "text/plain": [
              "{'Dresses&Skirts': 0, 'Handbags': 1, 'Jackets&Blazers': 2, 'Shoes': 3}"
            ]
          },
          "metadata": {
            "tags": []
          },
          "execution_count": 22
        }
      ]
    },
    {
      "cell_type": "code",
      "metadata": {
        "id": "q42nd4kamMAF",
        "colab_type": "code",
        "colab": {
          "base_uri": "https://localhost:8080/",
          "height": 204
        },
        "outputId": "158e63da-2d48-41f2-dfdb-421234027ea0"
      },
      "source": [
        "train_cleaned.head()"
      ],
      "execution_count": 23,
      "outputs": [
        {
          "output_type": "execute_result",
          "data": {
            "text/html": [
              "<div>\n",
              "<style scoped>\n",
              "    .dataframe tbody tr th:only-of-type {\n",
              "        vertical-align: middle;\n",
              "    }\n",
              "\n",
              "    .dataframe tbody tr th {\n",
              "        vertical-align: top;\n",
              "    }\n",
              "\n",
              "    .dataframe thead th {\n",
              "        text-align: right;\n",
              "    }\n",
              "</style>\n",
              "<table border=\"1\" class=\"dataframe\">\n",
              "  <thead>\n",
              "    <tr style=\"text-align: right;\">\n",
              "      <th></th>\n",
              "      <th>category</th>\n",
              "      <th>image_filename</th>\n",
              "      <th>flag</th>\n",
              "    </tr>\n",
              "  </thead>\n",
              "  <tbody>\n",
              "    <tr>\n",
              "      <th>0</th>\n",
              "      <td>0</td>\n",
              "      <td>5e17d1919d3b78474d296d12.jpg</td>\n",
              "      <td>True</td>\n",
              "    </tr>\n",
              "    <tr>\n",
              "      <th>1</th>\n",
              "      <td>0</td>\n",
              "      <td>5e102444138e1891a5c72ecb.jpg</td>\n",
              "      <td>True</td>\n",
              "    </tr>\n",
              "    <tr>\n",
              "      <th>2</th>\n",
              "      <td>0</td>\n",
              "      <td>5e0e754d9e1559244942bd6e.jpg</td>\n",
              "      <td>True</td>\n",
              "    </tr>\n",
              "    <tr>\n",
              "      <th>3</th>\n",
              "      <td>0</td>\n",
              "      <td>5e11196de974fbb7c1039027.jpg</td>\n",
              "      <td>True</td>\n",
              "    </tr>\n",
              "    <tr>\n",
              "      <th>4</th>\n",
              "      <td>0</td>\n",
              "      <td>5e195b3693b46a0f0f3f4354.jpg</td>\n",
              "      <td>True</td>\n",
              "    </tr>\n",
              "  </tbody>\n",
              "</table>\n",
              "</div>"
            ],
            "text/plain": [
              "   category                image_filename  flag\n",
              "0         0  5e17d1919d3b78474d296d12.jpg  True\n",
              "1         0  5e102444138e1891a5c72ecb.jpg  True\n",
              "2         0  5e0e754d9e1559244942bd6e.jpg  True\n",
              "3         0  5e11196de974fbb7c1039027.jpg  True\n",
              "4         0  5e195b3693b46a0f0f3f4354.jpg  True"
            ]
          },
          "metadata": {
            "tags": []
          },
          "execution_count": 23
        }
      ]
    },
    {
      "cell_type": "code",
      "metadata": {
        "id": "c7zEMZg7mTyd",
        "colab_type": "code",
        "colab": {}
      },
      "source": [
        ""
      ],
      "execution_count": null,
      "outputs": []
    }
  ]
}