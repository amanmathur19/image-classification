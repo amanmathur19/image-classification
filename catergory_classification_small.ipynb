{
  "nbformat": 4,
  "nbformat_minor": 0,
  "metadata": {
    "colab": {
      "name": "catergory_classification_small.ipynb",
      "provenance": [],
      "mount_file_id": "1kmzY-OqEHRqXtCasniFV7eVMQJDGUS0t",
      "authorship_tag": "ABX9TyPtCaT07tPNidVMWV5kz3M9",
      "include_colab_link": true
    },
    "kernelspec": {
      "name": "python3",
      "display_name": "Python 3"
    }
  },
  "cells": [
    {
      "cell_type": "markdown",
      "metadata": {
        "id": "view-in-github",
        "colab_type": "text"
      },
      "source": [
        "<a href=\"https://colab.research.google.com/github/amanmathur19/image-classification/blob/master/catergory_classification_small.ipynb\" target=\"_parent\"><img src=\"https://colab.research.google.com/assets/colab-badge.svg\" alt=\"Open In Colab\"/></a>"
      ]
    },
    {
      "cell_type": "code",
      "metadata": {
        "id": "DqnY1AMwfq1v",
        "colab_type": "code",
        "colab": {}
      },
      "source": [
        "import keras\n",
        "from keras.models import Sequential\n",
        "from keras.layers import Dense, Dropout, Flatten\n",
        "from keras.layers import Conv2D, MaxPooling2D\n",
        "from keras.utils import to_categorical\n",
        "from keras.preprocessing import image\n",
        "import numpy as np\n",
        "import pandas as pd\n",
        "import matplotlib.pyplot as plt\n",
        "from sklearn.model_selection import train_test_split\n",
        "from keras.utils import to_categorical\n",
        "from tqdm import tqdm"
      ],
      "execution_count": 1,
      "outputs": []
    },
    {
      "cell_type": "code",
      "metadata": {
        "id": "nSXDvYKsgXAG",
        "colab_type": "code",
        "colab": {}
      },
      "source": [
        "train = pd.read_csv('/content/drive/Shared drives/New Markets/Aman/Project Neo/small.csv')"
      ],
      "execution_count": 69,
      "outputs": []
    },
    {
      "cell_type": "code",
      "metadata": {
        "id": "yCwTprm6Tw7O",
        "colab_type": "code",
        "colab": {
          "base_uri": "https://localhost:8080/",
          "height": 204
        },
        "outputId": "366b9aa7-378a-4ad7-af55-12c5e6d0b9d1"
      },
      "source": [
        "train.head()"
      ],
      "execution_count": 73,
      "outputs": [
        {
          "output_type": "execute_result",
          "data": {
            "text/html": [
              "<div>\n",
              "<style scoped>\n",
              "    .dataframe tbody tr th:only-of-type {\n",
              "        vertical-align: middle;\n",
              "    }\n",
              "\n",
              "    .dataframe tbody tr th {\n",
              "        vertical-align: top;\n",
              "    }\n",
              "\n",
              "    .dataframe thead th {\n",
              "        text-align: right;\n",
              "    }\n",
              "</style>\n",
              "<table border=\"1\" class=\"dataframe\">\n",
              "  <thead>\n",
              "    <tr style=\"text-align: right;\">\n",
              "      <th></th>\n",
              "      <th>category</th>\n",
              "      <th>image_filename</th>\n",
              "    </tr>\n",
              "  </thead>\n",
              "  <tbody>\n",
              "    <tr>\n",
              "      <th>0</th>\n",
              "      <td>Jackets &amp; Blazers</td>\n",
              "      <td>5e0e9bce21cd0a98fdab0266.jpg</td>\n",
              "    </tr>\n",
              "    <tr>\n",
              "      <th>1</th>\n",
              "      <td>Shoes</td>\n",
              "      <td>5dec1ed62f82761b635fc1d6.jpg</td>\n",
              "    </tr>\n",
              "    <tr>\n",
              "      <th>2</th>\n",
              "      <td>Dresses &amp; Skirts</td>\n",
              "      <td>5e0eb8c72cc51560a35b1a30.jpg</td>\n",
              "    </tr>\n",
              "    <tr>\n",
              "      <th>3</th>\n",
              "      <td>Shoes</td>\n",
              "      <td>5e0e58d61528128fd2cdc194.jpg</td>\n",
              "    </tr>\n",
              "    <tr>\n",
              "      <th>4</th>\n",
              "      <td>Dresses &amp; Skirts</td>\n",
              "      <td>5dfbcbe1ffc2d4254efda41e.jpg</td>\n",
              "    </tr>\n",
              "  </tbody>\n",
              "</table>\n",
              "</div>"
            ],
            "text/plain": [
              "            category                image_filename\n",
              "0  Jackets & Blazers  5e0e9bce21cd0a98fdab0266.jpg\n",
              "1              Shoes  5dec1ed62f82761b635fc1d6.jpg\n",
              "2   Dresses & Skirts  5e0eb8c72cc51560a35b1a30.jpg\n",
              "3              Shoes  5e0e58d61528128fd2cdc194.jpg\n",
              "4   Dresses & Skirts  5dfbcbe1ffc2d4254efda41e.jpg"
            ]
          },
          "metadata": {
            "tags": []
          },
          "execution_count": 73
        }
      ]
    },
    {
      "cell_type": "code",
      "metadata": {
        "id": "mTY3SwsxUJXF",
        "colab_type": "code",
        "colab": {}
      },
      "source": [
        "train = train.drop(train.columns[0] , axis = 1)"
      ],
      "execution_count": 72,
      "outputs": []
    },
    {
      "cell_type": "code",
      "metadata": {
        "id": "Q1MfaR3sUhEw",
        "colab_type": "code",
        "colab": {
          "base_uri": "https://localhost:8080/",
          "height": 204
        },
        "outputId": "e56ebae8-f592-499b-bd09-aa9256d1d87e"
      },
      "source": [
        "train['category'] = train['category'].apply(lambda x: x.replace(\" \",\"\"))\n",
        "train.head()"
      ],
      "execution_count": 74,
      "outputs": [
        {
          "output_type": "execute_result",
          "data": {
            "text/html": [
              "<div>\n",
              "<style scoped>\n",
              "    .dataframe tbody tr th:only-of-type {\n",
              "        vertical-align: middle;\n",
              "    }\n",
              "\n",
              "    .dataframe tbody tr th {\n",
              "        vertical-align: top;\n",
              "    }\n",
              "\n",
              "    .dataframe thead th {\n",
              "        text-align: right;\n",
              "    }\n",
              "</style>\n",
              "<table border=\"1\" class=\"dataframe\">\n",
              "  <thead>\n",
              "    <tr style=\"text-align: right;\">\n",
              "      <th></th>\n",
              "      <th>category</th>\n",
              "      <th>image_filename</th>\n",
              "    </tr>\n",
              "  </thead>\n",
              "  <tbody>\n",
              "    <tr>\n",
              "      <th>0</th>\n",
              "      <td>Jackets&amp;Blazers</td>\n",
              "      <td>5e0e9bce21cd0a98fdab0266.jpg</td>\n",
              "    </tr>\n",
              "    <tr>\n",
              "      <th>1</th>\n",
              "      <td>Shoes</td>\n",
              "      <td>5dec1ed62f82761b635fc1d6.jpg</td>\n",
              "    </tr>\n",
              "    <tr>\n",
              "      <th>2</th>\n",
              "      <td>Dresses&amp;Skirts</td>\n",
              "      <td>5e0eb8c72cc51560a35b1a30.jpg</td>\n",
              "    </tr>\n",
              "    <tr>\n",
              "      <th>3</th>\n",
              "      <td>Shoes</td>\n",
              "      <td>5e0e58d61528128fd2cdc194.jpg</td>\n",
              "    </tr>\n",
              "    <tr>\n",
              "      <th>4</th>\n",
              "      <td>Dresses&amp;Skirts</td>\n",
              "      <td>5dfbcbe1ffc2d4254efda41e.jpg</td>\n",
              "    </tr>\n",
              "  </tbody>\n",
              "</table>\n",
              "</div>"
            ],
            "text/plain": [
              "          category                image_filename\n",
              "0  Jackets&Blazers  5e0e9bce21cd0a98fdab0266.jpg\n",
              "1            Shoes  5dec1ed62f82761b635fc1d6.jpg\n",
              "2   Dresses&Skirts  5e0eb8c72cc51560a35b1a30.jpg\n",
              "3            Shoes  5e0e58d61528128fd2cdc194.jpg\n",
              "4   Dresses&Skirts  5dfbcbe1ffc2d4254efda41e.jpg"
            ]
          },
          "metadata": {
            "tags": []
          },
          "execution_count": 74
        }
      ]
    },
    {
      "cell_type": "code",
      "metadata": {
        "id": "AP8tjLlieJie",
        "colab_type": "code",
        "colab": {}
      },
      "source": [
        ""
      ],
      "execution_count": null,
      "outputs": []
    },
    {
      "cell_type": "code",
      "metadata": {
        "id": "6Fymv6odVqZN",
        "colab_type": "code",
        "colab": {
          "base_uri": "https://localhost:8080/",
          "height": 204
        },
        "outputId": "fcf6aff8-4379-4b50-9bab-7fe4a84b1b62"
      },
      "source": [
        "d = dict(zip(train['category'].unique(), range(0,4)))\n",
        "d\n",
        "train['category'] =  train['category'].map(d,na_action = 'ignore')\n",
        "\n",
        "train.drop(train.columns[0], axis=1)\n",
        "train.head()"
      ],
      "execution_count": 75,
      "outputs": [
        {
          "output_type": "execute_result",
          "data": {
            "text/html": [
              "<div>\n",
              "<style scoped>\n",
              "    .dataframe tbody tr th:only-of-type {\n",
              "        vertical-align: middle;\n",
              "    }\n",
              "\n",
              "    .dataframe tbody tr th {\n",
              "        vertical-align: top;\n",
              "    }\n",
              "\n",
              "    .dataframe thead th {\n",
              "        text-align: right;\n",
              "    }\n",
              "</style>\n",
              "<table border=\"1\" class=\"dataframe\">\n",
              "  <thead>\n",
              "    <tr style=\"text-align: right;\">\n",
              "      <th></th>\n",
              "      <th>category</th>\n",
              "      <th>image_filename</th>\n",
              "    </tr>\n",
              "  </thead>\n",
              "  <tbody>\n",
              "    <tr>\n",
              "      <th>0</th>\n",
              "      <td>0</td>\n",
              "      <td>5e0e9bce21cd0a98fdab0266.jpg</td>\n",
              "    </tr>\n",
              "    <tr>\n",
              "      <th>1</th>\n",
              "      <td>1</td>\n",
              "      <td>5dec1ed62f82761b635fc1d6.jpg</td>\n",
              "    </tr>\n",
              "    <tr>\n",
              "      <th>2</th>\n",
              "      <td>2</td>\n",
              "      <td>5e0eb8c72cc51560a35b1a30.jpg</td>\n",
              "    </tr>\n",
              "    <tr>\n",
              "      <th>3</th>\n",
              "      <td>1</td>\n",
              "      <td>5e0e58d61528128fd2cdc194.jpg</td>\n",
              "    </tr>\n",
              "    <tr>\n",
              "      <th>4</th>\n",
              "      <td>2</td>\n",
              "      <td>5dfbcbe1ffc2d4254efda41e.jpg</td>\n",
              "    </tr>\n",
              "  </tbody>\n",
              "</table>\n",
              "</div>"
            ],
            "text/plain": [
              "   category                image_filename\n",
              "0         0  5e0e9bce21cd0a98fdab0266.jpg\n",
              "1         1  5dec1ed62f82761b635fc1d6.jpg\n",
              "2         2  5e0eb8c72cc51560a35b1a30.jpg\n",
              "3         1  5e0e58d61528128fd2cdc194.jpg\n",
              "4         2  5dfbcbe1ffc2d4254efda41e.jpg"
            ]
          },
          "metadata": {
            "tags": []
          },
          "execution_count": 75
        }
      ]
    },
    {
      "cell_type": "code",
      "metadata": {
        "id": "qozAYWP0eKVc",
        "colab_type": "code",
        "colab": {
          "base_uri": "https://localhost:8080/",
          "height": 34
        },
        "outputId": "689ea482-f35c-4c75-9dec-07ef90cdd732"
      },
      "source": [
        "d"
      ],
      "execution_count": 76,
      "outputs": [
        {
          "output_type": "execute_result",
          "data": {
            "text/plain": [
              "{'Dresses&Skirts': 2, 'Handbags': 3, 'Jackets&Blazers': 0, 'Shoes': 1}"
            ]
          },
          "metadata": {
            "tags": []
          },
          "execution_count": 76
        }
      ]
    },
    {
      "cell_type": "code",
      "metadata": {
        "id": "MGxK0vMmOyrH",
        "colab_type": "code",
        "colab": {
          "base_uri": "https://localhost:8080/",
          "height": 425
        },
        "outputId": "a0d425fe-99b3-442a-886e-99a38dd0b5dc"
      },
      "source": [
        "# We have grayscale images, so while loading the images we will keep grayscale=True, if you have RGB images, you should set grayscale as False\n",
        "train_image = []\n",
        "for i in tqdm(range(train.shape[0])):\n",
        "    try:\n",
        "      img = image.load_img('/content/drive/Shared drives/New Markets/Aman/Project Neo/image_data/'+train['image_filename'][i], target_size=(28,28,1), grayscale=False)\n",
        "    except Exception as e:\n",
        "      print(e)\n",
        "    img = image.img_to_array(img)\n",
        "    img = img/255\n",
        "    train_image.append(img)\n",
        "X = np.array(train_image)\n",
        "\n"
      ],
      "execution_count": 77,
      "outputs": [
        {
          "output_type": "stream",
          "text": [
            " 23%|██▎       | 23/100 [00:00<00:00, 102.30it/s]"
          ],
          "name": "stderr"
        },
        {
          "output_type": "stream",
          "text": [
            "[Errno 2] No such file or directory: '/content/drive/Shared drives/New Markets/Aman/Project Neo/image_data/5e0e58d2180efde8a9658bab.jpg'\n",
            "[Errno 2] No such file or directory: '/content/drive/Shared drives/New Markets/Aman/Project Neo/image_data/5e0980bfb146ccb77e9f6329.jpg'\n",
            "[Errno 2] No such file or directory: '/content/drive/Shared drives/New Markets/Aman/Project Neo/image_data/5e080fbce974fbf1adcf61b9.jpg'\n",
            "[Errno 2] No such file or directory: '/content/drive/Shared drives/New Markets/Aman/Project Neo/image_data/e0cc16ed1aa25aa7d96415c.jpeg'\n",
            "[Errno 2] No such file or directory: '/content/drive/Shared drives/New Markets/Aman/Project Neo/image_data/5e0e9e2ba20dfc2cf79768d4.jpg'\n"
          ],
          "name": "stdout"
        },
        {
          "output_type": "stream",
          "text": [
            " 56%|█████▌    | 56/100 [00:00<00:00, 100.82it/s]"
          ],
          "name": "stderr"
        },
        {
          "output_type": "stream",
          "text": [
            "[Errno 2] No such file or directory: '/content/drive/Shared drives/New Markets/Aman/Project Neo/image_data/5e0e5f98afade8ff56fd3b09.jpg'\n",
            "[Errno 2] No such file or directory: '/content/drive/Shared drives/New Markets/Aman/Project Neo/image_data/5e0e9ddd21cd0aa61fab0f4e.jpg'\n",
            "[Errno 2] No such file or directory: '/content/drive/Shared drives/New Markets/Aman/Project Neo/image_data/5e0e5fd05967046a8930181a.jpg'\n",
            "[Errno 2] No such file or directory: '/content/drive/Shared drives/New Markets/Aman/Project Neo/image_data/5e0e60ac969d1fb71e494d0e.jpg'\n"
          ],
          "name": "stdout"
        },
        {
          "output_type": "stream",
          "text": [
            " 81%|████████  | 81/100 [00:00<00:00, 109.19it/s]"
          ],
          "name": "stderr"
        },
        {
          "output_type": "stream",
          "text": [
            "[Errno 2] No such file or directory: '/content/drive/Shared drives/New Markets/Aman/Project Neo/image_data/5e0e611921cd0ae5f3a9bfd7.jpg'\n",
            "[Errno 2] No such file or directory: '/content/drive/Shared drives/New Markets/Aman/Project Neo/image_data/5e0dd0fcb3e917b47fd55934.jpg'\n",
            "[Errno 2] No such file or directory: '/content/drive/Shared drives/New Markets/Aman/Project Neo/image_data/5e0dd2b8138e18aa4cbd33a4.jpg'\n",
            "[Errno 2] No such file or directory: '/content/drive/Shared drives/New Markets/Aman/Project Neo/image_data/5e0ec17c93b46a8e2970fad2.jpg'\n",
            "[Errno 2] No such file or directory: '/content/drive/Shared drives/New Markets/Aman/Project Neo/image_data/5e0dde3b264a5594d6233eed.jpg'\n",
            "[Errno 2] No such file or directory: '/content/drive/Shared drives/New Markets/Aman/Project Neo/image_data/5e0e63fa10f00ffaf0b33a0c.jpg'\n"
          ],
          "name": "stdout"
        },
        {
          "output_type": "stream",
          "text": [
            "100%|██████████| 100/100 [00:00<00:00, 113.23it/s]"
          ],
          "name": "stderr"
        },
        {
          "output_type": "stream",
          "text": [
            "[Errno 2] No such file or directory: '/content/drive/Shared drives/New Markets/Aman/Project Neo/image_data/5e0de4a7969d1f0c4e474f58.jpg'\n",
            "[Errno 2] No such file or directory: '/content/drive/Shared drives/New Markets/Aman/Project Neo/image_data/5e0ea4c09d3b788e8085c38a.jpg'\n",
            "[Errno 2] No such file or directory: '/content/drive/Shared drives/New Markets/Aman/Project Neo/image_data/e0de098d948a11ec6752e34.jpeg'\n",
            "[Errno 2] No such file or directory: '/content/drive/Shared drives/New Markets/Aman/Project Neo/image_data/5e0ec2978557af7d9189e193.jpg'\n"
          ],
          "name": "stdout"
        },
        {
          "output_type": "stream",
          "text": [
            "\n"
          ],
          "name": "stderr"
        }
      ]
    },
    {
      "cell_type": "code",
      "metadata": {
        "id": "tYfceNIyO3mB",
        "colab_type": "code",
        "colab": {}
      },
      "source": [
        "y=train['category'].values\n",
        "y = to_categorical(y)"
      ],
      "execution_count": 78,
      "outputs": []
    },
    {
      "cell_type": "code",
      "metadata": {
        "id": "CbAZY_SdXpcM",
        "colab_type": "code",
        "colab": {}
      },
      "source": [
        "X_train, X_test, y_train, y_test = train_test_split(X, y, random_state=42, test_size=0.2)\n"
      ],
      "execution_count": 79,
      "outputs": []
    },
    {
      "cell_type": "code",
      "metadata": {
        "id": "WKVOhqoaXx4U",
        "colab_type": "code",
        "colab": {}
      },
      "source": [
        "model = Sequential()\n",
        "model.add(Conv2D(32, kernel_size=(3, 3),activation='relu',input_shape=(28,28,3)))\n",
        "model.add(Conv2D(64, (3, 3), activation='relu'))\n",
        "model.add(MaxPooling2D(pool_size=(2, 2)))\n",
        "model.add(Dropout(0.25))\n",
        "model.add(Flatten())\n",
        "model.add(Dense(128, activation='relu'))\n",
        "model.add(Dropout(0.5))\n",
        "model.add(Dense(4, activation='softmax'))"
      ],
      "execution_count": 80,
      "outputs": []
    },
    {
      "cell_type": "code",
      "metadata": {
        "id": "NW8amy9iX1iF",
        "colab_type": "code",
        "colab": {}
      },
      "source": [
        "model.compile(loss='categorical_crossentropy',optimizer='Adam',metrics=['accuracy'])\n"
      ],
      "execution_count": 81,
      "outputs": []
    },
    {
      "cell_type": "code",
      "metadata": {
        "id": "DhkPdHHFYLeD",
        "colab_type": "code",
        "colab": {
          "base_uri": "https://localhost:8080/",
          "height": 85
        },
        "outputId": "d7f4896b-3a3f-45a6-9ade-5207c6d0a322"
      },
      "source": [
        "print(X_train.shape)\n",
        "print(y_train.shape)\n",
        "print(X_test.shape)\n",
        "print(y_test.shape)"
      ],
      "execution_count": 82,
      "outputs": [
        {
          "output_type": "stream",
          "text": [
            "(80, 28, 28, 3)\n",
            "(80, 4)\n",
            "(20, 28, 28, 3)\n",
            "(20, 4)\n"
          ],
          "name": "stdout"
        }
      ]
    },
    {
      "cell_type": "code",
      "metadata": {
        "id": "TLoWWJiPX_oN",
        "colab_type": "code",
        "colab": {
          "base_uri": "https://localhost:8080/",
          "height": 374
        },
        "outputId": "fb774fbc-6fa1-4df0-f98f-e4a5f0752e87"
      },
      "source": [
        "model.fit(X_train, y_train, epochs=10, validation_data=(X_test, y_test))\n"
      ],
      "execution_count": 83,
      "outputs": [
        {
          "output_type": "stream",
          "text": [
            "Epoch 1/10\n",
            "3/3 [==============================] - 0s 110ms/step - loss: 1.4580 - accuracy: 0.2750 - val_loss: 1.3251 - val_accuracy: 0.4000\n",
            "Epoch 2/10\n",
            "3/3 [==============================] - 0s 70ms/step - loss: 1.3995 - accuracy: 0.2625 - val_loss: 1.2938 - val_accuracy: 0.4000\n",
            "Epoch 3/10\n",
            "3/3 [==============================] - 0s 54ms/step - loss: 1.3439 - accuracy: 0.3625 - val_loss: 1.3322 - val_accuracy: 0.2500\n",
            "Epoch 4/10\n",
            "3/3 [==============================] - 0s 58ms/step - loss: 1.2788 - accuracy: 0.4125 - val_loss: 1.3951 - val_accuracy: 0.0500\n",
            "Epoch 5/10\n",
            "3/3 [==============================] - 0s 57ms/step - loss: 1.2890 - accuracy: 0.3875 - val_loss: 1.3711 - val_accuracy: 0.2000\n",
            "Epoch 6/10\n",
            "3/3 [==============================] - 0s 56ms/step - loss: 1.2012 - accuracy: 0.4875 - val_loss: 1.3343 - val_accuracy: 0.4500\n",
            "Epoch 7/10\n",
            "3/3 [==============================] - 0s 56ms/step - loss: 1.1268 - accuracy: 0.6750 - val_loss: 1.3242 - val_accuracy: 0.4500\n",
            "Epoch 8/10\n",
            "3/3 [==============================] - 0s 57ms/step - loss: 1.0504 - accuracy: 0.6125 - val_loss: 1.3341 - val_accuracy: 0.3500\n",
            "Epoch 9/10\n",
            "3/3 [==============================] - 0s 56ms/step - loss: 0.9447 - accuracy: 0.6250 - val_loss: 1.3250 - val_accuracy: 0.3500\n",
            "Epoch 10/10\n",
            "3/3 [==============================] - 0s 59ms/step - loss: 0.9382 - accuracy: 0.6875 - val_loss: 1.2901 - val_accuracy: 0.4000\n"
          ],
          "name": "stdout"
        },
        {
          "output_type": "execute_result",
          "data": {
            "text/plain": [
              "<tensorflow.python.keras.callbacks.History at 0x7f5a5be50828>"
            ]
          },
          "metadata": {
            "tags": []
          },
          "execution_count": 83
        }
      ]
    },
    {
      "cell_type": "code",
      "metadata": {
        "id": "udZ4aiTMbJ7K",
        "colab_type": "code",
        "colab": {}
      },
      "source": [
        "test_image = []\n",
        "img = image.load_img('/content/drive/Shared drives/New Markets/Aman/Project Neo/temp.jpg',target_size=(28,28,1), grayscale=False)\n",
        "img = image.img_to_array(img)\n",
        "img = img/255\n",
        "test_image.append(img)\n",
        "\n",
        "test = np.array(test_image)\n",
        "\n"
      ],
      "execution_count": 85,
      "outputs": []
    },
    {
      "cell_type": "code",
      "metadata": {
        "id": "sLY5kL-gbPw-",
        "colab_type": "code",
        "colab": {}
      },
      "source": [
        "prediction = model.predict_classes(test)"
      ],
      "execution_count": 86,
      "outputs": []
    },
    {
      "cell_type": "code",
      "metadata": {
        "id": "XGtmmWUBdMSU",
        "colab_type": "code",
        "colab": {
          "base_uri": "https://localhost:8080/",
          "height": 34
        },
        "outputId": "7b55058c-228c-4a1c-a5ed-c376d4face09"
      },
      "source": [
        "prediction"
      ],
      "execution_count": 87,
      "outputs": [
        {
          "output_type": "execute_result",
          "data": {
            "text/plain": [
              "array([1])"
            ]
          },
          "metadata": {
            "tags": []
          },
          "execution_count": 87
        }
      ]
    },
    {
      "cell_type": "code",
      "metadata": {
        "id": "p7TSauSCdhSD",
        "colab_type": "code",
        "colab": {
          "base_uri": "https://localhost:8080/",
          "height": 34
        },
        "outputId": "6130f069-1986-4b63-80c4-fa6a0548134f"
      },
      "source": [
        "d"
      ],
      "execution_count": 88,
      "outputs": [
        {
          "output_type": "execute_result",
          "data": {
            "text/plain": [
              "{'Dresses&Skirts': 2, 'Handbags': 3, 'Jackets&Blazers': 0, 'Shoes': 1}"
            ]
          },
          "metadata": {
            "tags": []
          },
          "execution_count": 88
        }
      ]
    },
    {
      "cell_type": "code",
      "metadata": {
        "id": "UPBi4fC3djQz",
        "colab_type": "code",
        "colab": {}
      },
      "source": [
        ""
      ],
      "execution_count": null,
      "outputs": []
    }
  ]
}