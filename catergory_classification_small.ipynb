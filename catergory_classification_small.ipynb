{
  "nbformat": 4,
  "nbformat_minor": 0,
  "metadata": {
    "colab": {
      "name": "catergory_classification_small.ipynb",
      "provenance": [],
      "collapsed_sections": [],
      "toc_visible": true,
      "mount_file_id": "1kmzY-OqEHRqXtCasniFV7eVMQJDGUS0t",
      "authorship_tag": "ABX9TyOwUAA+rDfabVlV9kf4Id1R",
      "include_colab_link": true
    },
    "kernelspec": {
      "name": "python3",
      "display_name": "Python 3"
    }
  },
  "cells": [
    {
      "cell_type": "markdown",
      "metadata": {
        "id": "view-in-github",
        "colab_type": "text"
      },
      "source": [
        "<a href=\"https://colab.research.google.com/github/amanmathur19/image-classification/blob/master/catergory_classification_small.ipynb\" target=\"_parent\"><img src=\"https://colab.research.google.com/assets/colab-badge.svg\" alt=\"Open In Colab\"/></a>"
      ]
    },
    {
      "cell_type": "code",
      "metadata": {
        "id": "DqnY1AMwfq1v",
        "colab_type": "code",
        "colab": {}
      },
      "source": [
        "import keras\n",
        "from keras.models import Sequential\n",
        "from keras.layers import Dense, Dropout, Flatten\n",
        "from keras.layers import Conv2D, MaxPooling2D\n",
        "from keras.utils import to_categorical\n",
        "from keras.preprocessing import image\n",
        "from keras.optimizers import SGD\n",
        "import numpy as np\n",
        "import pandas as pd\n",
        "import matplotlib.pyplot as plt\n",
        "from sklearn.model_selection import train_test_split\n",
        "from keras.utils import to_categorical\n",
        "from tqdm import tqdm\n"
      ],
      "execution_count": 20,
      "outputs": []
    },
    {
      "cell_type": "code",
      "metadata": {
        "id": "nSXDvYKsgXAG",
        "colab_type": "code",
        "colab": {}
      },
      "source": [
        "train = pd.read_csv('/content/drive/Shared drives/New Markets/Aman/Project Neo/small.csv')"
      ],
      "execution_count": 21,
      "outputs": []
    },
    {
      "cell_type": "code",
      "metadata": {
        "id": "yCwTprm6Tw7O",
        "colab_type": "code",
        "colab": {
          "base_uri": "https://localhost:8080/",
          "height": 204
        },
        "outputId": "d73cc3b5-b9ef-44d9-fc93-d6be843a6fa2"
      },
      "source": [
        "train.head()"
      ],
      "execution_count": 22,
      "outputs": [
        {
          "output_type": "execute_result",
          "data": {
            "text/html": [
              "<div>\n",
              "<style scoped>\n",
              "    .dataframe tbody tr th:only-of-type {\n",
              "        vertical-align: middle;\n",
              "    }\n",
              "\n",
              "    .dataframe tbody tr th {\n",
              "        vertical-align: top;\n",
              "    }\n",
              "\n",
              "    .dataframe thead th {\n",
              "        text-align: right;\n",
              "    }\n",
              "</style>\n",
              "<table border=\"1\" class=\"dataframe\">\n",
              "  <thead>\n",
              "    <tr style=\"text-align: right;\">\n",
              "      <th></th>\n",
              "      <th>Unnamed: 0</th>\n",
              "      <th>category</th>\n",
              "      <th>image_filename</th>\n",
              "    </tr>\n",
              "  </thead>\n",
              "  <tbody>\n",
              "    <tr>\n",
              "      <th>0</th>\n",
              "      <td>0</td>\n",
              "      <td>Jackets &amp; Blazers</td>\n",
              "      <td>5e0e9bce21cd0a98fdab0266.jpg</td>\n",
              "    </tr>\n",
              "    <tr>\n",
              "      <th>1</th>\n",
              "      <td>1</td>\n",
              "      <td>Shoes</td>\n",
              "      <td>5dec1ed62f82761b635fc1d6.jpg</td>\n",
              "    </tr>\n",
              "    <tr>\n",
              "      <th>2</th>\n",
              "      <td>2</td>\n",
              "      <td>Dresses &amp; Skirts</td>\n",
              "      <td>5e0eb8c72cc51560a35b1a30.jpg</td>\n",
              "    </tr>\n",
              "    <tr>\n",
              "      <th>3</th>\n",
              "      <td>3</td>\n",
              "      <td>Shoes</td>\n",
              "      <td>5e0e58d61528128fd2cdc194.jpg</td>\n",
              "    </tr>\n",
              "    <tr>\n",
              "      <th>4</th>\n",
              "      <td>4</td>\n",
              "      <td>Dresses &amp; Skirts</td>\n",
              "      <td>5dfbcbe1ffc2d4254efda41e.jpg</td>\n",
              "    </tr>\n",
              "  </tbody>\n",
              "</table>\n",
              "</div>"
            ],
            "text/plain": [
              "   Unnamed: 0           category                image_filename\n",
              "0           0  Jackets & Blazers  5e0e9bce21cd0a98fdab0266.jpg\n",
              "1           1              Shoes  5dec1ed62f82761b635fc1d6.jpg\n",
              "2           2   Dresses & Skirts  5e0eb8c72cc51560a35b1a30.jpg\n",
              "3           3              Shoes  5e0e58d61528128fd2cdc194.jpg\n",
              "4           4   Dresses & Skirts  5dfbcbe1ffc2d4254efda41e.jpg"
            ]
          },
          "metadata": {
            "tags": []
          },
          "execution_count": 22
        }
      ]
    },
    {
      "cell_type": "code",
      "metadata": {
        "id": "mTY3SwsxUJXF",
        "colab_type": "code",
        "colab": {}
      },
      "source": [
        "train = train.drop(train.columns[0] , axis = 1)"
      ],
      "execution_count": 23,
      "outputs": []
    },
    {
      "cell_type": "code",
      "metadata": {
        "id": "Q1MfaR3sUhEw",
        "colab_type": "code",
        "colab": {
          "base_uri": "https://localhost:8080/",
          "height": 204
        },
        "outputId": "6b69d462-2ab1-4a97-b329-eed7e0549a96"
      },
      "source": [
        "train['category'] = train['category'].apply(lambda x: x.replace(\" \",\"\"))\n",
        "train.head()"
      ],
      "execution_count": 24,
      "outputs": [
        {
          "output_type": "execute_result",
          "data": {
            "text/html": [
              "<div>\n",
              "<style scoped>\n",
              "    .dataframe tbody tr th:only-of-type {\n",
              "        vertical-align: middle;\n",
              "    }\n",
              "\n",
              "    .dataframe tbody tr th {\n",
              "        vertical-align: top;\n",
              "    }\n",
              "\n",
              "    .dataframe thead th {\n",
              "        text-align: right;\n",
              "    }\n",
              "</style>\n",
              "<table border=\"1\" class=\"dataframe\">\n",
              "  <thead>\n",
              "    <tr style=\"text-align: right;\">\n",
              "      <th></th>\n",
              "      <th>category</th>\n",
              "      <th>image_filename</th>\n",
              "    </tr>\n",
              "  </thead>\n",
              "  <tbody>\n",
              "    <tr>\n",
              "      <th>0</th>\n",
              "      <td>Jackets&amp;Blazers</td>\n",
              "      <td>5e0e9bce21cd0a98fdab0266.jpg</td>\n",
              "    </tr>\n",
              "    <tr>\n",
              "      <th>1</th>\n",
              "      <td>Shoes</td>\n",
              "      <td>5dec1ed62f82761b635fc1d6.jpg</td>\n",
              "    </tr>\n",
              "    <tr>\n",
              "      <th>2</th>\n",
              "      <td>Dresses&amp;Skirts</td>\n",
              "      <td>5e0eb8c72cc51560a35b1a30.jpg</td>\n",
              "    </tr>\n",
              "    <tr>\n",
              "      <th>3</th>\n",
              "      <td>Shoes</td>\n",
              "      <td>5e0e58d61528128fd2cdc194.jpg</td>\n",
              "    </tr>\n",
              "    <tr>\n",
              "      <th>4</th>\n",
              "      <td>Dresses&amp;Skirts</td>\n",
              "      <td>5dfbcbe1ffc2d4254efda41e.jpg</td>\n",
              "    </tr>\n",
              "  </tbody>\n",
              "</table>\n",
              "</div>"
            ],
            "text/plain": [
              "          category                image_filename\n",
              "0  Jackets&Blazers  5e0e9bce21cd0a98fdab0266.jpg\n",
              "1            Shoes  5dec1ed62f82761b635fc1d6.jpg\n",
              "2   Dresses&Skirts  5e0eb8c72cc51560a35b1a30.jpg\n",
              "3            Shoes  5e0e58d61528128fd2cdc194.jpg\n",
              "4   Dresses&Skirts  5dfbcbe1ffc2d4254efda41e.jpg"
            ]
          },
          "metadata": {
            "tags": []
          },
          "execution_count": 24
        }
      ]
    },
    {
      "cell_type": "code",
      "metadata": {
        "id": "AP8tjLlieJie",
        "colab_type": "code",
        "colab": {}
      },
      "source": [
        ""
      ],
      "execution_count": 24,
      "outputs": []
    },
    {
      "cell_type": "code",
      "metadata": {
        "id": "6Fymv6odVqZN",
        "colab_type": "code",
        "colab": {
          "base_uri": "https://localhost:8080/",
          "height": 204
        },
        "outputId": "f8111f75-f6ae-4ae9-b523-8662c9a5392f"
      },
      "source": [
        "d = dict(zip(train['category'].unique(), range(0,4)))\n",
        "d\n",
        "train['category'] =  train['category'].map(d,na_action = 'ignore')\n",
        "\n",
        "train.drop(train.columns[0], axis=1)\n",
        "train.head()"
      ],
      "execution_count": 25,
      "outputs": [
        {
          "output_type": "execute_result",
          "data": {
            "text/html": [
              "<div>\n",
              "<style scoped>\n",
              "    .dataframe tbody tr th:only-of-type {\n",
              "        vertical-align: middle;\n",
              "    }\n",
              "\n",
              "    .dataframe tbody tr th {\n",
              "        vertical-align: top;\n",
              "    }\n",
              "\n",
              "    .dataframe thead th {\n",
              "        text-align: right;\n",
              "    }\n",
              "</style>\n",
              "<table border=\"1\" class=\"dataframe\">\n",
              "  <thead>\n",
              "    <tr style=\"text-align: right;\">\n",
              "      <th></th>\n",
              "      <th>category</th>\n",
              "      <th>image_filename</th>\n",
              "    </tr>\n",
              "  </thead>\n",
              "  <tbody>\n",
              "    <tr>\n",
              "      <th>0</th>\n",
              "      <td>0</td>\n",
              "      <td>5e0e9bce21cd0a98fdab0266.jpg</td>\n",
              "    </tr>\n",
              "    <tr>\n",
              "      <th>1</th>\n",
              "      <td>1</td>\n",
              "      <td>5dec1ed62f82761b635fc1d6.jpg</td>\n",
              "    </tr>\n",
              "    <tr>\n",
              "      <th>2</th>\n",
              "      <td>2</td>\n",
              "      <td>5e0eb8c72cc51560a35b1a30.jpg</td>\n",
              "    </tr>\n",
              "    <tr>\n",
              "      <th>3</th>\n",
              "      <td>1</td>\n",
              "      <td>5e0e58d61528128fd2cdc194.jpg</td>\n",
              "    </tr>\n",
              "    <tr>\n",
              "      <th>4</th>\n",
              "      <td>2</td>\n",
              "      <td>5dfbcbe1ffc2d4254efda41e.jpg</td>\n",
              "    </tr>\n",
              "  </tbody>\n",
              "</table>\n",
              "</div>"
            ],
            "text/plain": [
              "   category                image_filename\n",
              "0         0  5e0e9bce21cd0a98fdab0266.jpg\n",
              "1         1  5dec1ed62f82761b635fc1d6.jpg\n",
              "2         2  5e0eb8c72cc51560a35b1a30.jpg\n",
              "3         1  5e0e58d61528128fd2cdc194.jpg\n",
              "4         2  5dfbcbe1ffc2d4254efda41e.jpg"
            ]
          },
          "metadata": {
            "tags": []
          },
          "execution_count": 25
        }
      ]
    },
    {
      "cell_type": "code",
      "metadata": {
        "id": "qozAYWP0eKVc",
        "colab_type": "code",
        "colab": {
          "base_uri": "https://localhost:8080/",
          "height": 34
        },
        "outputId": "a23255c6-5813-4a8c-be5e-5f15259ae598"
      },
      "source": [
        "d"
      ],
      "execution_count": 26,
      "outputs": [
        {
          "output_type": "execute_result",
          "data": {
            "text/plain": [
              "{'Dresses&Skirts': 2, 'Handbags': 3, 'Jackets&Blazers': 0, 'Shoes': 1}"
            ]
          },
          "metadata": {
            "tags": []
          },
          "execution_count": 26
        }
      ]
    },
    {
      "cell_type": "code",
      "metadata": {
        "id": "MGxK0vMmOyrH",
        "colab_type": "code",
        "colab": {
          "base_uri": "https://localhost:8080/",
          "height": 408
        },
        "outputId": "f5b728ec-fa16-482a-a7fe-c639f98fdcd4"
      },
      "source": [
        "# We have grayscale images, so while loading the images we will keep grayscale=True, if you have RGB images, you should set grayscale as False\n",
        "train_image = []\n",
        "for i in tqdm(range(train.shape[0])):\n",
        "    try:\n",
        "      img = image.load_img('/content/drive/Shared drives/New Markets/Aman/Project Neo/image_data/'+train['image_filename'][i], target_size=(56,56,3), grayscale=False)\n",
        "    except Exception as e:\n",
        "      print(e)\n",
        "      continue\n",
        "\n",
        "    img = image.img_to_array(img)\n",
        "    img = img/255\n",
        "    train_image.append(img)\n",
        "X = np.array(train_image)\n",
        "\n"
      ],
      "execution_count": 27,
      "outputs": [
        {
          "output_type": "stream",
          "text": [
            " 29%|██▉       | 29/100 [00:00<00:00, 142.09it/s]"
          ],
          "name": "stderr"
        },
        {
          "output_type": "stream",
          "text": [
            "[Errno 2] No such file or directory: '/content/drive/Shared drives/New Markets/Aman/Project Neo/image_data/5e0e58d2180efde8a9658bab.jpg'\n",
            "[Errno 2] No such file or directory: '/content/drive/Shared drives/New Markets/Aman/Project Neo/image_data/5e0980bfb146ccb77e9f6329.jpg'\n",
            "[Errno 2] No such file or directory: '/content/drive/Shared drives/New Markets/Aman/Project Neo/image_data/5e080fbce974fbf1adcf61b9.jpg'\n",
            "[Errno 2] No such file or directory: '/content/drive/Shared drives/New Markets/Aman/Project Neo/image_data/e0cc16ed1aa25aa7d96415c.jpeg'\n",
            "[Errno 2] No such file or directory: '/content/drive/Shared drives/New Markets/Aman/Project Neo/image_data/5e0e9e2ba20dfc2cf79768d4.jpg'\n"
          ],
          "name": "stdout"
        },
        {
          "output_type": "stream",
          "text": [
            " 55%|█████▌    | 55/100 [00:00<00:00, 133.73it/s]"
          ],
          "name": "stderr"
        },
        {
          "output_type": "stream",
          "text": [
            "[Errno 2] No such file or directory: '/content/drive/Shared drives/New Markets/Aman/Project Neo/image_data/5e0e5f98afade8ff56fd3b09.jpg'\n",
            "[Errno 2] No such file or directory: '/content/drive/Shared drives/New Markets/Aman/Project Neo/image_data/5e0e9ddd21cd0aa61fab0f4e.jpg'\n",
            "[Errno 2] No such file or directory: '/content/drive/Shared drives/New Markets/Aman/Project Neo/image_data/5e0e5fd05967046a8930181a.jpg'\n",
            "[Errno 2] No such file or directory: '/content/drive/Shared drives/New Markets/Aman/Project Neo/image_data/5e0e60ac969d1fb71e494d0e.jpg'\n"
          ],
          "name": "stdout"
        },
        {
          "output_type": "stream",
          "text": [
            " 99%|█████████▉| 99/100 [00:00<00:00, 140.03it/s]"
          ],
          "name": "stderr"
        },
        {
          "output_type": "stream",
          "text": [
            "[Errno 2] No such file or directory: '/content/drive/Shared drives/New Markets/Aman/Project Neo/image_data/5e0e611921cd0ae5f3a9bfd7.jpg'\n",
            "[Errno 2] No such file or directory: '/content/drive/Shared drives/New Markets/Aman/Project Neo/image_data/5e0dd0fcb3e917b47fd55934.jpg'\n",
            "[Errno 2] No such file or directory: '/content/drive/Shared drives/New Markets/Aman/Project Neo/image_data/5e0dd2b8138e18aa4cbd33a4.jpg'\n",
            "[Errno 2] No such file or directory: '/content/drive/Shared drives/New Markets/Aman/Project Neo/image_data/5e0ec17c93b46a8e2970fad2.jpg'\n",
            "[Errno 2] No such file or directory: '/content/drive/Shared drives/New Markets/Aman/Project Neo/image_data/5e0dde3b264a5594d6233eed.jpg'\n",
            "[Errno 2] No such file or directory: '/content/drive/Shared drives/New Markets/Aman/Project Neo/image_data/5e0e63fa10f00ffaf0b33a0c.jpg'\n",
            "[Errno 2] No such file or directory: '/content/drive/Shared drives/New Markets/Aman/Project Neo/image_data/5e0de4a7969d1f0c4e474f58.jpg'\n",
            "[Errno 2] No such file or directory: '/content/drive/Shared drives/New Markets/Aman/Project Neo/image_data/5e0ea4c09d3b788e8085c38a.jpg'\n",
            "[Errno 2] No such file or directory: '/content/drive/Shared drives/New Markets/Aman/Project Neo/image_data/e0de098d948a11ec6752e34.jpeg'\n",
            "[Errno 2] No such file or directory: '/content/drive/Shared drives/New Markets/Aman/Project Neo/image_data/5e0ec2978557af7d9189e193.jpg'\n"
          ],
          "name": "stdout"
        },
        {
          "output_type": "stream",
          "text": [
            "\r100%|██████████| 100/100 [00:00<00:00, 134.40it/s]\n"
          ],
          "name": "stderr"
        }
      ]
    },
    {
      "cell_type": "code",
      "metadata": {
        "id": "-e8UPyym95a2",
        "colab_type": "code",
        "colab": {
          "base_uri": "https://localhost:8080/",
          "height": 204
        },
        "outputId": "483e7b01-8b11-4edb-b867-042e2187e9c0"
      },
      "source": [
        "import os\n",
        "img_list = os.listdir(\"/content/drive/Shared drives/New Markets/Aman/Project Neo/image_data/\")\n",
        "len(img_list)\n",
        "train['flag'] = train['image_filename'].apply(lambda x: True if x in img_list else False)\n",
        "train_cleaned = train[train['flag'] == True]\n",
        "train_cleaned.head()\n",
        "\n"
      ],
      "execution_count": 30,
      "outputs": [
        {
          "output_type": "execute_result",
          "data": {
            "text/html": [
              "<div>\n",
              "<style scoped>\n",
              "    .dataframe tbody tr th:only-of-type {\n",
              "        vertical-align: middle;\n",
              "    }\n",
              "\n",
              "    .dataframe tbody tr th {\n",
              "        vertical-align: top;\n",
              "    }\n",
              "\n",
              "    .dataframe thead th {\n",
              "        text-align: right;\n",
              "    }\n",
              "</style>\n",
              "<table border=\"1\" class=\"dataframe\">\n",
              "  <thead>\n",
              "    <tr style=\"text-align: right;\">\n",
              "      <th></th>\n",
              "      <th>category</th>\n",
              "      <th>image_filename</th>\n",
              "      <th>flag</th>\n",
              "    </tr>\n",
              "  </thead>\n",
              "  <tbody>\n",
              "    <tr>\n",
              "      <th>0</th>\n",
              "      <td>0</td>\n",
              "      <td>5e0e9bce21cd0a98fdab0266.jpg</td>\n",
              "      <td>True</td>\n",
              "    </tr>\n",
              "    <tr>\n",
              "      <th>1</th>\n",
              "      <td>1</td>\n",
              "      <td>5dec1ed62f82761b635fc1d6.jpg</td>\n",
              "      <td>True</td>\n",
              "    </tr>\n",
              "    <tr>\n",
              "      <th>2</th>\n",
              "      <td>2</td>\n",
              "      <td>5e0eb8c72cc51560a35b1a30.jpg</td>\n",
              "      <td>True</td>\n",
              "    </tr>\n",
              "    <tr>\n",
              "      <th>3</th>\n",
              "      <td>1</td>\n",
              "      <td>5e0e58d61528128fd2cdc194.jpg</td>\n",
              "      <td>True</td>\n",
              "    </tr>\n",
              "    <tr>\n",
              "      <th>4</th>\n",
              "      <td>2</td>\n",
              "      <td>5dfbcbe1ffc2d4254efda41e.jpg</td>\n",
              "      <td>True</td>\n",
              "    </tr>\n",
              "  </tbody>\n",
              "</table>\n",
              "</div>"
            ],
            "text/plain": [
              "   category                image_filename  flag\n",
              "0         0  5e0e9bce21cd0a98fdab0266.jpg  True\n",
              "1         1  5dec1ed62f82761b635fc1d6.jpg  True\n",
              "2         2  5e0eb8c72cc51560a35b1a30.jpg  True\n",
              "3         1  5e0e58d61528128fd2cdc194.jpg  True\n",
              "4         2  5dfbcbe1ffc2d4254efda41e.jpg  True"
            ]
          },
          "metadata": {
            "tags": []
          },
          "execution_count": 30
        }
      ]
    },
    {
      "cell_type": "code",
      "metadata": {
        "id": "Yr0vg9iv9Vwv",
        "colab_type": "code",
        "colab": {
          "base_uri": "https://localhost:8080/",
          "height": 34
        },
        "outputId": "867880b1-f2f8-49b1-a87e-4cb094a2fb8f"
      },
      "source": [
        "X.shape"
      ],
      "execution_count": 31,
      "outputs": [
        {
          "output_type": "execute_result",
          "data": {
            "text/plain": [
              "(81, 56, 56, 3)"
            ]
          },
          "metadata": {
            "tags": []
          },
          "execution_count": 31
        }
      ]
    },
    {
      "cell_type": "markdown",
      "metadata": {
        "id": "GwIjjmor_VcH",
        "colab_type": "text"
      },
      "source": [
        "# New Section"
      ]
    },
    {
      "cell_type": "code",
      "metadata": {
        "id": "tYfceNIyO3mB",
        "colab_type": "code",
        "colab": {}
      },
      "source": [
        "y=train_cleaned['category'].values\n",
        "y = to_categorical(y)"
      ],
      "execution_count": 32,
      "outputs": []
    },
    {
      "cell_type": "code",
      "metadata": {
        "id": "WKbFsmgLCiQW",
        "colab_type": "code",
        "colab": {
          "base_uri": "https://localhost:8080/",
          "height": 34
        },
        "outputId": "951e4dcd-d301-4fef-81cf-1571751b4e19"
      },
      "source": [
        "y.shape"
      ],
      "execution_count": 33,
      "outputs": [
        {
          "output_type": "execute_result",
          "data": {
            "text/plain": [
              "(81, 4)"
            ]
          },
          "metadata": {
            "tags": []
          },
          "execution_count": 33
        }
      ]
    },
    {
      "cell_type": "code",
      "metadata": {
        "id": "CbAZY_SdXpcM",
        "colab_type": "code",
        "colab": {}
      },
      "source": [
        "X_train, X_test, y_train, y_test = train_test_split(X, y, random_state=42, test_size=0.2)\n"
      ],
      "execution_count": 34,
      "outputs": []
    },
    {
      "cell_type": "code",
      "metadata": {
        "id": "WKVOhqoaXx4U",
        "colab_type": "code",
        "colab": {}
      },
      "source": [
        "model = Sequential()\n",
        "model.add(Conv2D(32, kernel_size=(3, 3),activation='relu',input_shape=(56,56,3)))\n",
        "model.add(Conv2D(64, (3, 3), activation='relu'))\n",
        "model.add(MaxPooling2D(pool_size=(2, 2)))\n",
        "model.add(Dropout(0.25))\n",
        "model.add(Flatten())\n",
        "model.add(Dense(128, activation='relu'))\n",
        "model.add(Dropout(0.5))\n",
        "model.add(Dense(4, activation='softmax'))\n",
        "model.compile(loss='categorical_crossentropy',optimizer='Adam',metrics=['accuracy'])\n"
      ],
      "execution_count": 35,
      "outputs": []
    },
    {
      "cell_type": "code",
      "metadata": {
        "id": "9J8WhXUC2I1h",
        "colab_type": "code",
        "colab": {}
      },
      "source": [
        "nets = 3\n",
        "model = [0] *nets\n",
        "\n",
        "for j in range(3):\n",
        "    model[j] = Sequential()\n",
        "    model[j].add(Conv2D(24,kernel_size=5,padding='same',activation='relu',\n",
        "            input_shape=(56,56,3)))\n",
        "    model[j].add(MaxPooling2D())\n",
        "    if j>0:\n",
        "        model[j].add(Conv2D(48,kernel_size=5,padding='same',activation='relu'))\n",
        "        model[j].add(MaxPooling2D())\n",
        "    if j>1:\n",
        "        model[j].add(Conv2D(64,kernel_size=5,padding='same',activation='relu'))\n",
        "        model[j].add(MaxPooling2D(padding='same'))\n",
        "    model[j].add(Flatten())\n",
        "    model[j].add(Dense(256, activation='relu'))\n",
        "    model[j].add(Dense(4, activation='softmax'))\n",
        "    model[j].compile(optimizer=\"adam\", loss=\"categorical_crossentropy\", metrics=[\"accuracy\"])\n",
        "    # opt = SGD(lr=0.001, momentum=0.9)\n",
        "    # model[j].compile(optimizer=opt, loss='categorical_crossentropy', metrics=['accuracy'])"
      ],
      "execution_count": 39,
      "outputs": []
    },
    {
      "cell_type": "code",
      "metadata": {
        "id": "IeKMGVwN6ZTO",
        "colab_type": "code",
        "colab": {}
      },
      "source": [
        "nets = 6\n",
        "model = [0] *nets\n",
        "for j in range(6):\n",
        "    model[j] = Sequential()\n",
        "    model[j].add(Conv2D(j*8+8,kernel_size=5,activation='relu',input_shape=(56,56,3)))\n",
        "    model[j].add(MaxPooling2D())\n",
        "    model[j].add(Conv2D(j*16+16,kernel_size=5,activation='relu'))\n",
        "    model[j].add(MaxPooling2D())\n",
        "    model[j].add(Flatten())\n",
        "    model[j].add(Dense(256, activation='relu'))\n",
        "    model[j].add(Dense(4, activation='softmax'))\n",
        "    model[j].compile(optimizer=\"adam\", loss=\"categorical_crossentropy\", metrics=[\"accuracy\"])"
      ],
      "execution_count": null,
      "outputs": []
    },
    {
      "cell_type": "code",
      "metadata": {
        "id": "NW8amy9iX1iF",
        "colab_type": "code",
        "colab": {}
      },
      "source": [
        ""
      ],
      "execution_count": null,
      "outputs": []
    },
    {
      "cell_type": "code",
      "metadata": {
        "id": "DhkPdHHFYLeD",
        "colab_type": "code",
        "colab": {
          "base_uri": "https://localhost:8080/",
          "height": 85
        },
        "outputId": "590f0e28-d125-4873-fdd6-d029312b4a06"
      },
      "source": [
        "print(X_train.shape)\n",
        "print(y_train.shape)\n",
        "print(X_test.shape)\n",
        "print(y_test.shape)"
      ],
      "execution_count": 36,
      "outputs": [
        {
          "output_type": "stream",
          "text": [
            "(64, 56, 56, 3)\n",
            "(64, 4)\n",
            "(17, 56, 56, 3)\n",
            "(17, 4)\n"
          ],
          "name": "stdout"
        }
      ]
    },
    {
      "cell_type": "code",
      "metadata": {
        "id": "AtjBGUJb9QPO",
        "colab_type": "code",
        "colab": {}
      },
      "source": [
        "def summarize_diagnostics(history):\n",
        "\t# plot loss\n",
        "\tplt.subplot(211)\n",
        "\tplt.title('Cross Entropy Loss')\n",
        "\tplt.plot(history.history['loss'], color='blue', label='train')\n",
        "\tplt.plot(history.history['val_loss'], color='orange', label='test')\n",
        "\t# plot accuracy\n",
        "\tplt.subplot(212)\n",
        "\tplt.title('Classification Accuracy')\n",
        "\tplt.plot(history.history['accuracy'], color='blue', label='train')\n",
        "\tplt.plot(history.history['val_accuracy'], color='orange', label='test')"
      ],
      "execution_count": 37,
      "outputs": []
    },
    {
      "cell_type": "code",
      "metadata": {
        "id": "TLoWWJiPX_oN",
        "colab_type": "code",
        "colab": {
          "base_uri": "https://localhost:8080/",
          "height": 621
        },
        "outputId": "e4d07e73-23ff-4638-d2b8-2f8c1bc282fa"
      },
      "source": [
        "model_diag = model[2].fit(X_train, y_train, epochs=10, validation_data=(X_test, y_test))\n",
        "summarize_diagnostics(model_diag)\n"
      ],
      "execution_count": 42,
      "outputs": [
        {
          "output_type": "stream",
          "text": [
            "Epoch 1/10\n",
            "2/2 [==============================] - 0s 230ms/step - loss: 1.4173 - accuracy: 0.2344 - val_loss: 1.5380 - val_accuracy: 0.2941\n",
            "Epoch 2/10\n",
            "2/2 [==============================] - 0s 170ms/step - loss: 1.3748 - accuracy: 0.3125 - val_loss: 1.3790 - val_accuracy: 0.3529\n",
            "Epoch 3/10\n",
            "2/2 [==============================] - 0s 168ms/step - loss: 1.3557 - accuracy: 0.3438 - val_loss: 1.4005 - val_accuracy: 0.3529\n",
            "Epoch 4/10\n",
            "2/2 [==============================] - 0s 175ms/step - loss: 1.3240 - accuracy: 0.5781 - val_loss: 1.4257 - val_accuracy: 0.2941\n",
            "Epoch 5/10\n",
            "2/2 [==============================] - 0s 168ms/step - loss: 1.3016 - accuracy: 0.3594 - val_loss: 1.4524 - val_accuracy: 0.2941\n",
            "Epoch 6/10\n",
            "2/2 [==============================] - 0s 172ms/step - loss: 1.2563 - accuracy: 0.4375 - val_loss: 1.4349 - val_accuracy: 0.4118\n",
            "Epoch 7/10\n",
            "2/2 [==============================] - 0s 166ms/step - loss: 1.2109 - accuracy: 0.6562 - val_loss: 1.3738 - val_accuracy: 0.4118\n",
            "Epoch 8/10\n",
            "2/2 [==============================] - 0s 172ms/step - loss: 1.1517 - accuracy: 0.6094 - val_loss: 1.3975 - val_accuracy: 0.2941\n",
            "Epoch 9/10\n",
            "2/2 [==============================] - 0s 170ms/step - loss: 1.0201 - accuracy: 0.6406 - val_loss: 1.3683 - val_accuracy: 0.3529\n",
            "Epoch 10/10\n",
            "2/2 [==============================] - 0s 156ms/step - loss: 0.9067 - accuracy: 0.6719 - val_loss: 1.3869 - val_accuracy: 0.5294\n"
          ],
          "name": "stdout"
        },
        {
          "output_type": "display_data",
          "data": {
            "image/png": "[encoded data removed]",
            "text/plain": [
              "<Figure size 432x288 with 2 Axes>"
            ]
          },
          "metadata": {
            "tags": [],
            "needs_background": "light"
          }
        }
      ]
    },
    {
      "cell_type": "code",
      "metadata": {
        "id": "udZ4aiTMbJ7K",
        "colab_type": "code",
        "colab": {}
      },
      "source": [
        "test_image = []\n",
        "img = image.load_img('/content/drive/Shared drives/New Markets/Aman/Project Neo/temp_2.jpg',target_size=(56,56,3), grayscale=False)\n",
        "img = image.img_to_array(img)\n",
        "img = img/255\n",
        "test_image.append(img)\n",
        "test = np.array(test_image)\n",
        "\n"
      ],
      "execution_count": null,
      "outputs": []
    },
    {
      "cell_type": "code",
      "metadata": {
        "id": "dZRm8OnI3ooh",
        "colab_type": "code",
        "colab": {
          "base_uri": "https://localhost:8080/",
          "height": 284
        },
        "outputId": "d3b57bca-f501-4882-8d3d-f661f85368a4"
      },
      "source": [
        "plt.imshow(img)"
      ],
      "execution_count": null,
      "outputs": [
        {
          "output_type": "execute_result",
          "data": {
            "text/plain": [
              "<matplotlib.image.AxesImage at 0x7f5a2603f048>"
            ]
          },
          "metadata": {
            "tags": []
          },
          "execution_count": 174
        },
        {
          "output_type": "display_data",
          "data": {
            "image/png": "[encoded data removed]",
            "text/plain": [
              "<Figure size 432x288 with 1 Axes>"
            ]
          },
          "metadata": {
            "tags": [],
            "needs_background": "light"
          }
        }
      ]
    },
    {
      "cell_type": "code",
      "metadata": {
        "id": "sLY5kL-gbPw-",
        "colab_type": "code",
        "colab": {}
      },
      "source": [
        "prediction = model[2].predict_classes(test)"
      ],
      "execution_count": null,
      "outputs": []
    },
    {
      "cell_type": "code",
      "metadata": {
        "id": "XGtmmWUBdMSU",
        "colab_type": "code",
        "colab": {
          "base_uri": "https://localhost:8080/",
          "height": 34
        },
        "outputId": "fd426b30-de8f-4b41-ff5c-f750af698e39"
      },
      "source": [
        "prediction"
      ],
      "execution_count": null,
      "outputs": [
        {
          "output_type": "execute_result",
          "data": {
            "text/plain": [
              "array([1])"
            ]
          },
          "metadata": {
            "tags": []
          },
          "execution_count": 182
        }
      ]
    },
    {
      "cell_type": "code",
      "metadata": {
        "id": "p7TSauSCdhSD",
        "colab_type": "code",
        "colab": {
          "base_uri": "https://localhost:8080/",
          "height": 34
        },
        "outputId": "8dfbc639-6a79-444d-bfcf-76f26118ed8b"
      },
      "source": [
        "d"
      ],
      "execution_count": null,
      "outputs": [
        {
          "output_type": "execute_result",
          "data": {
            "text/plain": [
              "{'Dresses&Skirts': 2, 'Handbags': 3, 'Jackets&Blazers': 0, 'Shoes': 1}"
            ]
          },
          "metadata": {
            "tags": []
          },
          "execution_count": 183
        }
      ]
    },
    {
      "cell_type": "code",
      "metadata": {
        "id": "UPBi4fC3djQz",
        "colab_type": "code",
        "colab": {}
      },
      "source": [
        ""
      ],
      "execution_count": null,
      "outputs": []
    },
    {
      "cell_type": "code",
      "metadata": {
        "id": "ZOyzd2Cd85Hz",
        "colab_type": "code",
        "colab": {}
      },
      "source": [
        ""
      ],
      "execution_count": null,
      "outputs": []
    }
  ]
}