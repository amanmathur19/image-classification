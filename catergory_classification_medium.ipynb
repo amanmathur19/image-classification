{
  "nbformat": 4,
  "nbformat_minor": 0,
  "metadata": {
    "colab": {
      "name": "catergory_classification_medium.ipynb",
      "provenance": [],
      "collapsed_sections": [],
      "toc_visible": true,
      "mount_file_id": "12qJ75lFrQ8XxyfTtrUONQzqUvCVj09YU",
      "authorship_tag": "ABX9TyOl1UYVKWp3g1AwiGDihlnD",
      "include_colab_link": true
    },
    "kernelspec": {
      "name": "python3",
      "display_name": "Python 3"
    }
  },
  "cells": [
    {
      "cell_type": "markdown",
      "metadata": {
        "id": "view-in-github",
        "colab_type": "text"
      },
      "source": [
        "<a href=\"https://colab.research.google.com/github/amanmathur19/image-classification/blob/master/catergory_classification_medium.ipynb\" target=\"_parent\"><img src=\"https://colab.research.google.com/assets/colab-badge.svg\" alt=\"Open In Colab\"/></a>"
      ]
    },
    {
      "cell_type": "code",
      "metadata": {
        "id": "DqnY1AMwfq1v",
        "colab_type": "code",
        "colab": {}
      },
      "source": [
        "import keras\n",
        "from keras.models import Sequential\n",
        "from keras.layers import Dense, Dropout, Flatten\n",
        "from keras.layers import Conv2D, MaxPooling2D\n",
        "from keras.utils import to_categorical\n",
        "from keras.preprocessing import image\n",
        "from keras.optimizers import SGD\n",
        "import numpy as np\n",
        "import pandas as pd\n",
        "import matplotlib.pyplot as plt\n",
        "from sklearn.model_selection import train_test_split\n",
        "from keras.utils import to_categorical\n",
        "from tqdm import tqdm\n"
      ],
      "execution_count": 1,
      "outputs": []
    },
    {
      "cell_type": "code",
      "metadata": {
        "id": "nSXDvYKsgXAG",
        "colab_type": "code",
        "colab": {}
      },
      "source": [
        "train = pd.read_csv('/content/drive/Shared drives/New Markets/Aman/Project Neo/medium.csv')"
      ],
      "execution_count": 30,
      "outputs": []
    },
    {
      "cell_type": "code",
      "metadata": {
        "id": "oDE0-7UR6hEF",
        "colab_type": "code",
        "colab": {
          "base_uri": "https://localhost:8080/",
          "height": 34
        },
        "outputId": "08e248ce-b945-449a-a282-2f681b114e63"
      },
      "source": [
        "train.columns"
      ],
      "execution_count": 31,
      "outputs": [
        {
          "output_type": "execute_result",
          "data": {
            "text/plain": [
              "Index(['Unnamed: 0', 'upload_date', 'brand', 'cover_image_url', 'category'], dtype='object')"
            ]
          },
          "metadata": {
            "tags": []
          },
          "execution_count": 31
        }
      ]
    },
    {
      "cell_type": "code",
      "metadata": {
        "id": "r9PWEVLj5oXy",
        "colab_type": "code",
        "colab": {}
      },
      "source": [
        "train['image_filename'] = train['cover_image_url'].apply((lambda x: x[-28:]))\n",
        "train = train.drop(train.columns[0:3], axis = 1)\n",
        "train = train.drop(train.columns[0:1], axis =1 )"
      ],
      "execution_count": 32,
      "outputs": []
    },
    {
      "cell_type": "code",
      "metadata": {
        "id": "yCwTprm6Tw7O",
        "colab_type": "code",
        "colab": {
          "base_uri": "https://localhost:8080/",
          "height": 204
        },
        "outputId": "6fe4b140-a128-4b94-bdf5-0e40128fb7af"
      },
      "source": [
        "train.head()"
      ],
      "execution_count": 33,
      "outputs": [
        {
          "output_type": "execute_result",
          "data": {
            "text/html": [
              "<div>\n",
              "<style scoped>\n",
              "    .dataframe tbody tr th:only-of-type {\n",
              "        vertical-align: middle;\n",
              "    }\n",
              "\n",
              "    .dataframe tbody tr th {\n",
              "        vertical-align: top;\n",
              "    }\n",
              "\n",
              "    .dataframe thead th {\n",
              "        text-align: right;\n",
              "    }\n",
              "</style>\n",
              "<table border=\"1\" class=\"dataframe\">\n",
              "  <thead>\n",
              "    <tr style=\"text-align: right;\">\n",
              "      <th></th>\n",
              "      <th>category</th>\n",
              "      <th>image_filename</th>\n",
              "    </tr>\n",
              "  </thead>\n",
              "  <tbody>\n",
              "    <tr>\n",
              "      <th>0</th>\n",
              "      <td>Dresses &amp; Skirts</td>\n",
              "      <td>5e17d1919d3b78474d296d12.jpg</td>\n",
              "    </tr>\n",
              "    <tr>\n",
              "      <th>1</th>\n",
              "      <td>Dresses &amp; Skirts</td>\n",
              "      <td>5e102444138e1891a5c72ecb.jpg</td>\n",
              "    </tr>\n",
              "    <tr>\n",
              "      <th>2</th>\n",
              "      <td>Dresses &amp; Skirts</td>\n",
              "      <td>5e0e754d9e1559244942bd6e.jpg</td>\n",
              "    </tr>\n",
              "    <tr>\n",
              "      <th>3</th>\n",
              "      <td>Dresses &amp; Skirts</td>\n",
              "      <td>5e11196de974fbb7c1039027.jpg</td>\n",
              "    </tr>\n",
              "    <tr>\n",
              "      <th>4</th>\n",
              "      <td>Dresses &amp; Skirts</td>\n",
              "      <td>5e195b3693b46a0f0f3f4354.jpg</td>\n",
              "    </tr>\n",
              "  </tbody>\n",
              "</table>\n",
              "</div>"
            ],
            "text/plain": [
              "           category                image_filename\n",
              "0  Dresses & Skirts  5e17d1919d3b78474d296d12.jpg\n",
              "1  Dresses & Skirts  5e102444138e1891a5c72ecb.jpg\n",
              "2  Dresses & Skirts  5e0e754d9e1559244942bd6e.jpg\n",
              "3  Dresses & Skirts  5e11196de974fbb7c1039027.jpg\n",
              "4  Dresses & Skirts  5e195b3693b46a0f0f3f4354.jpg"
            ]
          },
          "metadata": {
            "tags": []
          },
          "execution_count": 33
        }
      ]
    },
    {
      "cell_type": "code",
      "metadata": {
        "id": "Q1MfaR3sUhEw",
        "colab_type": "code",
        "colab": {
          "base_uri": "https://localhost:8080/",
          "height": 204
        },
        "outputId": "40dfabb2-5406-447d-a60b-a531c23fe3e9"
      },
      "source": [
        "train['category'] = train['category'].apply(lambda x: x.replace(\" \",\"\"))\n",
        "train.head()"
      ],
      "execution_count": 34,
      "outputs": [
        {
          "output_type": "execute_result",
          "data": {
            "text/html": [
              "<div>\n",
              "<style scoped>\n",
              "    .dataframe tbody tr th:only-of-type {\n",
              "        vertical-align: middle;\n",
              "    }\n",
              "\n",
              "    .dataframe tbody tr th {\n",
              "        vertical-align: top;\n",
              "    }\n",
              "\n",
              "    .dataframe thead th {\n",
              "        text-align: right;\n",
              "    }\n",
              "</style>\n",
              "<table border=\"1\" class=\"dataframe\">\n",
              "  <thead>\n",
              "    <tr style=\"text-align: right;\">\n",
              "      <th></th>\n",
              "      <th>category</th>\n",
              "      <th>image_filename</th>\n",
              "    </tr>\n",
              "  </thead>\n",
              "  <tbody>\n",
              "    <tr>\n",
              "      <th>0</th>\n",
              "      <td>Dresses&amp;Skirts</td>\n",
              "      <td>5e17d1919d3b78474d296d12.jpg</td>\n",
              "    </tr>\n",
              "    <tr>\n",
              "      <th>1</th>\n",
              "      <td>Dresses&amp;Skirts</td>\n",
              "      <td>5e102444138e1891a5c72ecb.jpg</td>\n",
              "    </tr>\n",
              "    <tr>\n",
              "      <th>2</th>\n",
              "      <td>Dresses&amp;Skirts</td>\n",
              "      <td>5e0e754d9e1559244942bd6e.jpg</td>\n",
              "    </tr>\n",
              "    <tr>\n",
              "      <th>3</th>\n",
              "      <td>Dresses&amp;Skirts</td>\n",
              "      <td>5e11196de974fbb7c1039027.jpg</td>\n",
              "    </tr>\n",
              "    <tr>\n",
              "      <th>4</th>\n",
              "      <td>Dresses&amp;Skirts</td>\n",
              "      <td>5e195b3693b46a0f0f3f4354.jpg</td>\n",
              "    </tr>\n",
              "  </tbody>\n",
              "</table>\n",
              "</div>"
            ],
            "text/plain": [
              "         category                image_filename\n",
              "0  Dresses&Skirts  5e17d1919d3b78474d296d12.jpg\n",
              "1  Dresses&Skirts  5e102444138e1891a5c72ecb.jpg\n",
              "2  Dresses&Skirts  5e0e754d9e1559244942bd6e.jpg\n",
              "3  Dresses&Skirts  5e11196de974fbb7c1039027.jpg\n",
              "4  Dresses&Skirts  5e195b3693b46a0f0f3f4354.jpg"
            ]
          },
          "metadata": {
            "tags": []
          },
          "execution_count": 34
        }
      ]
    },
    {
      "cell_type": "code",
      "metadata": {
        "id": "AP8tjLlieJie",
        "colab_type": "code",
        "colab": {
          "base_uri": "https://localhost:8080/",
          "height": 102
        },
        "outputId": "d65bf37c-8f31-45fe-cae8-07192f9e19e5"
      },
      "source": [
        "train['category'].value_counts()"
      ],
      "execution_count": 39,
      "outputs": [
        {
          "output_type": "execute_result",
          "data": {
            "text/plain": [
              "Dresses&Skirts     2500\n",
              "Shoes              2500\n",
              "Jackets&Blazers    2500\n",
              "Handbags           2500\n",
              "Name: category, dtype: int64"
            ]
          },
          "metadata": {
            "tags": []
          },
          "execution_count": 39
        }
      ]
    },
    {
      "cell_type": "code",
      "metadata": {
        "id": "W2VfT_qi7YAN",
        "colab_type": "code",
        "colab": {
          "base_uri": "https://localhost:8080/",
          "height": 34
        },
        "outputId": "1c33d4e3-9c92-45c1-cbbb-1b8834931a51"
      },
      "source": [
        "d = dict(zip(train['category'].unique(), range(0,4)))\n",
        "d"
      ],
      "execution_count": 40,
      "outputs": [
        {
          "output_type": "execute_result",
          "data": {
            "text/plain": [
              "{'Dresses&Skirts': 0, 'Handbags': 1, 'Jackets&Blazers': 2, 'Shoes': 3}"
            ]
          },
          "metadata": {
            "tags": []
          },
          "execution_count": 40
        }
      ]
    },
    {
      "cell_type": "code",
      "metadata": {
        "id": "6Fymv6odVqZN",
        "colab_type": "code",
        "colab": {
          "base_uri": "https://localhost:8080/",
          "height": 204
        },
        "outputId": "3967db1e-a5ee-4d83-b6b2-32085a861b96"
      },
      "source": [
        "train['category'] =  train['category'].map(d,na_action = 'ignore')\n",
        "train.drop(train.columns[0], axis=1)\n",
        "train.head()"
      ],
      "execution_count": 41,
      "outputs": [
        {
          "output_type": "execute_result",
          "data": {
            "text/html": [
              "<div>\n",
              "<style scoped>\n",
              "    .dataframe tbody tr th:only-of-type {\n",
              "        vertical-align: middle;\n",
              "    }\n",
              "\n",
              "    .dataframe tbody tr th {\n",
              "        vertical-align: top;\n",
              "    }\n",
              "\n",
              "    .dataframe thead th {\n",
              "        text-align: right;\n",
              "    }\n",
              "</style>\n",
              "<table border=\"1\" class=\"dataframe\">\n",
              "  <thead>\n",
              "    <tr style=\"text-align: right;\">\n",
              "      <th></th>\n",
              "      <th>category</th>\n",
              "      <th>image_filename</th>\n",
              "    </tr>\n",
              "  </thead>\n",
              "  <tbody>\n",
              "    <tr>\n",
              "      <th>0</th>\n",
              "      <td>0</td>\n",
              "      <td>5e17d1919d3b78474d296d12.jpg</td>\n",
              "    </tr>\n",
              "    <tr>\n",
              "      <th>1</th>\n",
              "      <td>0</td>\n",
              "      <td>5e102444138e1891a5c72ecb.jpg</td>\n",
              "    </tr>\n",
              "    <tr>\n",
              "      <th>2</th>\n",
              "      <td>0</td>\n",
              "      <td>5e0e754d9e1559244942bd6e.jpg</td>\n",
              "    </tr>\n",
              "    <tr>\n",
              "      <th>3</th>\n",
              "      <td>0</td>\n",
              "      <td>5e11196de974fbb7c1039027.jpg</td>\n",
              "    </tr>\n",
              "    <tr>\n",
              "      <th>4</th>\n",
              "      <td>0</td>\n",
              "      <td>5e195b3693b46a0f0f3f4354.jpg</td>\n",
              "    </tr>\n",
              "  </tbody>\n",
              "</table>\n",
              "</div>"
            ],
            "text/plain": [
              "   category                image_filename\n",
              "0         0  5e17d1919d3b78474d296d12.jpg\n",
              "1         0  5e102444138e1891a5c72ecb.jpg\n",
              "2         0  5e0e754d9e1559244942bd6e.jpg\n",
              "3         0  5e11196de974fbb7c1039027.jpg\n",
              "4         0  5e195b3693b46a0f0f3f4354.jpg"
            ]
          },
          "metadata": {
            "tags": []
          },
          "execution_count": 41
        }
      ]
    },
    {
      "cell_type": "code",
      "metadata": {
        "id": "MGxK0vMmOyrH",
        "colab_type": "code",
        "colab": {}
      },
      "source": [
        "# We have grayscale images, so while loading the images we will keep grayscale=True, if you have RGB images, you should set grayscale as False\n",
        "train_image = []\n",
        "for i in tqdm(range(train.shape[0])):\n",
        "    try:\n",
        "      img = image.load_img('/content/drive/Shared drives/New Markets/Aman/Project Neo/image-data-med/'+train['image_filename'][i], target_size=(56,56,3), grayscale=False)\n",
        "    except Exception as e:\n",
        "      print(e)\n",
        "      continue\n",
        "      # train.drop(train[train['image_filename'] == train['image_filename'][i]].index,axis = 0)\n",
        "\n",
        "    img = image.img_to_array(img)\n",
        "    img = img/255\n",
        "    train_image.append(img)\n",
        "\n",
        "X = np.array(train_image)\n",
        "\n"
      ],
      "execution_count": null,
      "outputs": []
    },
    {
      "cell_type": "code",
      "metadata": {
        "id": "v_ntXuIeoHuS",
        "colab_type": "code",
        "colab": {
          "base_uri": "https://localhost:8080/",
          "height": 34
        },
        "outputId": "a2d49024-ca05-4d33-86db-b16c38d33554"
      },
      "source": [
        "len(train_image)"
      ],
      "execution_count": 85,
      "outputs": [
        {
          "output_type": "execute_result",
          "data": {
            "text/plain": [
              "8634"
            ]
          },
          "metadata": {
            "tags": []
          },
          "execution_count": 85
        }
      ]
    },
    {
      "cell_type": "code",
      "metadata": {
        "id": "zFDdNH6wo8U3",
        "colab_type": "code",
        "colab": {
          "base_uri": "https://localhost:8080/",
          "height": 204
        },
        "outputId": "0d7ef0d3-6211-4df2-fc56-f1629fa26def"
      },
      "source": [
        "train = tr"
      ],
      "execution_count": 88,
      "outputs": [
        {
          "output_type": "execute_result",
          "data": {
            "text/html": [
              "<div>\n",
              "<style scoped>\n",
              "    .dataframe tbody tr th:only-of-type {\n",
              "        vertical-align: middle;\n",
              "    }\n",
              "\n",
              "    .dataframe tbody tr th {\n",
              "        vertical-align: top;\n",
              "    }\n",
              "\n",
              "    .dataframe thead th {\n",
              "        text-align: right;\n",
              "    }\n",
              "</style>\n",
              "<table border=\"1\" class=\"dataframe\">\n",
              "  <thead>\n",
              "    <tr style=\"text-align: right;\">\n",
              "      <th></th>\n",
              "      <th>category</th>\n",
              "      <th>image_filename</th>\n",
              "      <th>flag</th>\n",
              "    </tr>\n",
              "  </thead>\n",
              "  <tbody>\n",
              "    <tr>\n",
              "      <th>0</th>\n",
              "      <td>0</td>\n",
              "      <td>5e17d1919d3b78474d296d12.jpg</td>\n",
              "      <td>True</td>\n",
              "    </tr>\n",
              "    <tr>\n",
              "      <th>1</th>\n",
              "      <td>0</td>\n",
              "      <td>5e102444138e1891a5c72ecb.jpg</td>\n",
              "      <td>True</td>\n",
              "    </tr>\n",
              "    <tr>\n",
              "      <th>2</th>\n",
              "      <td>0</td>\n",
              "      <td>5e0e754d9e1559244942bd6e.jpg</td>\n",
              "      <td>True</td>\n",
              "    </tr>\n",
              "    <tr>\n",
              "      <th>3</th>\n",
              "      <td>0</td>\n",
              "      <td>5e11196de974fbb7c1039027.jpg</td>\n",
              "      <td>True</td>\n",
              "    </tr>\n",
              "    <tr>\n",
              "      <th>4</th>\n",
              "      <td>0</td>\n",
              "      <td>5e195b3693b46a0f0f3f4354.jpg</td>\n",
              "      <td>True</td>\n",
              "    </tr>\n",
              "  </tbody>\n",
              "</table>\n",
              "</div>"
            ],
            "text/plain": [
              "   category                image_filename  flag\n",
              "0         0  5e17d1919d3b78474d296d12.jpg  True\n",
              "1         0  5e102444138e1891a5c72ecb.jpg  True\n",
              "2         0  5e0e754d9e1559244942bd6e.jpg  True\n",
              "3         0  5e11196de974fbb7c1039027.jpg  True\n",
              "4         0  5e195b3693b46a0f0f3f4354.jpg  True"
            ]
          },
          "metadata": {
            "tags": []
          },
          "execution_count": 88
        }
      ]
    },
    {
      "cell_type": "markdown",
      "metadata": {
        "id": "GwIjjmor_VcH",
        "colab_type": "text"
      },
      "source": [
        "# New Section"
      ]
    },
    {
      "cell_type": "code",
      "metadata": {
        "id": "tYfceNIyO3mB",
        "colab_type": "code",
        "colab": {}
      },
      "source": [
        "y=train_cleaned['category'].values\n",
        "y = to_categorical(y)"
      ],
      "execution_count": 89,
      "outputs": []
    },
    {
      "cell_type": "code",
      "metadata": {
        "id": "CbAZY_SdXpcM",
        "colab_type": "code",
        "colab": {}
      },
      "source": [
        "X_train, X_test, y_train, y_test = train_test_split(X, y, random_state=42, test_size=0.2)\n"
      ],
      "execution_count": 90,
      "outputs": []
    },
    {
      "cell_type": "code",
      "metadata": {
        "id": "WKVOhqoaXx4U",
        "colab_type": "code",
        "colab": {}
      },
      "source": [
        "model = Sequential()\n",
        "model.add(Conv2D(32, kernel_size=(3, 3),activation='relu',input_shape=(56,56,3)))\n",
        "model.add(Conv2D(64, (3, 3), activation='relu'))\n",
        "model.add(MaxPooling2D(pool_size=(2, 2)))\n",
        "model.add(Dropout(0.25))\n",
        "model.add(Flatten())\n",
        "model.add(Dense(128, activation='relu'))\n",
        "model.add(Dropout(0.5))\n",
        "model.add(Dense(4, activation='softmax'))\n",
        "model.compile(loss='categorical_crossentropy',optimizer='Adam',metrics=['accuracy'])\n"
      ],
      "execution_count": null,
      "outputs": []
    },
    {
      "cell_type": "code",
      "metadata": {
        "id": "9J8WhXUC2I1h",
        "colab_type": "code",
        "colab": {}
      },
      "source": [
        "nets = 3\n",
        "model = [0] *nets\n",
        "\n",
        "for j in range(3):\n",
        "    model[j] = Sequential()\n",
        "    model[j].add(Conv2D(24,kernel_size=5,padding='same',activation='relu',\n",
        "            input_shape=(56,56,3)))\n",
        "    model[j].add(MaxPooling2D())\n",
        "    if j>0:\n",
        "        model[j].add(Conv2D(48,kernel_size=5,padding='same',activation='relu'))\n",
        "        model[j].add(MaxPooling2D())\n",
        "    if j>1:\n",
        "        model[j].add(Conv2D(64,kernel_size=5,padding='same',activation='relu'))\n",
        "        model[j].add(MaxPooling2D(padding='same'))\n",
        "    model[j].add(Flatten())\n",
        "    model[j].add(Dense(256, activation='relu'))\n",
        "    model[j].add(Dense(4, activation='softmax'))\n",
        "    model[j].compile(optimizer=\"adam\", loss=\"categorical_crossentropy\", metrics=[\"accuracy\"])\n",
        "    # opt = SGD(lr=0.001, momentum=0.9)\n",
        "    # model[j].compile(optimizer=opt, loss='categorical_crossentropy', metrics=['accuracy'])"
      ],
      "execution_count": 92,
      "outputs": []
    },
    {
      "cell_type": "code",
      "metadata": {
        "id": "IeKMGVwN6ZTO",
        "colab_type": "code",
        "colab": {}
      },
      "source": [
        "nets = 6\n",
        "model = [0] *nets\n",
        "for j in range(6):\n",
        "    model[j] = Sequential()\n",
        "    model[j].add(Conv2D(j*8+8,kernel_size=5,activation='relu',input_shape=(56,56,3)))\n",
        "    model[j].add(MaxPooling2D())\n",
        "    model[j].add(Conv2D(j*16+16,kernel_size=5,activation='relu'))\n",
        "    model[j].add(MaxPooling2D())\n",
        "    model[j].add(Flatten())\n",
        "    model[j].add(Dense(256, activation='relu'))\n",
        "    model[j].add(Dense(4, activation='softmax'))\n",
        "    model[j].compile(optimizer=\"adam\", loss=\"categorical_crossentropy\", metrics=[\"accuracy\"])"
      ],
      "execution_count": null,
      "outputs": []
    },
    {
      "cell_type": "code",
      "metadata": {
        "id": "NW8amy9iX1iF",
        "colab_type": "code",
        "colab": {}
      },
      "source": [
        ""
      ],
      "execution_count": null,
      "outputs": []
    },
    {
      "cell_type": "code",
      "metadata": {
        "id": "DhkPdHHFYLeD",
        "colab_type": "code",
        "colab": {
          "base_uri": "https://localhost:8080/",
          "height": 85
        },
        "outputId": "db1d0e09-bf40-4805-faee-13f4766302ad"
      },
      "source": [
        "print(X_train.shape)\n",
        "print(y_train.shape)\n",
        "print(X_test.shape)\n",
        "print(y_test.shape)"
      ],
      "execution_count": 93,
      "outputs": [
        {
          "output_type": "stream",
          "text": [
            "(6907, 56, 56, 3)\n",
            "(6907, 4)\n",
            "(1727, 56, 56, 3)\n",
            "(1727, 4)\n"
          ],
          "name": "stdout"
        }
      ]
    },
    {
      "cell_type": "code",
      "metadata": {
        "id": "AtjBGUJb9QPO",
        "colab_type": "code",
        "colab": {}
      },
      "source": [
        "def summarize_diagnostics(history):\n",
        "\t# plot loss\n",
        "\tplt.subplot(211)\n",
        "\tplt.title('Cross Entropy Loss')\n",
        "\tplt.plot(history.history['loss'], color='blue', label='train')\n",
        "\tplt.plot(history.history['val_loss'], color='orange', label='test')\n",
        "\t# plot accuracy\n",
        "\tplt.subplot(212)\n",
        "\tplt.title('Classification Accuracy')\n",
        "\tplt.plot(history.history['accuracy'], color='blue', label='train')\n",
        "\tplt.plot(history.history['val_accuracy'], color='orange', label='test')"
      ],
      "execution_count": 94,
      "outputs": []
    },
    {
      "cell_type": "code",
      "metadata": {
        "id": "TLoWWJiPX_oN",
        "colab_type": "code",
        "colab": {
          "base_uri": "https://localhost:8080/",
          "height": 1000
        },
        "outputId": "6508dc39-eceb-4fea-a171-e0d54e8b3474"
      },
      "source": [
        "model_diag = model[1].fit(X_train, y_train, epochs=100, validation_data=(X_test, y_test))\n",
        "summarize_diagnostics(model_diag)\n"
      ],
      "execution_count": 107,
      "outputs": [
        {
          "output_type": "stream",
          "text": [
            "Epoch 1/100\n",
            "216/216 [==============================] - 47s 217ms/step - loss: 1.1292 - accuracy: 0.5179 - val_loss: 0.9255 - val_accuracy: 0.6393\n",
            "Epoch 2/100\n",
            "216/216 [==============================] - 47s 217ms/step - loss: 0.7925 - accuracy: 0.6978 - val_loss: 0.8072 - val_accuracy: 0.6891\n",
            "Epoch 3/100\n",
            "216/216 [==============================] - 47s 219ms/step - loss: 0.6573 - accuracy: 0.7488 - val_loss: 0.7998 - val_accuracy: 0.7018\n",
            "Epoch 4/100\n",
            "216/216 [==============================] - 47s 220ms/step - loss: 0.5407 - accuracy: 0.7921 - val_loss: 0.7604 - val_accuracy: 0.7365\n",
            "Epoch 5/100\n",
            "216/216 [==============================] - 47s 220ms/step - loss: 0.4020 - accuracy: 0.8545 - val_loss: 0.8823 - val_accuracy: 0.7076\n",
            "Epoch 6/100\n",
            "216/216 [==============================] - 47s 218ms/step - loss: 0.2979 - accuracy: 0.8923 - val_loss: 0.9223 - val_accuracy: 0.7030\n",
            "Epoch 7/100\n",
            "216/216 [==============================] - 47s 218ms/step - loss: 0.1932 - accuracy: 0.9359 - val_loss: 1.0588 - val_accuracy: 0.7030\n",
            "Epoch 8/100\n",
            "216/216 [==============================] - 47s 219ms/step - loss: 0.1157 - accuracy: 0.9651 - val_loss: 1.1660 - val_accuracy: 0.7336\n",
            "Epoch 9/100\n",
            "216/216 [==============================] - 47s 218ms/step - loss: 0.0737 - accuracy: 0.9783 - val_loss: 1.5328 - val_accuracy: 0.7064\n",
            "Epoch 10/100\n",
            "216/216 [==============================] - 47s 220ms/step - loss: 0.0608 - accuracy: 0.9803 - val_loss: 1.4859 - val_accuracy: 0.7122\n",
            "Epoch 11/100\n",
            "216/216 [==============================] - 50s 231ms/step - loss: 0.0471 - accuracy: 0.9883 - val_loss: 1.7444 - val_accuracy: 0.7093\n",
            "Epoch 12/100\n",
            "216/216 [==============================] - 47s 219ms/step - loss: 0.0191 - accuracy: 0.9955 - val_loss: 1.7931 - val_accuracy: 0.7151\n",
            "Epoch 13/100\n",
            "216/216 [==============================] - 47s 219ms/step - loss: 0.0662 - accuracy: 0.9797 - val_loss: 1.7194 - val_accuracy: 0.7030\n",
            "Epoch 14/100\n",
            "216/216 [==============================] - 47s 219ms/step - loss: 0.0372 - accuracy: 0.9913 - val_loss: 1.8164 - val_accuracy: 0.7070\n",
            "Epoch 15/100\n",
            "216/216 [==============================] - 47s 219ms/step - loss: 0.0070 - accuracy: 0.9990 - val_loss: 1.9564 - val_accuracy: 0.7174\n",
            "Epoch 16/100\n",
            "216/216 [==============================] - 47s 219ms/step - loss: 0.0022 - accuracy: 1.0000 - val_loss: 2.0501 - val_accuracy: 0.7296\n",
            "Epoch 17/100\n",
            "216/216 [==============================] - 47s 219ms/step - loss: 7.7058e-04 - accuracy: 1.0000 - val_loss: 2.1445 - val_accuracy: 0.7261\n",
            "Epoch 18/100\n",
            "216/216 [==============================] - 47s 219ms/step - loss: 5.3105e-04 - accuracy: 1.0000 - val_loss: 2.2179 - val_accuracy: 0.7261\n",
            "Epoch 19/100\n",
            "216/216 [==============================] - 47s 219ms/step - loss: 2.9424e-04 - accuracy: 1.0000 - val_loss: 2.2729 - val_accuracy: 0.7255\n",
            "Epoch 20/100\n",
            "216/216 [==============================] - 47s 219ms/step - loss: 2.2759e-04 - accuracy: 1.0000 - val_loss: 2.3141 - val_accuracy: 0.7284\n",
            "Epoch 21/100\n",
            "216/216 [==============================] - 47s 219ms/step - loss: 1.8285e-04 - accuracy: 1.0000 - val_loss: 2.3584 - val_accuracy: 0.7296\n",
            "Epoch 22/100\n",
            "216/216 [==============================] - 47s 220ms/step - loss: 1.5080e-04 - accuracy: 1.0000 - val_loss: 2.3998 - val_accuracy: 0.7319\n",
            "Epoch 23/100\n",
            "216/216 [==============================] - 48s 221ms/step - loss: 1.2546e-04 - accuracy: 1.0000 - val_loss: 2.4327 - val_accuracy: 0.7290\n",
            "Epoch 24/100\n",
            "216/216 [==============================] - 50s 230ms/step - loss: 1.0649e-04 - accuracy: 1.0000 - val_loss: 2.4638 - val_accuracy: 0.7319\n",
            "Epoch 25/100\n",
            "216/216 [==============================] - 47s 219ms/step - loss: 9.1667e-05 - accuracy: 1.0000 - val_loss: 2.4967 - val_accuracy: 0.7307\n",
            "Epoch 26/100\n",
            "216/216 [==============================] - 50s 232ms/step - loss: 7.7933e-05 - accuracy: 1.0000 - val_loss: 2.5312 - val_accuracy: 0.7296\n",
            "Epoch 27/100\n",
            "216/216 [==============================] - 51s 236ms/step - loss: 6.7178e-05 - accuracy: 1.0000 - val_loss: 2.5664 - val_accuracy: 0.7307\n",
            "Epoch 28/100\n",
            "216/216 [==============================] - 50s 231ms/step - loss: 5.8733e-05 - accuracy: 1.0000 - val_loss: 2.5919 - val_accuracy: 0.7284\n",
            "Epoch 29/100\n",
            "216/216 [==============================] - 50s 229ms/step - loss: 5.0680e-05 - accuracy: 1.0000 - val_loss: 2.6210 - val_accuracy: 0.7296\n",
            "Epoch 30/100\n",
            "216/216 [==============================] - 49s 226ms/step - loss: 4.4351e-05 - accuracy: 1.0000 - val_loss: 2.6464 - val_accuracy: 0.7296\n",
            "Epoch 31/100\n",
            "216/216 [==============================] - 49s 229ms/step - loss: 3.7674e-05 - accuracy: 1.0000 - val_loss: 2.6794 - val_accuracy: 0.7307\n",
            "Epoch 32/100\n",
            "216/216 [==============================] - 51s 235ms/step - loss: 3.2952e-05 - accuracy: 1.0000 - val_loss: 2.7043 - val_accuracy: 0.7313\n",
            "Epoch 33/100\n",
            "216/216 [==============================] - 50s 231ms/step - loss: 2.8286e-05 - accuracy: 1.0000 - val_loss: 2.7343 - val_accuracy: 0.7313\n",
            "Epoch 34/100\n",
            "216/216 [==============================] - 50s 232ms/step - loss: 2.4791e-05 - accuracy: 1.0000 - val_loss: 2.7568 - val_accuracy: 0.7331\n",
            "Epoch 35/100\n",
            "216/216 [==============================] - 50s 233ms/step - loss: 2.1372e-05 - accuracy: 1.0000 - val_loss: 2.7831 - val_accuracy: 0.7325\n",
            "Epoch 36/100\n",
            "216/216 [==============================] - 53s 245ms/step - loss: 1.8665e-05 - accuracy: 1.0000 - val_loss: 2.8233 - val_accuracy: 0.7302\n",
            "Epoch 37/100\n",
            "216/216 [==============================] - 49s 226ms/step - loss: 1.6488e-05 - accuracy: 1.0000 - val_loss: 2.8418 - val_accuracy: 0.7302\n",
            "Epoch 38/100\n",
            "216/216 [==============================] - 50s 230ms/step - loss: 1.4160e-05 - accuracy: 1.0000 - val_loss: 2.8647 - val_accuracy: 0.7319\n",
            "Epoch 39/100\n",
            "216/216 [==============================] - 49s 229ms/step - loss: 1.2545e-05 - accuracy: 1.0000 - val_loss: 2.8890 - val_accuracy: 0.7307\n",
            "Epoch 40/100\n",
            "216/216 [==============================] - 49s 227ms/step - loss: 1.1007e-05 - accuracy: 1.0000 - val_loss: 2.9219 - val_accuracy: 0.7307\n",
            "Epoch 41/100\n",
            "216/216 [==============================] - 48s 223ms/step - loss: 9.6074e-06 - accuracy: 1.0000 - val_loss: 2.9450 - val_accuracy: 0.7296\n",
            "Epoch 42/100\n",
            "216/216 [==============================] - 49s 227ms/step - loss: 8.4822e-06 - accuracy: 1.0000 - val_loss: 2.9681 - val_accuracy: 0.7307\n",
            "Epoch 43/100\n",
            "216/216 [==============================] - 50s 231ms/step - loss: 7.4044e-06 - accuracy: 1.0000 - val_loss: 2.9960 - val_accuracy: 0.7336\n",
            "Epoch 44/100\n",
            "216/216 [==============================] - 49s 225ms/step - loss: 6.5077e-06 - accuracy: 1.0000 - val_loss: 3.0192 - val_accuracy: 0.7325\n",
            "Epoch 45/100\n",
            "216/216 [==============================] - 49s 228ms/step - loss: 5.8551e-06 - accuracy: 1.0000 - val_loss: 3.0390 - val_accuracy: 0.7325\n",
            "Epoch 46/100\n",
            "216/216 [==============================] - 49s 228ms/step - loss: 5.0095e-06 - accuracy: 1.0000 - val_loss: 3.0682 - val_accuracy: 0.7331\n",
            "Epoch 47/100\n",
            "216/216 [==============================] - 49s 229ms/step - loss: 4.5185e-06 - accuracy: 1.0000 - val_loss: 3.0896 - val_accuracy: 0.7331\n",
            "Epoch 48/100\n",
            "216/216 [==============================] - 51s 237ms/step - loss: 3.9281e-06 - accuracy: 1.0000 - val_loss: 3.1215 - val_accuracy: 0.7360\n",
            "Epoch 49/100\n",
            "216/216 [==============================] - 54s 249ms/step - loss: 3.4649e-06 - accuracy: 1.0000 - val_loss: 3.1456 - val_accuracy: 0.7336\n",
            "Epoch 50/100\n",
            "216/216 [==============================] - 51s 238ms/step - loss: 3.0730e-06 - accuracy: 1.0000 - val_loss: 3.1631 - val_accuracy: 0.7331\n",
            "Epoch 51/100\n",
            "216/216 [==============================] - 51s 236ms/step - loss: 2.7037e-06 - accuracy: 1.0000 - val_loss: 3.1912 - val_accuracy: 0.7336\n",
            "Epoch 52/100\n",
            "216/216 [==============================] - 52s 240ms/step - loss: 2.3987e-06 - accuracy: 1.0000 - val_loss: 3.2161 - val_accuracy: 0.7336\n",
            "Epoch 53/100\n",
            "216/216 [==============================] - 49s 225ms/step - loss: 2.1069e-06 - accuracy: 1.0000 - val_loss: 3.2410 - val_accuracy: 0.7336\n",
            "Epoch 54/100\n",
            "216/216 [==============================] - 49s 226ms/step - loss: 1.8594e-06 - accuracy: 1.0000 - val_loss: 3.2616 - val_accuracy: 0.7342\n",
            "Epoch 55/100\n",
            "216/216 [==============================] - 48s 222ms/step - loss: 1.6511e-06 - accuracy: 1.0000 - val_loss: 3.2938 - val_accuracy: 0.7342\n",
            "Epoch 56/100\n",
            "216/216 [==============================] - 48s 222ms/step - loss: 1.4578e-06 - accuracy: 1.0000 - val_loss: 3.3145 - val_accuracy: 0.7336\n",
            "Epoch 57/100\n",
            "216/216 [==============================] - 50s 230ms/step - loss: 1.2916e-06 - accuracy: 1.0000 - val_loss: 3.3305 - val_accuracy: 0.7336\n",
            "Epoch 58/100\n",
            "216/216 [==============================] - 51s 236ms/step - loss: 1.1533e-06 - accuracy: 1.0000 - val_loss: 3.3564 - val_accuracy: 0.7331\n",
            "Epoch 59/100\n",
            "216/216 [==============================] - 51s 235ms/step - loss: 1.0174e-06 - accuracy: 1.0000 - val_loss: 3.3842 - val_accuracy: 0.7354\n",
            "Epoch 60/100\n",
            "216/216 [==============================] - 51s 235ms/step - loss: 8.9735e-07 - accuracy: 1.0000 - val_loss: 3.4064 - val_accuracy: 0.7307\n",
            "Epoch 61/100\n",
            "216/216 [==============================] - 54s 249ms/step - loss: 7.9506e-07 - accuracy: 1.0000 - val_loss: 3.4272 - val_accuracy: 0.7331\n",
            "Epoch 62/100\n",
            "216/216 [==============================] - 51s 236ms/step - loss: 7.0859e-07 - accuracy: 1.0000 - val_loss: 3.4598 - val_accuracy: 0.7336\n",
            "Epoch 63/100\n",
            "216/216 [==============================] - 52s 243ms/step - loss: 6.2858e-07 - accuracy: 1.0000 - val_loss: 3.4770 - val_accuracy: 0.7319\n",
            "Epoch 64/100\n",
            "216/216 [==============================] - 52s 241ms/step - loss: 5.5923e-07 - accuracy: 1.0000 - val_loss: 3.4968 - val_accuracy: 0.7325\n",
            "Epoch 65/100\n",
            "216/216 [==============================] - 48s 221ms/step - loss: 4.9175e-07 - accuracy: 1.0000 - val_loss: 3.5265 - val_accuracy: 0.7331\n",
            "Epoch 66/100\n",
            "216/216 [==============================] - 48s 223ms/step - loss: 4.4435e-07 - accuracy: 1.0000 - val_loss: 3.5452 - val_accuracy: 0.7354\n",
            "Epoch 67/100\n",
            "216/216 [==============================] - 48s 224ms/step - loss: 3.9337e-07 - accuracy: 1.0000 - val_loss: 3.5749 - val_accuracy: 0.7348\n",
            "Epoch 68/100\n",
            "216/216 [==============================] - 48s 223ms/step - loss: 3.5024e-07 - accuracy: 1.0000 - val_loss: 3.6008 - val_accuracy: 0.7342\n",
            "Epoch 69/100\n",
            "216/216 [==============================] - 48s 221ms/step - loss: 3.1230e-07 - accuracy: 1.0000 - val_loss: 3.6182 - val_accuracy: 0.7342\n",
            "Epoch 70/100\n",
            "216/216 [==============================] - 47s 218ms/step - loss: 2.7832e-07 - accuracy: 1.0000 - val_loss: 3.6379 - val_accuracy: 0.7348\n",
            "Epoch 71/100\n",
            "216/216 [==============================] - 47s 216ms/step - loss: 2.4795e-07 - accuracy: 1.0000 - val_loss: 3.6641 - val_accuracy: 0.7325\n",
            "Epoch 72/100\n",
            "216/216 [==============================] - 46s 215ms/step - loss: 2.2173e-07 - accuracy: 1.0000 - val_loss: 3.6920 - val_accuracy: 0.7348\n",
            "Epoch 73/100\n",
            "216/216 [==============================] - 49s 228ms/step - loss: 1.9857e-07 - accuracy: 1.0000 - val_loss: 3.7123 - val_accuracy: 0.7342\n",
            "Epoch 74/100\n",
            "216/216 [==============================] - 47s 216ms/step - loss: 1.7648e-07 - accuracy: 1.0000 - val_loss: 3.7350 - val_accuracy: 0.7354\n",
            "Epoch 75/100\n",
            "216/216 [==============================] - 46s 215ms/step - loss: 1.5815e-07 - accuracy: 1.0000 - val_loss: 3.7533 - val_accuracy: 0.7348\n",
            "Epoch 76/100\n",
            "216/216 [==============================] - 47s 216ms/step - loss: 1.4087e-07 - accuracy: 1.0000 - val_loss: 3.7833 - val_accuracy: 0.7354\n",
            "Epoch 77/100\n",
            "216/216 [==============================] - 47s 216ms/step - loss: 1.2725e-07 - accuracy: 1.0000 - val_loss: 3.7983 - val_accuracy: 0.7365\n",
            "Epoch 78/100\n",
            "216/216 [==============================] - 47s 216ms/step - loss: 1.1274e-07 - accuracy: 1.0000 - val_loss: 3.8339 - val_accuracy: 0.7360\n",
            "Epoch 79/100\n",
            "216/216 [==============================] - 47s 217ms/step - loss: 1.0245e-07 - accuracy: 1.0000 - val_loss: 3.8487 - val_accuracy: 0.7348\n",
            "Epoch 80/100\n",
            "216/216 [==============================] - 47s 217ms/step - loss: 9.0455e-08 - accuracy: 1.0000 - val_loss: 3.8704 - val_accuracy: 0.7360\n",
            "Epoch 81/100\n",
            "216/216 [==============================] - 47s 217ms/step - loss: 8.0238e-08 - accuracy: 1.0000 - val_loss: 3.8926 - val_accuracy: 0.7342\n",
            "Epoch 82/100\n",
            "216/216 [==============================] - 47s 217ms/step - loss: 7.2575e-08 - accuracy: 1.0000 - val_loss: 3.9137 - val_accuracy: 0.7348\n",
            "Epoch 83/100\n",
            "216/216 [==============================] - 47s 217ms/step - loss: 6.4808e-08 - accuracy: 1.0000 - val_loss: 3.9419 - val_accuracy: 0.7354\n",
            "Epoch 84/100\n",
            "216/216 [==============================] - 48s 220ms/step - loss: 5.8233e-08 - accuracy: 1.0000 - val_loss: 3.9558 - val_accuracy: 0.7348\n",
            "Epoch 85/100\n",
            "216/216 [==============================] - 48s 220ms/step - loss: 5.2313e-08 - accuracy: 1.0000 - val_loss: 3.9776 - val_accuracy: 0.7348\n",
            "Epoch 86/100\n",
            "216/216 [==============================] - 50s 232ms/step - loss: 4.6824e-08 - accuracy: 1.0000 - val_loss: 4.0046 - val_accuracy: 0.7348\n",
            "Epoch 87/100\n",
            "216/216 [==============================] - 48s 222ms/step - loss: 4.1888e-08 - accuracy: 1.0000 - val_loss: 4.0260 - val_accuracy: 0.7348\n",
            "Epoch 88/100\n",
            "216/216 [==============================] - 48s 220ms/step - loss: 3.7953e-08 - accuracy: 1.0000 - val_loss: 4.0465 - val_accuracy: 0.7348\n",
            "Epoch 89/100\n",
            "216/216 [==============================] - 48s 220ms/step - loss: 3.3966e-08 - accuracy: 1.0000 - val_loss: 4.0683 - val_accuracy: 0.7348\n",
            "Epoch 90/100\n",
            "216/216 [==============================] - 47s 219ms/step - loss: 3.0376e-08 - accuracy: 1.0000 - val_loss: 4.0934 - val_accuracy: 0.7348\n",
            "Epoch 91/100\n",
            "216/216 [==============================] - 47s 216ms/step - loss: 2.6545e-08 - accuracy: 1.0000 - val_loss: 4.1104 - val_accuracy: 0.7354\n",
            "Epoch 92/100\n",
            "216/216 [==============================] - 47s 216ms/step - loss: 2.3490e-08 - accuracy: 1.0000 - val_loss: 4.1295 - val_accuracy: 0.7354\n",
            "Epoch 93/100\n",
            "216/216 [==============================] - 47s 217ms/step - loss: 2.1522e-08 - accuracy: 1.0000 - val_loss: 4.1490 - val_accuracy: 0.7354\n",
            "Epoch 94/100\n",
            "216/216 [==============================] - 47s 216ms/step - loss: 1.8588e-08 - accuracy: 1.0000 - val_loss: 4.1595 - val_accuracy: 0.7365\n",
            "Epoch 95/100\n",
            "216/216 [==============================] - 47s 216ms/step - loss: 1.6741e-08 - accuracy: 1.0000 - val_loss: 4.1869 - val_accuracy: 0.7360\n",
            "Epoch 96/100\n",
            "216/216 [==============================] - 47s 216ms/step - loss: 1.4946e-08 - accuracy: 1.0000 - val_loss: 4.2070 - val_accuracy: 0.7348\n",
            "Epoch 97/100\n",
            "216/216 [==============================] - 47s 216ms/step - loss: 1.3652e-08 - accuracy: 1.0000 - val_loss: 4.2240 - val_accuracy: 0.7360\n",
            "Epoch 98/100\n",
            "216/216 [==============================] - 47s 216ms/step - loss: 1.1736e-08 - accuracy: 1.0000 - val_loss: 4.2414 - val_accuracy: 0.7360\n",
            "Epoch 99/100\n",
            "216/216 [==============================] - 49s 227ms/step - loss: 1.0217e-08 - accuracy: 1.0000 - val_loss: 4.2682 - val_accuracy: 0.7348\n",
            "Epoch 100/100\n",
            "216/216 [==============================] - 46s 215ms/step - loss: 9.7687e-09 - accuracy: 1.0000 - val_loss: 4.2763 - val_accuracy: 0.7348\n"
          ],
          "name": "stdout"
        },
        {
          "output_type": "display_data",
          "data": {
            "image/png": "[encoded data removed]",
            "text/plain": [
              "<Figure size 432x288 with 2 Axes>"
            ]
          },
          "metadata": {
            "tags": [],
            "needs_background": "light"
          }
        }
      ]
    },
    {
      "cell_type": "code",
      "metadata": {
        "id": "udZ4aiTMbJ7K",
        "colab_type": "code",
        "colab": {}
      },
      "source": [
        "test_image = []\n",
        "img = image.load_img('/content/drive/Shared drives/New Markets/Aman/Project Neo/temp_2.jpg',target_size=(56,56,3), grayscale=False)\n",
        "img = image.img_to_array(img)\n",
        "img = img/255\n",
        "test_image.append(img)\n",
        "test = np.array(test_image)\n",
        "\n"
      ],
      "execution_count": 108,
      "outputs": []
    },
    {
      "cell_type": "code",
      "metadata": {
        "id": "dZRm8OnI3ooh",
        "colab_type": "code",
        "colab": {
          "base_uri": "https://localhost:8080/",
          "height": 284
        },
        "outputId": "330e8d16-f627-4f4e-a871-ccc1c9b370de"
      },
      "source": [
        "plt.imshow(img)"
      ],
      "execution_count": 109,
      "outputs": [
        {
          "output_type": "execute_result",
          "data": {
            "text/plain": [
              "<matplotlib.image.AxesImage at 0x7fb6d5352c50>"
            ]
          },
          "metadata": {
            "tags": []
          },
          "execution_count": 109
        },
        {
          "output_type": "display_data",
          "data": {
            "image/png": "[encoded data removed]",
            "text/plain": [
              "<Figure size 432x288 with 1 Axes>"
            ]
          },
          "metadata": {
            "tags": [],
            "needs_background": "light"
          }
        }
      ]
    },
    {
      "cell_type": "code",
      "metadata": {
        "id": "sLY5kL-gbPw-",
        "colab_type": "code",
        "colab": {}
      },
      "source": [
        "prediction = model[1].predict_classes(test)"
      ],
      "execution_count": 110,
      "outputs": []
    },
    {
      "cell_type": "code",
      "metadata": {
        "id": "XGtmmWUBdMSU",
        "colab_type": "code",
        "colab": {
          "base_uri": "https://localhost:8080/",
          "height": 34
        },
        "outputId": "7e17c924-a7b9-4f40-d54f-75d728503dde"
      },
      "source": [
        "prediction"
      ],
      "execution_count": 111,
      "outputs": [
        {
          "output_type": "execute_result",
          "data": {
            "text/plain": [
              "array([0])"
            ]
          },
          "metadata": {
            "tags": []
          },
          "execution_count": 111
        }
      ]
    },
    {
      "cell_type": "code",
      "metadata": {
        "id": "p7TSauSCdhSD",
        "colab_type": "code",
        "colab": {
          "base_uri": "https://localhost:8080/",
          "height": 34
        },
        "outputId": "a192074e-a825-4913-d21f-eff4590b539d"
      },
      "source": [
        "d"
      ],
      "execution_count": 112,
      "outputs": [
        {
          "output_type": "execute_result",
          "data": {
            "text/plain": [
              "{'Dresses&Skirts': 0, 'Handbags': 1, 'Jackets&Blazers': 2, 'Shoes': 3}"
            ]
          },
          "metadata": {
            "tags": []
          },
          "execution_count": 112
        }
      ]
    },
    {
      "cell_type": "code",
      "metadata": {
        "id": "UPBi4fC3djQz",
        "colab_type": "code",
        "colab": {}
      },
      "source": [
        ""
      ],
      "execution_count": null,
      "outputs": []
    },
    {
      "cell_type": "markdown",
      "metadata": {
        "id": "uc6JA4VAjttU",
        "colab_type": "text"
      },
      "source": [
        "## Checking Balance of dataset"
      ]
    },
    {
      "cell_type": "code",
      "metadata": {
        "id": "ZOyzd2Cd85Hz",
        "colab_type": "code",
        "colab": {
          "base_uri": "https://localhost:8080/",
          "height": 34
        },
        "outputId": "9d841e98-e860-4659-960d-06cefa7596f3"
      },
      "source": [
        " try:\n",
        "      img_temp = image.load_img('/content/drive/Shared drives/New Markets/Aman/Project Neo/image-data-med/5e137b40b3e9171fb0ece02e.jpg', target_size=(56,56,3), grayscale=False)\n",
        "except Exception as e:\n",
        "      print(e)"
      ],
      "execution_count": 58,
      "outputs": [
        {
          "output_type": "stream",
          "text": [
            "[Errno 2] No such file or directory: '/content/drive/Shared drives/New Markets/Aman/Project Neo/image-data-med/5e137b40b3e9171fb0ece02e.jpg'\n"
          ],
          "name": "stdout"
        }
      ]
    },
    {
      "cell_type": "code",
      "metadata": {
        "id": "G0IL3BACkNmy",
        "colab_type": "code",
        "colab": {
          "base_uri": "https://localhost:8080/",
          "height": 204
        },
        "outputId": "68b5b985-02ac-4a95-d901-155913cd7d15"
      },
      "source": [
        "train.head()"
      ],
      "execution_count": 59,
      "outputs": [
        {
          "output_type": "execute_result",
          "data": {
            "text/html": [
              "<div>\n",
              "<style scoped>\n",
              "    .dataframe tbody tr th:only-of-type {\n",
              "        vertical-align: middle;\n",
              "    }\n",
              "\n",
              "    .dataframe tbody tr th {\n",
              "        vertical-align: top;\n",
              "    }\n",
              "\n",
              "    .dataframe thead th {\n",
              "        text-align: right;\n",
              "    }\n",
              "</style>\n",
              "<table border=\"1\" class=\"dataframe\">\n",
              "  <thead>\n",
              "    <tr style=\"text-align: right;\">\n",
              "      <th></th>\n",
              "      <th>category</th>\n",
              "      <th>image_filename</th>\n",
              "    </tr>\n",
              "  </thead>\n",
              "  <tbody>\n",
              "    <tr>\n",
              "      <th>0</th>\n",
              "      <td>0</td>\n",
              "      <td>5e17d1919d3b78474d296d12.jpg</td>\n",
              "    </tr>\n",
              "    <tr>\n",
              "      <th>1</th>\n",
              "      <td>0</td>\n",
              "      <td>5e102444138e1891a5c72ecb.jpg</td>\n",
              "    </tr>\n",
              "    <tr>\n",
              "      <th>2</th>\n",
              "      <td>0</td>\n",
              "      <td>5e0e754d9e1559244942bd6e.jpg</td>\n",
              "    </tr>\n",
              "    <tr>\n",
              "      <th>3</th>\n",
              "      <td>0</td>\n",
              "      <td>5e11196de974fbb7c1039027.jpg</td>\n",
              "    </tr>\n",
              "    <tr>\n",
              "      <th>4</th>\n",
              "      <td>0</td>\n",
              "      <td>5e195b3693b46a0f0f3f4354.jpg</td>\n",
              "    </tr>\n",
              "  </tbody>\n",
              "</table>\n",
              "</div>"
            ],
            "text/plain": [
              "   category                image_filename\n",
              "0         0  5e17d1919d3b78474d296d12.jpg\n",
              "1         0  5e102444138e1891a5c72ecb.jpg\n",
              "2         0  5e0e754d9e1559244942bd6e.jpg\n",
              "3         0  5e11196de974fbb7c1039027.jpg\n",
              "4         0  5e195b3693b46a0f0f3f4354.jpg"
            ]
          },
          "metadata": {
            "tags": []
          },
          "execution_count": 59
        }
      ]
    },
    {
      "cell_type": "code",
      "metadata": {
        "id": "zOAaH5RIkV-h",
        "colab_type": "code",
        "colab": {
          "base_uri": "https://localhost:8080/",
          "height": 419
        },
        "outputId": "84f2c270-d092-4aaa-fcf3-c7872ec4f5a0"
      },
      "source": [
        "train.drop(train[train['image_filename'] == '5e137b40b3e9171fb0ece02e.jpg'].index,axis = 0)\n"
      ],
      "execution_count": 63,
      "outputs": [
        {
          "output_type": "execute_result",
          "data": {
            "text/html": [
              "<div>\n",
              "<style scoped>\n",
              "    .dataframe tbody tr th:only-of-type {\n",
              "        vertical-align: middle;\n",
              "    }\n",
              "\n",
              "    .dataframe tbody tr th {\n",
              "        vertical-align: top;\n",
              "    }\n",
              "\n",
              "    .dataframe thead th {\n",
              "        text-align: right;\n",
              "    }\n",
              "</style>\n",
              "<table border=\"1\" class=\"dataframe\">\n",
              "  <thead>\n",
              "    <tr style=\"text-align: right;\">\n",
              "      <th></th>\n",
              "      <th>category</th>\n",
              "      <th>image_filename</th>\n",
              "    </tr>\n",
              "  </thead>\n",
              "  <tbody>\n",
              "    <tr>\n",
              "      <th>0</th>\n",
              "      <td>0</td>\n",
              "      <td>5e17d1919d3b78474d296d12.jpg</td>\n",
              "    </tr>\n",
              "    <tr>\n",
              "      <th>1</th>\n",
              "      <td>0</td>\n",
              "      <td>5e102444138e1891a5c72ecb.jpg</td>\n",
              "    </tr>\n",
              "    <tr>\n",
              "      <th>2</th>\n",
              "      <td>0</td>\n",
              "      <td>5e0e754d9e1559244942bd6e.jpg</td>\n",
              "    </tr>\n",
              "    <tr>\n",
              "      <th>3</th>\n",
              "      <td>0</td>\n",
              "      <td>5e11196de974fbb7c1039027.jpg</td>\n",
              "    </tr>\n",
              "    <tr>\n",
              "      <th>4</th>\n",
              "      <td>0</td>\n",
              "      <td>5e195b3693b46a0f0f3f4354.jpg</td>\n",
              "    </tr>\n",
              "    <tr>\n",
              "      <th>...</th>\n",
              "      <td>...</td>\n",
              "      <td>...</td>\n",
              "    </tr>\n",
              "    <tr>\n",
              "      <th>9995</th>\n",
              "      <td>3</td>\n",
              "      <td>5e1272e72cc51543596b6a61.jpg</td>\n",
              "    </tr>\n",
              "    <tr>\n",
              "      <th>9996</th>\n",
              "      <td>3</td>\n",
              "      <td>5e17dd7619c1572b80f1d8a8.jpg</td>\n",
              "    </tr>\n",
              "    <tr>\n",
              "      <th>9997</th>\n",
              "      <td>3</td>\n",
              "      <td>5e190bf821cd0a6ca2f3e09a.jpg</td>\n",
              "    </tr>\n",
              "    <tr>\n",
              "      <th>9998</th>\n",
              "      <td>3</td>\n",
              "      <td>5e1515fb318740ead388740a.jpg</td>\n",
              "    </tr>\n",
              "    <tr>\n",
              "      <th>9999</th>\n",
              "      <td>3</td>\n",
              "      <td>5e18c1f56a7fba3c61e58ed1.jpg</td>\n",
              "    </tr>\n",
              "  </tbody>\n",
              "</table>\n",
              "<p>9999 rows × 2 columns</p>\n",
              "</div>"
            ],
            "text/plain": [
              "      category                image_filename\n",
              "0            0  5e17d1919d3b78474d296d12.jpg\n",
              "1            0  5e102444138e1891a5c72ecb.jpg\n",
              "2            0  5e0e754d9e1559244942bd6e.jpg\n",
              "3            0  5e11196de974fbb7c1039027.jpg\n",
              "4            0  5e195b3693b46a0f0f3f4354.jpg\n",
              "...        ...                           ...\n",
              "9995         3  5e1272e72cc51543596b6a61.jpg\n",
              "9996         3  5e17dd7619c1572b80f1d8a8.jpg\n",
              "9997         3  5e190bf821cd0a6ca2f3e09a.jpg\n",
              "9998         3  5e1515fb318740ead388740a.jpg\n",
              "9999         3  5e18c1f56a7fba3c61e58ed1.jpg\n",
              "\n",
              "[9999 rows x 2 columns]"
            ]
          },
          "metadata": {
            "tags": []
          },
          "execution_count": 63
        }
      ]
    },
    {
      "cell_type": "code",
      "metadata": {
        "id": "Z5xO92eJkc3C",
        "colab_type": "code",
        "colab": {
          "base_uri": "https://localhost:8080/",
          "height": 34
        },
        "outputId": "e067e82e-35d2-4389-e909-d06ddc3c2500"
      },
      "source": [
        "import os\n",
        "img_list = os.listdir(\"/content/drive/Shared drives/New Markets/Aman/Project Neo/image-data-med/\")\n",
        "len(img_list)"
      ],
      "execution_count": 66,
      "outputs": [
        {
          "output_type": "execute_result",
          "data": {
            "text/plain": [
              "8643"
            ]
          },
          "metadata": {
            "tags": []
          },
          "execution_count": 66
        }
      ]
    },
    {
      "cell_type": "code",
      "metadata": {
        "id": "HGgCpgqglj9v",
        "colab_type": "code",
        "colab": {}
      },
      "source": [
        "train['flag'] = train['image_filename'].apply(lambda x: True if x in img_list else False)"
      ],
      "execution_count": 67,
      "outputs": []
    },
    {
      "cell_type": "code",
      "metadata": {
        "id": "ICSv85-CmYhy",
        "colab_type": "code",
        "colab": {
          "base_uri": "https://localhost:8080/",
          "height": 204
        },
        "outputId": "1e2e79eb-e639-409b-cf2b-6c06f714f6b2"
      },
      "source": [
        "train_cleaned = train[train['flag'] == True]\n",
        "train_cleaned.head()"
      ],
      "execution_count": 71,
      "outputs": [
        {
          "output_type": "execute_result",
          "data": {
            "text/html": [
              "<div>\n",
              "<style scoped>\n",
              "    .dataframe tbody tr th:only-of-type {\n",
              "        vertical-align: middle;\n",
              "    }\n",
              "\n",
              "    .dataframe tbody tr th {\n",
              "        vertical-align: top;\n",
              "    }\n",
              "\n",
              "    .dataframe thead th {\n",
              "        text-align: right;\n",
              "    }\n",
              "</style>\n",
              "<table border=\"1\" class=\"dataframe\">\n",
              "  <thead>\n",
              "    <tr style=\"text-align: right;\">\n",
              "      <th></th>\n",
              "      <th>category</th>\n",
              "      <th>image_filename</th>\n",
              "      <th>flag</th>\n",
              "    </tr>\n",
              "  </thead>\n",
              "  <tbody>\n",
              "    <tr>\n",
              "      <th>0</th>\n",
              "      <td>0</td>\n",
              "      <td>5e17d1919d3b78474d296d12.jpg</td>\n",
              "      <td>True</td>\n",
              "    </tr>\n",
              "    <tr>\n",
              "      <th>1</th>\n",
              "      <td>0</td>\n",
              "      <td>5e102444138e1891a5c72ecb.jpg</td>\n",
              "      <td>True</td>\n",
              "    </tr>\n",
              "    <tr>\n",
              "      <th>2</th>\n",
              "      <td>0</td>\n",
              "      <td>5e0e754d9e1559244942bd6e.jpg</td>\n",
              "      <td>True</td>\n",
              "    </tr>\n",
              "    <tr>\n",
              "      <th>3</th>\n",
              "      <td>0</td>\n",
              "      <td>5e11196de974fbb7c1039027.jpg</td>\n",
              "      <td>True</td>\n",
              "    </tr>\n",
              "    <tr>\n",
              "      <th>4</th>\n",
              "      <td>0</td>\n",
              "      <td>5e195b3693b46a0f0f3f4354.jpg</td>\n",
              "      <td>True</td>\n",
              "    </tr>\n",
              "  </tbody>\n",
              "</table>\n",
              "</div>"
            ],
            "text/plain": [
              "   category                image_filename  flag\n",
              "0         0  5e17d1919d3b78474d296d12.jpg  True\n",
              "1         0  5e102444138e1891a5c72ecb.jpg  True\n",
              "2         0  5e0e754d9e1559244942bd6e.jpg  True\n",
              "3         0  5e11196de974fbb7c1039027.jpg  True\n",
              "4         0  5e195b3693b46a0f0f3f4354.jpg  True"
            ]
          },
          "metadata": {
            "tags": []
          },
          "execution_count": 71
        }
      ]
    },
    {
      "cell_type": "code",
      "metadata": {
        "id": "Aw2fP0trmapB",
        "colab_type": "code",
        "colab": {
          "base_uri": "https://localhost:8080/",
          "height": 34
        },
        "outputId": "569d79e1-360f-4b7c-f232-c6561b2aab20"
      },
      "source": [
        "train_cleaned.shape"
      ],
      "execution_count": 72,
      "outputs": [
        {
          "output_type": "execute_result",
          "data": {
            "text/plain": [
              "(8634, 3)"
            ]
          },
          "metadata": {
            "tags": []
          },
          "execution_count": 72
        }
      ]
    },
    {
      "cell_type": "code",
      "metadata": {
        "id": "DtEz285TmuCz",
        "colab_type": "code",
        "colab": {
          "base_uri": "https://localhost:8080/",
          "height": 102
        },
        "outputId": "f89c6a9c-0d93-474d-8f3f-3ec250e07fe5"
      },
      "source": [
        "train_cleaned['category'].value_counts()"
      ],
      "execution_count": 76,
      "outputs": [
        {
          "output_type": "execute_result",
          "data": {
            "text/plain": [
              "0    2217\n",
              "2    2179\n",
              "3    2159\n",
              "1    2079\n",
              "Name: category, dtype: int64"
            ]
          },
          "metadata": {
            "tags": []
          },
          "execution_count": 76
        }
      ]
    },
    {
      "cell_type": "code",
      "metadata": {
        "id": "WLNPlmMymxcd",
        "colab_type": "code",
        "colab": {
          "base_uri": "https://localhost:8080/",
          "height": 34
        },
        "outputId": "ffe95612-e8fe-4a30-d597-9a0141619b37"
      },
      "source": [
        "len(train_image)"
      ],
      "execution_count": 78,
      "outputs": [
        {
          "output_type": "execute_result",
          "data": {
            "text/plain": [
              "10000"
            ]
          },
          "metadata": {
            "tags": []
          },
          "execution_count": 78
        }
      ]
    },
    {
      "cell_type": "code",
      "metadata": {
        "id": "5x3y9-SPnEsM",
        "colab_type": "code",
        "colab": {}
      },
      "source": [
        ""
      ],
      "execution_count": null,
      "outputs": []
    }
  ]
}